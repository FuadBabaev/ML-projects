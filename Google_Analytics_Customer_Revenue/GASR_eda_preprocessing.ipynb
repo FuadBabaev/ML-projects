{
 "cells": [
  {
   "cell_type": "code",
   "execution_count": 51,
   "metadata": {},
   "outputs": [
    {
     "data": {
      "text/html": [
       "        <script type=\"text/javascript\">\n",
       "        window.PlotlyConfig = {MathJaxConfig: 'local'};\n",
       "        if (window.MathJax && window.MathJax.Hub && window.MathJax.Hub.Config) {window.MathJax.Hub.Config({SVG: {font: \"STIX-Web\"}});}\n",
       "        if (typeof require !== 'undefined') {\n",
       "        require.undef(\"plotly\");\n",
       "        requirejs.config({\n",
       "            paths: {\n",
       "                'plotly': ['https://cdn.plot.ly/plotly-2.27.0.min']\n",
       "            }\n",
       "        });\n",
       "        require(['plotly'], function(Plotly) {\n",
       "            window._Plotly = Plotly;\n",
       "        });\n",
       "        }\n",
       "        </script>\n",
       "        "
      ]
     },
     "metadata": {},
     "output_type": "display_data"
    }
   ],
   "source": [
    "import warnings\n",
    "warnings.filterwarnings('ignore')\n",
    "\n",
    "import pandas as pd \n",
    "import numpy as np \n",
    "from scipy import stats\n",
    "\n",
    "import matplotlib.pyplot as plt \n",
    "import seaborn as sns \n",
    "\n",
    "import plotly.offline as plty\n",
    "from plotly import tools\n",
    "import plotly.express as px\n",
    "from plotly.offline import init_notebook_mode, iplot, plot \n",
    "import plotly.graph_objs as go \n",
    "\n",
    "import json\n",
    "plt.style.use('fivethirtyeight')\n",
    "init_notebook_mode(connected=True)\n",
    "sns.set_style(\"whitegrid\")\n",
    "sns.set_context(\"paper\")\n",
    "\n",
    "from datetime import datetime"
   ]
  },
  {
   "cell_type": "markdown",
   "metadata": {},
   "source": [
    "### Предобработка данных"
   ]
  },
  {
   "cell_type": "code",
   "execution_count": 52,
   "metadata": {},
   "outputs": [
    {
     "name": "stdout",
     "output_type": "stream",
     "text": [
      "Shape of train dataframe : (633210, 35)\n",
      "Shape of test dataframe : (164212, 35)\n"
     ]
    }
   ],
   "source": [
    "df_train = pd.read_parquet(\"train.parquet\")\n",
    "df_test = pd.read_parquet(\"test.parquet\")\n",
    "df_test['totals_transactionRevenue'] = np.nan\n",
    "\n",
    "print(f\"Shape of train dataframe : {df_train.shape}\")\n",
    "print(f\"Shape of test dataframe : {df_test.shape}\")"
   ]
  },
  {
   "cell_type": "code",
   "execution_count": 53,
   "metadata": {},
   "outputs": [
    {
     "data": {
      "text/html": [
       "<div>\n",
       "<style scoped>\n",
       "    .dataframe tbody tr th:only-of-type {\n",
       "        vertical-align: middle;\n",
       "    }\n",
       "\n",
       "    .dataframe tbody tr th {\n",
       "        vertical-align: top;\n",
       "    }\n",
       "\n",
       "    .dataframe thead th {\n",
       "        text-align: right;\n",
       "    }\n",
       "</style>\n",
       "<table border=\"1\" class=\"dataframe\">\n",
       "  <thead>\n",
       "    <tr style=\"text-align: right;\">\n",
       "      <th></th>\n",
       "      <th>channelGrouping</th>\n",
       "      <th>date</th>\n",
       "      <th>fullVisitorId</th>\n",
       "      <th>sessionId</th>\n",
       "      <th>visitId</th>\n",
       "      <th>visitNumber</th>\n",
       "      <th>visitStartTime</th>\n",
       "      <th>device_browser</th>\n",
       "      <th>device_operatingSystem</th>\n",
       "      <th>device_isMobile</th>\n",
       "      <th>device_deviceCategory</th>\n",
       "      <th>geoNetwork_continent</th>\n",
       "      <th>geoNetwork_subContinent</th>\n",
       "      <th>geoNetwork_country</th>\n",
       "      <th>geoNetwork_region</th>\n",
       "      <th>geoNetwork_metro</th>\n",
       "      <th>geoNetwork_city</th>\n",
       "      <th>geoNetwork_networkDomain</th>\n",
       "      <th>totals_hits</th>\n",
       "      <th>totals_pageviews</th>\n",
       "      <th>totals_bounces</th>\n",
       "      <th>totals_newVisits</th>\n",
       "      <th>totals_transactionRevenue</th>\n",
       "      <th>trafficSource_campaign</th>\n",
       "      <th>trafficSource_source</th>\n",
       "      <th>trafficSource_medium</th>\n",
       "      <th>trafficSource_keyword</th>\n",
       "      <th>trafficSource_isTrueDirect</th>\n",
       "      <th>trafficSource_referralPath</th>\n",
       "      <th>trafficSource_adwordsClickInfo.page</th>\n",
       "      <th>trafficSource_adwordsClickInfo.slot</th>\n",
       "      <th>trafficSource_adwordsClickInfo.gclId</th>\n",
       "      <th>trafficSource_adwordsClickInfo.adNetworkType</th>\n",
       "      <th>trafficSource_adwordsClickInfo.isVideoAd</th>\n",
       "      <th>trafficSource_adContent</th>\n",
       "    </tr>\n",
       "  </thead>\n",
       "  <tbody>\n",
       "    <tr>\n",
       "      <th>0</th>\n",
       "      <td>Organic Search</td>\n",
       "      <td>20160902</td>\n",
       "      <td>1131660440785968503</td>\n",
       "      <td>1131660440785968503_1472830385</td>\n",
       "      <td>1472830385</td>\n",
       "      <td>1</td>\n",
       "      <td>1472830385</td>\n",
       "      <td>Chrome</td>\n",
       "      <td>Windows</td>\n",
       "      <td>False</td>\n",
       "      <td>desktop</td>\n",
       "      <td>Asia</td>\n",
       "      <td>Western Asia</td>\n",
       "      <td>Turkey</td>\n",
       "      <td>Izmir</td>\n",
       "      <td>(not set)</td>\n",
       "      <td>Izmir</td>\n",
       "      <td>ttnet.com.tr</td>\n",
       "      <td>1</td>\n",
       "      <td>1</td>\n",
       "      <td>1</td>\n",
       "      <td>1</td>\n",
       "      <td>NaN</td>\n",
       "      <td>(not set)</td>\n",
       "      <td>google</td>\n",
       "      <td>organic</td>\n",
       "      <td>(not provided)</td>\n",
       "      <td>None</td>\n",
       "      <td>None</td>\n",
       "      <td>None</td>\n",
       "      <td>None</td>\n",
       "      <td>None</td>\n",
       "      <td>None</td>\n",
       "      <td>None</td>\n",
       "      <td>None</td>\n",
       "    </tr>\n",
       "    <tr>\n",
       "      <th>1</th>\n",
       "      <td>Organic Search</td>\n",
       "      <td>20160902</td>\n",
       "      <td>377306020877927890</td>\n",
       "      <td>377306020877927890_1472880147</td>\n",
       "      <td>1472880147</td>\n",
       "      <td>1</td>\n",
       "      <td>1472880147</td>\n",
       "      <td>Firefox</td>\n",
       "      <td>Macintosh</td>\n",
       "      <td>False</td>\n",
       "      <td>desktop</td>\n",
       "      <td>Oceania</td>\n",
       "      <td>Australasia</td>\n",
       "      <td>Australia</td>\n",
       "      <td>not available in demo dataset</td>\n",
       "      <td>not available in demo dataset</td>\n",
       "      <td>not available in demo dataset</td>\n",
       "      <td>dodo.net.au</td>\n",
       "      <td>1</td>\n",
       "      <td>1</td>\n",
       "      <td>1</td>\n",
       "      <td>1</td>\n",
       "      <td>NaN</td>\n",
       "      <td>(not set)</td>\n",
       "      <td>google</td>\n",
       "      <td>organic</td>\n",
       "      <td>(not provided)</td>\n",
       "      <td>None</td>\n",
       "      <td>None</td>\n",
       "      <td>None</td>\n",
       "      <td>None</td>\n",
       "      <td>None</td>\n",
       "      <td>None</td>\n",
       "      <td>None</td>\n",
       "      <td>None</td>\n",
       "    </tr>\n",
       "    <tr>\n",
       "      <th>2</th>\n",
       "      <td>Organic Search</td>\n",
       "      <td>20160902</td>\n",
       "      <td>3895546263509774583</td>\n",
       "      <td>3895546263509774583_1472865386</td>\n",
       "      <td>1472865386</td>\n",
       "      <td>1</td>\n",
       "      <td>1472865386</td>\n",
       "      <td>Chrome</td>\n",
       "      <td>Windows</td>\n",
       "      <td>False</td>\n",
       "      <td>desktop</td>\n",
       "      <td>Europe</td>\n",
       "      <td>Southern Europe</td>\n",
       "      <td>Spain</td>\n",
       "      <td>Community of Madrid</td>\n",
       "      <td>(not set)</td>\n",
       "      <td>Madrid</td>\n",
       "      <td>unknown.unknown</td>\n",
       "      <td>1</td>\n",
       "      <td>1</td>\n",
       "      <td>1</td>\n",
       "      <td>1</td>\n",
       "      <td>NaN</td>\n",
       "      <td>(not set)</td>\n",
       "      <td>google</td>\n",
       "      <td>organic</td>\n",
       "      <td>(not provided)</td>\n",
       "      <td>None</td>\n",
       "      <td>None</td>\n",
       "      <td>None</td>\n",
       "      <td>None</td>\n",
       "      <td>None</td>\n",
       "      <td>None</td>\n",
       "      <td>None</td>\n",
       "      <td>None</td>\n",
       "    </tr>\n",
       "  </tbody>\n",
       "</table>\n",
       "</div>"
      ],
      "text/plain": [
       "  channelGrouping      date        fullVisitorId  \\\n",
       "0  Organic Search  20160902  1131660440785968503   \n",
       "1  Organic Search  20160902   377306020877927890   \n",
       "2  Organic Search  20160902  3895546263509774583   \n",
       "\n",
       "                        sessionId     visitId  visitNumber  visitStartTime  \\\n",
       "0  1131660440785968503_1472830385  1472830385            1      1472830385   \n",
       "1   377306020877927890_1472880147  1472880147            1      1472880147   \n",
       "2  3895546263509774583_1472865386  1472865386            1      1472865386   \n",
       "\n",
       "  device_browser device_operatingSystem  device_isMobile  \\\n",
       "0         Chrome                Windows            False   \n",
       "1        Firefox              Macintosh            False   \n",
       "2         Chrome                Windows            False   \n",
       "\n",
       "  device_deviceCategory geoNetwork_continent geoNetwork_subContinent  \\\n",
       "0               desktop                 Asia            Western Asia   \n",
       "1               desktop              Oceania             Australasia   \n",
       "2               desktop               Europe         Southern Europe   \n",
       "\n",
       "  geoNetwork_country              geoNetwork_region  \\\n",
       "0             Turkey                          Izmir   \n",
       "1          Australia  not available in demo dataset   \n",
       "2              Spain            Community of Madrid   \n",
       "\n",
       "                geoNetwork_metro                geoNetwork_city  \\\n",
       "0                      (not set)                          Izmir   \n",
       "1  not available in demo dataset  not available in demo dataset   \n",
       "2                      (not set)                         Madrid   \n",
       "\n",
       "  geoNetwork_networkDomain totals_hits totals_pageviews totals_bounces  \\\n",
       "0             ttnet.com.tr           1                1              1   \n",
       "1              dodo.net.au           1                1              1   \n",
       "2          unknown.unknown           1                1              1   \n",
       "\n",
       "  totals_newVisits  totals_transactionRevenue trafficSource_campaign  \\\n",
       "0                1                        NaN              (not set)   \n",
       "1                1                        NaN              (not set)   \n",
       "2                1                        NaN              (not set)   \n",
       "\n",
       "  trafficSource_source trafficSource_medium trafficSource_keyword  \\\n",
       "0               google              organic        (not provided)   \n",
       "1               google              organic        (not provided)   \n",
       "2               google              organic        (not provided)   \n",
       "\n",
       "  trafficSource_isTrueDirect trafficSource_referralPath  \\\n",
       "0                       None                       None   \n",
       "1                       None                       None   \n",
       "2                       None                       None   \n",
       "\n",
       "  trafficSource_adwordsClickInfo.page trafficSource_adwordsClickInfo.slot  \\\n",
       "0                                None                                None   \n",
       "1                                None                                None   \n",
       "2                                None                                None   \n",
       "\n",
       "  trafficSource_adwordsClickInfo.gclId  \\\n",
       "0                                 None   \n",
       "1                                 None   \n",
       "2                                 None   \n",
       "\n",
       "  trafficSource_adwordsClickInfo.adNetworkType  \\\n",
       "0                                         None   \n",
       "1                                         None   \n",
       "2                                         None   \n",
       "\n",
       "  trafficSource_adwordsClickInfo.isVideoAd trafficSource_adContent  \n",
       "0                                     None                    None  \n",
       "1                                     None                    None  \n",
       "2                                     None                    None  "
      ]
     },
     "execution_count": 53,
     "metadata": {},
     "output_type": "execute_result"
    }
   ],
   "source": [
    "pd.options.display.max_columns = 100\n",
    "df_train.head(3)"
   ]
  },
  {
   "cell_type": "code",
   "execution_count": 54,
   "metadata": {},
   "outputs": [],
   "source": [
    "from utils_EDA import DataDesc"
   ]
  },
  {
   "cell_type": "code",
   "execution_count": 55,
   "metadata": {},
   "outputs": [
    {
     "name": "stdout",
     "output_type": "stream",
     "text": [
      "Dataset Shape: (633210, 35)\n"
     ]
    },
    {
     "data": {
      "text/html": [
       "<div>\n",
       "<style scoped>\n",
       "    .dataframe tbody tr th:only-of-type {\n",
       "        vertical-align: middle;\n",
       "    }\n",
       "\n",
       "    .dataframe tbody tr th {\n",
       "        vertical-align: top;\n",
       "    }\n",
       "\n",
       "    .dataframe thead th {\n",
       "        text-align: right;\n",
       "    }\n",
       "</style>\n",
       "<table border=\"1\" class=\"dataframe\">\n",
       "  <thead>\n",
       "    <tr style=\"text-align: right;\">\n",
       "      <th></th>\n",
       "      <th>Name</th>\n",
       "      <th>dtypes</th>\n",
       "      <th>Missing</th>\n",
       "      <th>Uniques</th>\n",
       "      <th>First Value</th>\n",
       "      <th>Second Value</th>\n",
       "      <th>Third Value</th>\n",
       "    </tr>\n",
       "  </thead>\n",
       "  <tbody>\n",
       "    <tr>\n",
       "      <th>0</th>\n",
       "      <td>channelGrouping</td>\n",
       "      <td>object</td>\n",
       "      <td>0</td>\n",
       "      <td>8</td>\n",
       "      <td>Organic Search</td>\n",
       "      <td>Organic Search</td>\n",
       "      <td>Organic Search</td>\n",
       "    </tr>\n",
       "    <tr>\n",
       "      <th>1</th>\n",
       "      <td>date</td>\n",
       "      <td>int64</td>\n",
       "      <td>0</td>\n",
       "      <td>243</td>\n",
       "      <td>20160902</td>\n",
       "      <td>20160902</td>\n",
       "      <td>20160902</td>\n",
       "    </tr>\n",
       "    <tr>\n",
       "      <th>2</th>\n",
       "      <td>fullVisitorId</td>\n",
       "      <td>object</td>\n",
       "      <td>0</td>\n",
       "      <td>507401</td>\n",
       "      <td>1131660440785968503</td>\n",
       "      <td>377306020877927890</td>\n",
       "      <td>3895546263509774583</td>\n",
       "    </tr>\n",
       "    <tr>\n",
       "      <th>3</th>\n",
       "      <td>sessionId</td>\n",
       "      <td>object</td>\n",
       "      <td>0</td>\n",
       "      <td>632648</td>\n",
       "      <td>1131660440785968503_1472830385</td>\n",
       "      <td>377306020877927890_1472880147</td>\n",
       "      <td>3895546263509774583_1472865386</td>\n",
       "    </tr>\n",
       "    <tr>\n",
       "      <th>4</th>\n",
       "      <td>visitId</td>\n",
       "      <td>int64</td>\n",
       "      <td>0</td>\n",
       "      <td>620692</td>\n",
       "      <td>1472830385</td>\n",
       "      <td>1472880147</td>\n",
       "      <td>1472865386</td>\n",
       "    </tr>\n",
       "    <tr>\n",
       "      <th>5</th>\n",
       "      <td>visitNumber</td>\n",
       "      <td>int64</td>\n",
       "      <td>0</td>\n",
       "      <td>353</td>\n",
       "      <td>1</td>\n",
       "      <td>1</td>\n",
       "      <td>1</td>\n",
       "    </tr>\n",
       "    <tr>\n",
       "      <th>6</th>\n",
       "      <td>visitStartTime</td>\n",
       "      <td>int64</td>\n",
       "      <td>0</td>\n",
       "      <td>621226</td>\n",
       "      <td>1472830385</td>\n",
       "      <td>1472880147</td>\n",
       "      <td>1472865386</td>\n",
       "    </tr>\n",
       "    <tr>\n",
       "      <th>7</th>\n",
       "      <td>device_browser</td>\n",
       "      <td>object</td>\n",
       "      <td>0</td>\n",
       "      <td>48</td>\n",
       "      <td>Chrome</td>\n",
       "      <td>Firefox</td>\n",
       "      <td>Chrome</td>\n",
       "    </tr>\n",
       "    <tr>\n",
       "      <th>8</th>\n",
       "      <td>device_operatingSystem</td>\n",
       "      <td>object</td>\n",
       "      <td>0</td>\n",
       "      <td>20</td>\n",
       "      <td>Windows</td>\n",
       "      <td>Macintosh</td>\n",
       "      <td>Windows</td>\n",
       "    </tr>\n",
       "    <tr>\n",
       "      <th>9</th>\n",
       "      <td>device_isMobile</td>\n",
       "      <td>bool</td>\n",
       "      <td>0</td>\n",
       "      <td>2</td>\n",
       "      <td>False</td>\n",
       "      <td>False</td>\n",
       "      <td>False</td>\n",
       "    </tr>\n",
       "    <tr>\n",
       "      <th>10</th>\n",
       "      <td>device_deviceCategory</td>\n",
       "      <td>object</td>\n",
       "      <td>0</td>\n",
       "      <td>3</td>\n",
       "      <td>desktop</td>\n",
       "      <td>desktop</td>\n",
       "      <td>desktop</td>\n",
       "    </tr>\n",
       "    <tr>\n",
       "      <th>11</th>\n",
       "      <td>geoNetwork_continent</td>\n",
       "      <td>object</td>\n",
       "      <td>0</td>\n",
       "      <td>6</td>\n",
       "      <td>Asia</td>\n",
       "      <td>Oceania</td>\n",
       "      <td>Europe</td>\n",
       "    </tr>\n",
       "    <tr>\n",
       "      <th>12</th>\n",
       "      <td>geoNetwork_subContinent</td>\n",
       "      <td>object</td>\n",
       "      <td>0</td>\n",
       "      <td>23</td>\n",
       "      <td>Western Asia</td>\n",
       "      <td>Australasia</td>\n",
       "      <td>Southern Europe</td>\n",
       "    </tr>\n",
       "    <tr>\n",
       "      <th>13</th>\n",
       "      <td>geoNetwork_country</td>\n",
       "      <td>object</td>\n",
       "      <td>0</td>\n",
       "      <td>217</td>\n",
       "      <td>Turkey</td>\n",
       "      <td>Australia</td>\n",
       "      <td>Spain</td>\n",
       "    </tr>\n",
       "    <tr>\n",
       "      <th>14</th>\n",
       "      <td>geoNetwork_region</td>\n",
       "      <td>object</td>\n",
       "      <td>0</td>\n",
       "      <td>347</td>\n",
       "      <td>Izmir</td>\n",
       "      <td>not available in demo dataset</td>\n",
       "      <td>Community of Madrid</td>\n",
       "    </tr>\n",
       "    <tr>\n",
       "      <th>15</th>\n",
       "      <td>geoNetwork_metro</td>\n",
       "      <td>object</td>\n",
       "      <td>0</td>\n",
       "      <td>83</td>\n",
       "      <td>(not set)</td>\n",
       "      <td>not available in demo dataset</td>\n",
       "      <td>(not set)</td>\n",
       "    </tr>\n",
       "    <tr>\n",
       "      <th>16</th>\n",
       "      <td>geoNetwork_city</td>\n",
       "      <td>object</td>\n",
       "      <td>0</td>\n",
       "      <td>563</td>\n",
       "      <td>Izmir</td>\n",
       "      <td>not available in demo dataset</td>\n",
       "      <td>Madrid</td>\n",
       "    </tr>\n",
       "    <tr>\n",
       "      <th>17</th>\n",
       "      <td>geoNetwork_networkDomain</td>\n",
       "      <td>object</td>\n",
       "      <td>0</td>\n",
       "      <td>21971</td>\n",
       "      <td>ttnet.com.tr</td>\n",
       "      <td>dodo.net.au</td>\n",
       "      <td>unknown.unknown</td>\n",
       "    </tr>\n",
       "    <tr>\n",
       "      <th>18</th>\n",
       "      <td>totals_hits</td>\n",
       "      <td>object</td>\n",
       "      <td>0</td>\n",
       "      <td>265</td>\n",
       "      <td>1</td>\n",
       "      <td>1</td>\n",
       "      <td>1</td>\n",
       "    </tr>\n",
       "    <tr>\n",
       "      <th>19</th>\n",
       "      <td>totals_pageviews</td>\n",
       "      <td>object</td>\n",
       "      <td>62</td>\n",
       "      <td>205</td>\n",
       "      <td>1</td>\n",
       "      <td>1</td>\n",
       "      <td>1</td>\n",
       "    </tr>\n",
       "    <tr>\n",
       "      <th>20</th>\n",
       "      <td>totals_bounces</td>\n",
       "      <td>object</td>\n",
       "      <td>317669</td>\n",
       "      <td>1</td>\n",
       "      <td>1</td>\n",
       "      <td>1</td>\n",
       "      <td>1</td>\n",
       "    </tr>\n",
       "    <tr>\n",
       "      <th>21</th>\n",
       "      <td>totals_newVisits</td>\n",
       "      <td>object</td>\n",
       "      <td>135115</td>\n",
       "      <td>1</td>\n",
       "      <td>1</td>\n",
       "      <td>1</td>\n",
       "      <td>1</td>\n",
       "    </tr>\n",
       "    <tr>\n",
       "      <th>22</th>\n",
       "      <td>totals_transactionRevenue</td>\n",
       "      <td>float32</td>\n",
       "      <td>625758</td>\n",
       "      <td>3741</td>\n",
       "      <td>NaN</td>\n",
       "      <td>NaN</td>\n",
       "      <td>NaN</td>\n",
       "    </tr>\n",
       "    <tr>\n",
       "      <th>23</th>\n",
       "      <td>trafficSource_campaign</td>\n",
       "      <td>object</td>\n",
       "      <td>0</td>\n",
       "      <td>9</td>\n",
       "      <td>(not set)</td>\n",
       "      <td>(not set)</td>\n",
       "      <td>(not set)</td>\n",
       "    </tr>\n",
       "    <tr>\n",
       "      <th>24</th>\n",
       "      <td>trafficSource_source</td>\n",
       "      <td>object</td>\n",
       "      <td>0</td>\n",
       "      <td>310</td>\n",
       "      <td>google</td>\n",
       "      <td>google</td>\n",
       "      <td>google</td>\n",
       "    </tr>\n",
       "    <tr>\n",
       "      <th>25</th>\n",
       "      <td>trafficSource_medium</td>\n",
       "      <td>object</td>\n",
       "      <td>0</td>\n",
       "      <td>7</td>\n",
       "      <td>organic</td>\n",
       "      <td>organic</td>\n",
       "      <td>organic</td>\n",
       "    </tr>\n",
       "    <tr>\n",
       "      <th>26</th>\n",
       "      <td>trafficSource_keyword</td>\n",
       "      <td>object</td>\n",
       "      <td>378553</td>\n",
       "      <td>2311</td>\n",
       "      <td>(not provided)</td>\n",
       "      <td>(not provided)</td>\n",
       "      <td>(not provided)</td>\n",
       "    </tr>\n",
       "    <tr>\n",
       "      <th>27</th>\n",
       "      <td>trafficSource_isTrueDirect</td>\n",
       "      <td>object</td>\n",
       "      <td>453176</td>\n",
       "      <td>1</td>\n",
       "      <td>None</td>\n",
       "      <td>None</td>\n",
       "      <td>None</td>\n",
       "    </tr>\n",
       "    <tr>\n",
       "      <th>28</th>\n",
       "      <td>trafficSource_referralPath</td>\n",
       "      <td>object</td>\n",
       "      <td>364843</td>\n",
       "      <td>999</td>\n",
       "      <td>None</td>\n",
       "      <td>None</td>\n",
       "      <td>None</td>\n",
       "    </tr>\n",
       "    <tr>\n",
       "      <th>29</th>\n",
       "      <td>trafficSource_adwordsClickInfo.page</td>\n",
       "      <td>object</td>\n",
       "      <td>619688</td>\n",
       "      <td>7</td>\n",
       "      <td>None</td>\n",
       "      <td>None</td>\n",
       "      <td>None</td>\n",
       "    </tr>\n",
       "    <tr>\n",
       "      <th>30</th>\n",
       "      <td>trafficSource_adwordsClickInfo.slot</td>\n",
       "      <td>object</td>\n",
       "      <td>619688</td>\n",
       "      <td>2</td>\n",
       "      <td>None</td>\n",
       "      <td>None</td>\n",
       "      <td>None</td>\n",
       "    </tr>\n",
       "    <tr>\n",
       "      <th>31</th>\n",
       "      <td>trafficSource_adwordsClickInfo.gclId</td>\n",
       "      <td>object</td>\n",
       "      <td>619639</td>\n",
       "      <td>11222</td>\n",
       "      <td>None</td>\n",
       "      <td>None</td>\n",
       "      <td>None</td>\n",
       "    </tr>\n",
       "    <tr>\n",
       "      <th>32</th>\n",
       "      <td>trafficSource_adwordsClickInfo.adNetworkType</td>\n",
       "      <td>object</td>\n",
       "      <td>619688</td>\n",
       "      <td>2</td>\n",
       "      <td>None</td>\n",
       "      <td>None</td>\n",
       "      <td>None</td>\n",
       "    </tr>\n",
       "    <tr>\n",
       "      <th>33</th>\n",
       "      <td>trafficSource_adwordsClickInfo.isVideoAd</td>\n",
       "      <td>object</td>\n",
       "      <td>619688</td>\n",
       "      <td>1</td>\n",
       "      <td>None</td>\n",
       "      <td>None</td>\n",
       "      <td>None</td>\n",
       "    </tr>\n",
       "    <tr>\n",
       "      <th>34</th>\n",
       "      <td>trafficSource_adContent</td>\n",
       "      <td>object</td>\n",
       "      <td>627939</td>\n",
       "      <td>37</td>\n",
       "      <td>None</td>\n",
       "      <td>None</td>\n",
       "      <td>None</td>\n",
       "    </tr>\n",
       "  </tbody>\n",
       "</table>\n",
       "</div>"
      ],
      "text/plain": [
       "                                            Name   dtypes  Missing  Uniques  \\\n",
       "0                                channelGrouping   object        0        8   \n",
       "1                                           date    int64        0      243   \n",
       "2                                  fullVisitorId   object        0   507401   \n",
       "3                                      sessionId   object        0   632648   \n",
       "4                                        visitId    int64        0   620692   \n",
       "5                                    visitNumber    int64        0      353   \n",
       "6                                 visitStartTime    int64        0   621226   \n",
       "7                                 device_browser   object        0       48   \n",
       "8                         device_operatingSystem   object        0       20   \n",
       "9                                device_isMobile     bool        0        2   \n",
       "10                         device_deviceCategory   object        0        3   \n",
       "11                          geoNetwork_continent   object        0        6   \n",
       "12                       geoNetwork_subContinent   object        0       23   \n",
       "13                            geoNetwork_country   object        0      217   \n",
       "14                             geoNetwork_region   object        0      347   \n",
       "15                              geoNetwork_metro   object        0       83   \n",
       "16                               geoNetwork_city   object        0      563   \n",
       "17                      geoNetwork_networkDomain   object        0    21971   \n",
       "18                                   totals_hits   object        0      265   \n",
       "19                              totals_pageviews   object       62      205   \n",
       "20                                totals_bounces   object   317669        1   \n",
       "21                              totals_newVisits   object   135115        1   \n",
       "22                     totals_transactionRevenue  float32   625758     3741   \n",
       "23                        trafficSource_campaign   object        0        9   \n",
       "24                          trafficSource_source   object        0      310   \n",
       "25                          trafficSource_medium   object        0        7   \n",
       "26                         trafficSource_keyword   object   378553     2311   \n",
       "27                    trafficSource_isTrueDirect   object   453176        1   \n",
       "28                    trafficSource_referralPath   object   364843      999   \n",
       "29           trafficSource_adwordsClickInfo.page   object   619688        7   \n",
       "30           trafficSource_adwordsClickInfo.slot   object   619688        2   \n",
       "31          trafficSource_adwordsClickInfo.gclId   object   619639    11222   \n",
       "32  trafficSource_adwordsClickInfo.adNetworkType   object   619688        2   \n",
       "33      trafficSource_adwordsClickInfo.isVideoAd   object   619688        1   \n",
       "34                       trafficSource_adContent   object   627939       37   \n",
       "\n",
       "                       First Value                   Second Value  \\\n",
       "0                   Organic Search                 Organic Search   \n",
       "1                         20160902                       20160902   \n",
       "2              1131660440785968503             377306020877927890   \n",
       "3   1131660440785968503_1472830385  377306020877927890_1472880147   \n",
       "4                       1472830385                     1472880147   \n",
       "5                                1                              1   \n",
       "6                       1472830385                     1472880147   \n",
       "7                           Chrome                        Firefox   \n",
       "8                          Windows                      Macintosh   \n",
       "9                            False                          False   \n",
       "10                         desktop                        desktop   \n",
       "11                            Asia                        Oceania   \n",
       "12                    Western Asia                    Australasia   \n",
       "13                          Turkey                      Australia   \n",
       "14                           Izmir  not available in demo dataset   \n",
       "15                       (not set)  not available in demo dataset   \n",
       "16                           Izmir  not available in demo dataset   \n",
       "17                    ttnet.com.tr                    dodo.net.au   \n",
       "18                               1                              1   \n",
       "19                               1                              1   \n",
       "20                               1                              1   \n",
       "21                               1                              1   \n",
       "22                             NaN                            NaN   \n",
       "23                       (not set)                      (not set)   \n",
       "24                          google                         google   \n",
       "25                         organic                        organic   \n",
       "26                  (not provided)                 (not provided)   \n",
       "27                            None                           None   \n",
       "28                            None                           None   \n",
       "29                            None                           None   \n",
       "30                            None                           None   \n",
       "31                            None                           None   \n",
       "32                            None                           None   \n",
       "33                            None                           None   \n",
       "34                            None                           None   \n",
       "\n",
       "                       Third Value  \n",
       "0                   Organic Search  \n",
       "1                         20160902  \n",
       "2              3895546263509774583  \n",
       "3   3895546263509774583_1472865386  \n",
       "4                       1472865386  \n",
       "5                                1  \n",
       "6                       1472865386  \n",
       "7                           Chrome  \n",
       "8                          Windows  \n",
       "9                            False  \n",
       "10                         desktop  \n",
       "11                          Europe  \n",
       "12                 Southern Europe  \n",
       "13                           Spain  \n",
       "14             Community of Madrid  \n",
       "15                       (not set)  \n",
       "16                          Madrid  \n",
       "17                 unknown.unknown  \n",
       "18                               1  \n",
       "19                               1  \n",
       "20                               1  \n",
       "21                               1  \n",
       "22                             NaN  \n",
       "23                       (not set)  \n",
       "24                          google  \n",
       "25                         organic  \n",
       "26                  (not provided)  \n",
       "27                            None  \n",
       "28                            None  \n",
       "29                            None  \n",
       "30                            None  \n",
       "31                            None  \n",
       "32                            None  \n",
       "33                            None  \n",
       "34                            None  "
      ]
     },
     "execution_count": 55,
     "metadata": {},
     "output_type": "execute_result"
    }
   ],
   "source": [
    "DataDesc(df_train)"
   ]
  },
  {
   "cell_type": "markdown",
   "metadata": {},
   "source": [
    "1. Очень много нулевых значений в колонке таргета 625758 из 633210\n",
    "2. Многие колонки имеют ровно одно уникальное значение"
   ]
  },
  {
   "cell_type": "markdown",
   "metadata": {},
   "source": [
    "Заполним наны"
   ]
  },
  {
   "cell_type": "code",
   "execution_count": 56,
   "metadata": {},
   "outputs": [],
   "source": [
    "from utils_EDA import fill_na"
   ]
  },
  {
   "cell_type": "code",
   "execution_count": 57,
   "metadata": {},
   "outputs": [],
   "source": [
    "df_train = fill_na(df_train)\n",
    "df_test = fill_na(df_test)"
   ]
  },
  {
   "cell_type": "markdown",
   "metadata": {},
   "source": [
    "${Заметка.}$ На этом моменте чуть не ошибся и не удалил колонки с 1 уникальным значением, оказалось, что там наны и False/True."
   ]
  },
  {
   "cell_type": "code",
   "execution_count": 58,
   "metadata": {},
   "outputs": [],
   "source": [
    "from utils_EDA import Null_Count"
   ]
  },
  {
   "cell_type": "code",
   "execution_count": 59,
   "metadata": {},
   "outputs": [
    {
     "data": {
      "text/html": [
       "<div>\n",
       "<style scoped>\n",
       "    .dataframe tbody tr th:only-of-type {\n",
       "        vertical-align: middle;\n",
       "    }\n",
       "\n",
       "    .dataframe tbody tr th {\n",
       "        vertical-align: top;\n",
       "    }\n",
       "\n",
       "    .dataframe thead th {\n",
       "        text-align: right;\n",
       "    }\n",
       "</style>\n",
       "<table border=\"1\" class=\"dataframe\">\n",
       "  <thead>\n",
       "    <tr style=\"text-align: right;\">\n",
       "      <th></th>\n",
       "      <th>Column</th>\n",
       "      <th>Null_Count</th>\n",
       "      <th>Null_Percent</th>\n",
       "    </tr>\n",
       "  </thead>\n",
       "  <tbody>\n",
       "    <tr>\n",
       "      <th>0</th>\n",
       "      <td>trafficSource_adContent</td>\n",
       "      <td>627939</td>\n",
       "      <td>99.167575</td>\n",
       "    </tr>\n",
       "    <tr>\n",
       "      <th>1</th>\n",
       "      <td>trafficSource_adwordsClickInfo.adNetworkType</td>\n",
       "      <td>619688</td>\n",
       "      <td>97.864532</td>\n",
       "    </tr>\n",
       "    <tr>\n",
       "      <th>2</th>\n",
       "      <td>trafficSource_adwordsClickInfo.slot</td>\n",
       "      <td>619688</td>\n",
       "      <td>97.864532</td>\n",
       "    </tr>\n",
       "    <tr>\n",
       "      <th>3</th>\n",
       "      <td>trafficSource_adwordsClickInfo.page</td>\n",
       "      <td>619688</td>\n",
       "      <td>97.864532</td>\n",
       "    </tr>\n",
       "    <tr>\n",
       "      <th>4</th>\n",
       "      <td>trafficSource_adwordsClickInfo.gclId</td>\n",
       "      <td>619639</td>\n",
       "      <td>97.856793</td>\n",
       "    </tr>\n",
       "    <tr>\n",
       "      <th>5</th>\n",
       "      <td>trafficSource_keyword</td>\n",
       "      <td>378553</td>\n",
       "      <td>59.783168</td>\n",
       "    </tr>\n",
       "    <tr>\n",
       "      <th>6</th>\n",
       "      <td>trafficSource_referralPath</td>\n",
       "      <td>364843</td>\n",
       "      <td>57.618010</td>\n",
       "    </tr>\n",
       "  </tbody>\n",
       "</table>\n",
       "</div>"
      ],
      "text/plain": [
       "                                         Column  Null_Count  Null_Percent\n",
       "0                       trafficSource_adContent      627939     99.167575\n",
       "1  trafficSource_adwordsClickInfo.adNetworkType      619688     97.864532\n",
       "2           trafficSource_adwordsClickInfo.slot      619688     97.864532\n",
       "3           trafficSource_adwordsClickInfo.page      619688     97.864532\n",
       "4          trafficSource_adwordsClickInfo.gclId      619639     97.856793\n",
       "5                         trafficSource_keyword      378553     59.783168\n",
       "6                    trafficSource_referralPath      364843     57.618010"
      ]
     },
     "execution_count": 59,
     "metadata": {},
     "output_type": "execute_result"
    }
   ],
   "source": [
    "Null_Count(df_train)"
   ]
  },
  {
   "cell_type": "markdown",
   "metadata": {},
   "source": [
    "Уберем колонки с нулевыми значениями, как видно из таблицы выше для выделенных фич их больше половины"
   ]
  },
  {
   "cell_type": "code",
   "execution_count": 60,
   "metadata": {},
   "outputs": [],
   "source": [
    "df_train.drop(list(Null_Count(df_train)['Column']), axis=1,inplace=True)\n",
    "df_test.drop(list(Null_Count(df_test)['Column']), axis=1,inplace=True)"
   ]
  },
  {
   "cell_type": "markdown",
   "metadata": {},
   "source": [
    "Извлечем дополнительные фичи из даты"
   ]
  },
  {
   "cell_type": "code",
   "execution_count": 61,
   "metadata": {},
   "outputs": [],
   "source": [
    "from utils_EDA import date_process"
   ]
  },
  {
   "cell_type": "code",
   "execution_count": 62,
   "metadata": {},
   "outputs": [],
   "source": [
    "df_train = date_process(df_train)\n",
    "df_test = date_process(df_test)"
   ]
  },
  {
   "cell_type": "markdown",
   "metadata": {},
   "source": [
    "### Проанализируем распределение выручки"
   ]
  },
  {
   "cell_type": "code",
   "execution_count": 63,
   "metadata": {},
   "outputs": [
    {
     "data": {
      "image/png": "[encoded data removed]",
      "text/plain": [
       "<Figure size 2000x500 with 2 Axes>"
      ]
     },
     "metadata": {},
     "output_type": "display_data"
    }
   ],
   "source": [
    "fig = plt.figure(figsize=(20,5))\n",
    "plt.suptitle('Distribuition of Revenue', fontsize=30)\n",
    "\n",
    "ax1 = fig.add_subplot(121)\n",
    "_ = sns.distplot(np.log(df_train[df_train['totals_transactionRevenue'] > 0][\"totals_transactionRevenue\"]), bins=40,color='#e56b6f', ax=ax1)\n",
    "_ = ax1.set_ylabel('Distribution', fontsize=20)\n",
    "_ = ax1.set_xlabel('Transaction Revenue Log', fontsize=20)\n",
    "\n",
    "\n",
    "ax2 = fig.add_subplot(122)\n",
    "_ = plt.scatter(range(df_train.shape[0]), np.sort(df_train['totals_transactionRevenue'].values), color='#2a9d8f')\n",
    "_ = ax2.set_ylabel('Distribution', fontsize=20)\n",
    "_ = ax2.set_xlabel('Revenue', fontsize=20)"
   ]
  },
  {
   "cell_type": "markdown",
   "metadata": {},
   "source": [
    "Как видим только маленький процент пользователей приносит выручку"
   ]
  },
  {
   "cell_type": "markdown",
   "metadata": {},
   "source": [
    "### Выручка по браузеру, девайсу и ОС"
   ]
  },
  {
   "cell_type": "code",
   "execution_count": 64,
   "metadata": {},
   "outputs": [
    {
     "data": {
      "application/vnd.plotly.v1+json": {
       "config": {
        "linkText": "Export to plot.ly",
        "plotlyServerURL": "https://plot.ly",
        "showLink": false
       },
       "data": [
        {
         "marker": {
          "color": "#073b4c"
         },
         "orientation": "h",
         "showlegend": false,
         "type": "bar",
         "x": [
          1744,
          4168,
          4174,
          4199,
          4496,
          7001,
          14106,
          26113,
          136938,
          426372
         ],
         "xaxis": "x",
         "y": [
          "YaBrowser",
          "Android Webview",
          "Opera Mini",
          "Safari (in-app)",
          "Opera",
          "Edge",
          "Internet Explorer",
          "Firefox",
          "Safari",
          "Chrome"
         ],
         "yaxis": "y"
        },
        {
         "marker": {
          "color": "#073b4c"
         },
         "orientation": "h",
         "showlegend": false,
         "type": "bar",
         "x": [
          0,
          64860000,
          0,
          85850000,
          101870000,
          4527069968,
          4314760016,
          34708929936,
          38712090016,
          922651830064
         ],
         "xaxis": "x2",
         "y": [
          "YaBrowser",
          "Android Webview",
          "Opera Mini",
          "Safari (in-app)",
          "Opera",
          "Edge",
          "Internet Explorer",
          "Firefox",
          "Safari",
          "Chrome"
         ],
         "yaxis": "y2"
        },
        {
         "marker": {
          "color": "#073b4c"
         },
         "orientation": "h",
         "showlegend": false,
         "type": "bar",
         "x": [
          0,
          15561.420345489443,
          0,
          20445.344129554655,
          22657.918149466193,
          646631.9051564062,
          305881.18644548417,
          1329182.0141691878,
          282697.9364091779,
          2163959.7113881772
         ],
         "xaxis": "x3",
         "y": [
          "YaBrowser",
          "Android Webview",
          "Opera Mini",
          "Safari (in-app)",
          "Opera",
          "Edge",
          "Internet Explorer",
          "Firefox",
          "Safari",
          "Chrome"
         ],
         "yaxis": "y3"
        },
        {
         "marker": {
          "color": "#118ab2"
         },
         "orientation": "h",
         "showlegend": false,
         "type": "bar",
         "x": [
          19655,
          127793,
          485762
         ],
         "xaxis": "x4",
         "y": [
          "tablet",
          "mobile",
          "desktop"
         ],
         "yaxis": "y4"
        },
        {
         "marker": {
          "color": "#118ab2"
         },
         "orientation": "h",
         "showlegend": false,
         "type": "bar",
         "x": [
          6483620000,
          34443650144,
          964269979856
         ],
         "xaxis": "x5",
         "y": [
          "tablet",
          "mobile",
          "desktop"
         ],
         "yaxis": "y5"
        },
        {
         "marker": {
          "color": "#118ab2"
         },
         "orientation": "h",
         "showlegend": false,
         "type": "bar",
         "x": [
          329871.27957262786,
          269526.89227109466,
          1985066.7196198963
         ],
         "xaxis": "x6",
         "y": [
          "tablet",
          "mobile",
          "desktop"
         ],
         "yaxis": "y6"
        },
        {
         "marker": {
          "color": "#ef476f"
         },
         "orientation": "h",
         "showlegend": false,
         "type": "bar",
         "x": [
          162,
          169,
          947,
          3215,
          17073,
          22900,
          65263,
          76696,
          191061,
          255463
         ],
         "xaxis": "x7",
         "y": [
          "BlackBerry",
          "Samsung",
          "Windows Phone",
          "(not set)",
          "Chrome OS",
          "Linux",
          "iOS",
          "Android",
          "Macintosh",
          "Windows"
         ],
         "yaxis": "y7"
        },
        {
         "marker": {
          "color": "#ef476f"
         },
         "orientation": "h",
         "showlegend": false,
         "type": "bar",
         "x": [
          0,
          0,
          26400000,
          0,
          124369520208,
          28151539952,
          14594990000,
          25643480144,
          559701549872,
          252709769824
         ],
         "xaxis": "x8",
         "y": [
          "BlackBerry",
          "Samsung",
          "Windows Phone",
          "(not set)",
          "Chrome OS",
          "Linux",
          "iOS",
          "Android",
          "Macintosh",
          "Windows"
         ],
         "yaxis": "y8"
        },
        {
         "marker": {
          "color": "#ef476f"
         },
         "orientation": "h",
         "showlegend": false,
         "type": "bar",
         "x": [
          0,
          0,
          27877.507919746567,
          0,
          7284573.315058865,
          1229324.8887336245,
          223633.4523389976,
          334352.2497131532,
          2929439.0266564083,
          989222.5873179287
         ],
         "xaxis": "x9",
         "y": [
          "BlackBerry",
          "Samsung",
          "Windows Phone",
          "(not set)",
          "Chrome OS",
          "Linux",
          "iOS",
          "Android",
          "Macintosh",
          "Windows"
         ],
         "yaxis": "y9"
        }
       ],
       "layout": {
        "annotations": [
         {
          "font": {
           "size": 16
          },
          "showarrow": false,
          "text": "Device Browser - Count",
          "x": 0.14444444444444446,
          "xanchor": "center",
          "xref": "paper",
          "y": 1,
          "yanchor": "bottom",
          "yref": "paper"
         },
         {
          "font": {
           "size": 16
          },
          "showarrow": false,
          "text": "Device Browser - Total Revenue",
          "x": 0.5,
          "xanchor": "center",
          "xref": "paper",
          "y": 1,
          "yanchor": "bottom",
          "yref": "paper"
         },
         {
          "font": {
           "size": 16
          },
          "showarrow": false,
          "text": "Device Browser - Mean Revenue",
          "x": 0.8555555555555556,
          "xanchor": "center",
          "xref": "paper",
          "y": 1,
          "yanchor": "bottom",
          "yref": "paper"
         },
         {
          "font": {
           "size": 16
          },
          "showarrow": false,
          "text": "Device Category - Count",
          "x": 0.14444444444444446,
          "xanchor": "center",
          "xref": "paper",
          "y": 0.6533333333333333,
          "yanchor": "bottom",
          "yref": "paper"
         },
         {
          "font": {
           "size": 16
          },
          "showarrow": false,
          "text": "Device Category - Total Revenue ",
          "x": 0.5,
          "xanchor": "center",
          "xref": "paper",
          "y": 0.6533333333333333,
          "yanchor": "bottom",
          "yref": "paper"
         },
         {
          "font": {
           "size": 16
          },
          "showarrow": false,
          "text": "Device Category - Mean Revenue",
          "x": 0.8555555555555556,
          "xanchor": "center",
          "xref": "paper",
          "y": 0.6533333333333333,
          "yanchor": "bottom",
          "yref": "paper"
         },
         {
          "font": {
           "size": 16
          },
          "showarrow": false,
          "text": "Device OS - Count",
          "x": 0.14444444444444446,
          "xanchor": "center",
          "xref": "paper",
          "y": 0.3066666666666667,
          "yanchor": "bottom",
          "yref": "paper"
         },
         {
          "font": {
           "size": 16
          },
          "showarrow": false,
          "text": "Device OS - Total Revenue",
          "x": 0.5,
          "xanchor": "center",
          "xref": "paper",
          "y": 0.3066666666666667,
          "yanchor": "bottom",
          "yref": "paper"
         },
         {
          "font": {
           "size": 16
          },
          "showarrow": false,
          "text": "Device OS - Mean Revenue",
          "x": 0.8555555555555556,
          "xanchor": "center",
          "xref": "paper",
          "y": 0.3066666666666667,
          "yanchor": "bottom",
          "yref": "paper"
         }
        ],
        "height": 1200,
        "paper_bgcolor": "#ffffff",
        "template": {
         "data": {
          "bar": [
           {
            "error_x": {
             "color": "#2a3f5f"
            },
            "error_y": {
             "color": "#2a3f5f"
            },
            "marker": {
             "line": {
              "color": "white",
              "width": 0.5
             },
             "pattern": {
              "fillmode": "overlay",
              "size": 10,
              "solidity": 0.2
             }
            },
            "type": "bar"
           }
          ],
          "barpolar": [
           {
            "marker": {
             "line": {
              "color": "white",
              "width": 0.5
             },
             "pattern": {
              "fillmode": "overlay",
              "size": 10,
              "solidity": 0.2
             }
            },
            "type": "barpolar"
           }
          ],
          "carpet": [
           {
            "aaxis": {
             "endlinecolor": "#2a3f5f",
             "gridcolor": "#C8D4E3",
             "linecolor": "#C8D4E3",
             "minorgridcolor": "#C8D4E3",
             "startlinecolor": "#2a3f5f"
            },
            "baxis": {
             "endlinecolor": "#2a3f5f",
             "gridcolor": "#C8D4E3",
             "linecolor": "#C8D4E3",
             "minorgridcolor": "#C8D4E3",
             "startlinecolor": "#2a3f5f"
            },
            "type": "carpet"
           }
          ],
          "choropleth": [
           {
            "colorbar": {
             "outlinewidth": 0,
             "ticks": ""
            },
            "type": "choropleth"
           }
          ],
          "contour": [
           {
            "colorbar": {
             "outlinewidth": 0,
             "ticks": ""
            },
            "colorscale": [
             [
              0,
              "#0d0887"
             ],
             [
              0.1111111111111111,
              "#46039f"
             ],
             [
              0.2222222222222222,
              "#7201a8"
             ],
             [
              0.3333333333333333,
              "#9c179e"
             ],
             [
              0.4444444444444444,
              "#bd3786"
             ],
             [
              0.5555555555555556,
              "#d8576b"
             ],
             [
              0.6666666666666666,
              "#ed7953"
             ],
             [
              0.7777777777777778,
              "#fb9f3a"
             ],
             [
              0.8888888888888888,
              "#fdca26"
             ],
             [
              1,
              "#f0f921"
             ]
            ],
            "type": "contour"
           }
          ],
          "contourcarpet": [
           {
            "colorbar": {
             "outlinewidth": 0,
             "ticks": ""
            },
            "type": "contourcarpet"
           }
          ],
          "heatmap": [
           {
            "colorbar": {
             "outlinewidth": 0,
             "ticks": ""
            },
            "colorscale": [
             [
              0,
              "#0d0887"
             ],
             [
              0.1111111111111111,
              "#46039f"
             ],
             [
              0.2222222222222222,
              "#7201a8"
             ],
             [
              0.3333333333333333,
              "#9c179e"
             ],
             [
              0.4444444444444444,
              "#bd3786"
             ],
             [
              0.5555555555555556,
              "#d8576b"
             ],
             [
              0.6666666666666666,
              "#ed7953"
             ],
             [
              0.7777777777777778,
              "#fb9f3a"
             ],
             [
              0.8888888888888888,
              "#fdca26"
             ],
             [
              1,
              "#f0f921"
             ]
            ],
            "type": "heatmap"
           }
          ],
          "heatmapgl": [
           {
            "colorbar": {
             "outlinewidth": 0,
             "ticks": ""
            },
            "colorscale": [
             [
              0,
              "#0d0887"
             ],
             [
              0.1111111111111111,
              "#46039f"
             ],
             [
              0.2222222222222222,
              "#7201a8"
             ],
             [
              0.3333333333333333,
              "#9c179e"
             ],
             [
              0.4444444444444444,
              "#bd3786"
             ],
             [
              0.5555555555555556,
              "#d8576b"
             ],
             [
              0.6666666666666666,
              "#ed7953"
             ],
             [
              0.7777777777777778,
              "#fb9f3a"
             ],
             [
              0.8888888888888888,
              "#fdca26"
             ],
             [
              1,
              "#f0f921"
             ]
            ],
            "type": "heatmapgl"
           }
          ],
          "histogram": [
           {
            "marker": {
             "pattern": {
              "fillmode": "overlay",
              "size": 10,
              "solidity": 0.2
             }
            },
            "type": "histogram"
           }
          ],
          "histogram2d": [
           {
            "colorbar": {
             "outlinewidth": 0,
             "ticks": ""
            },
            "colorscale": [
             [
              0,
              "#0d0887"
             ],
             [
              0.1111111111111111,
              "#46039f"
             ],
             [
              0.2222222222222222,
              "#7201a8"
             ],
             [
              0.3333333333333333,
              "#9c179e"
             ],
             [
              0.4444444444444444,
              "#bd3786"
             ],
             [
              0.5555555555555556,
              "#d8576b"
             ],
             [
              0.6666666666666666,
              "#ed7953"
             ],
             [
              0.7777777777777778,
              "#fb9f3a"
             ],
             [
              0.8888888888888888,
              "#fdca26"
             ],
             [
              1,
              "#f0f921"
             ]
            ],
            "type": "histogram2d"
           }
          ],
          "histogram2dcontour": [
           {
            "colorbar": {
             "outlinewidth": 0,
             "ticks": ""
            },
            "colorscale": [
             [
              0,
              "#0d0887"
             ],
             [
              0.1111111111111111,
              "#46039f"
             ],
             [
              0.2222222222222222,
              "#7201a8"
             ],
             [
              0.3333333333333333,
              "#9c179e"
             ],
             [
              0.4444444444444444,
              "#bd3786"
             ],
             [
              0.5555555555555556,
              "#d8576b"
             ],
             [
              0.6666666666666666,
              "#ed7953"
             ],
             [
              0.7777777777777778,
              "#fb9f3a"
             ],
             [
              0.8888888888888888,
              "#fdca26"
             ],
             [
              1,
              "#f0f921"
             ]
            ],
            "type": "histogram2dcontour"
           }
          ],
          "mesh3d": [
           {
            "colorbar": {
             "outlinewidth": 0,
             "ticks": ""
            },
            "type": "mesh3d"
           }
          ],
          "parcoords": [
           {
            "line": {
             "colorbar": {
              "outlinewidth": 0,
              "ticks": ""
             }
            },
            "type": "parcoords"
           }
          ],
          "pie": [
           {
            "automargin": true,
            "type": "pie"
           }
          ],
          "scatter": [
           {
            "fillpattern": {
             "fillmode": "overlay",
             "size": 10,
             "solidity": 0.2
            },
            "type": "scatter"
           }
          ],
          "scatter3d": [
           {
            "line": {
             "colorbar": {
              "outlinewidth": 0,
              "ticks": ""
             }
            },
            "marker": {
             "colorbar": {
              "outlinewidth": 0,
              "ticks": ""
             }
            },
            "type": "scatter3d"
           }
          ],
          "scattercarpet": [
           {
            "marker": {
             "colorbar": {
              "outlinewidth": 0,
              "ticks": ""
             }
            },
            "type": "scattercarpet"
           }
          ],
          "scattergeo": [
           {
            "marker": {
             "colorbar": {
              "outlinewidth": 0,
              "ticks": ""
             }
            },
            "type": "scattergeo"
           }
          ],
          "scattergl": [
           {
            "marker": {
             "colorbar": {
              "outlinewidth": 0,
              "ticks": ""
             }
            },
            "type": "scattergl"
           }
          ],
          "scattermapbox": [
           {
            "marker": {
             "colorbar": {
              "outlinewidth": 0,
              "ticks": ""
             }
            },
            "type": "scattermapbox"
           }
          ],
          "scatterpolar": [
           {
            "marker": {
             "colorbar": {
              "outlinewidth": 0,
              "ticks": ""
             }
            },
            "type": "scatterpolar"
           }
          ],
          "scatterpolargl": [
           {
            "marker": {
             "colorbar": {
              "outlinewidth": 0,
              "ticks": ""
             }
            },
            "type": "scatterpolargl"
           }
          ],
          "scatterternary": [
           {
            "marker": {
             "colorbar": {
              "outlinewidth": 0,
              "ticks": ""
             }
            },
            "type": "scatterternary"
           }
          ],
          "surface": [
           {
            "colorbar": {
             "outlinewidth": 0,
             "ticks": ""
            },
            "colorscale": [
             [
              0,
              "#0d0887"
             ],
             [
              0.1111111111111111,
              "#46039f"
             ],
             [
              0.2222222222222222,
              "#7201a8"
             ],
             [
              0.3333333333333333,
              "#9c179e"
             ],
             [
              0.4444444444444444,
              "#bd3786"
             ],
             [
              0.5555555555555556,
              "#d8576b"
             ],
             [
              0.6666666666666666,
              "#ed7953"
             ],
             [
              0.7777777777777778,
              "#fb9f3a"
             ],
             [
              0.8888888888888888,
              "#fdca26"
             ],
             [
              1,
              "#f0f921"
             ]
            ],
            "type": "surface"
           }
          ],
          "table": [
           {
            "cells": {
             "fill": {
              "color": "#EBF0F8"
             },
             "line": {
              "color": "white"
             }
            },
            "header": {
             "fill": {
              "color": "#C8D4E3"
             },
             "line": {
              "color": "white"
             }
            },
            "type": "table"
           }
          ]
         },
         "layout": {
          "annotationdefaults": {
           "arrowcolor": "#2a3f5f",
           "arrowhead": 0,
           "arrowwidth": 1
          },
          "autotypenumbers": "strict",
          "coloraxis": {
           "colorbar": {
            "outlinewidth": 0,
            "ticks": ""
           }
          },
          "colorscale": {
           "diverging": [
            [
             0,
             "#8e0152"
            ],
            [
             0.1,
             "#c51b7d"
            ],
            [
             0.2,
             "#de77ae"
            ],
            [
             0.3,
             "#f1b6da"
            ],
            [
             0.4,
             "#fde0ef"
            ],
            [
             0.5,
             "#f7f7f7"
            ],
            [
             0.6,
             "#e6f5d0"
            ],
            [
             0.7,
             "#b8e186"
            ],
            [
             0.8,
             "#7fbc41"
            ],
            [
             0.9,
             "#4d9221"
            ],
            [
             1,
             "#276419"
            ]
           ],
           "sequential": [
            [
             0,
             "#0d0887"
            ],
            [
             0.1111111111111111,
             "#46039f"
            ],
            [
             0.2222222222222222,
             "#7201a8"
            ],
            [
             0.3333333333333333,
             "#9c179e"
            ],
            [
             0.4444444444444444,
             "#bd3786"
            ],
            [
             0.5555555555555556,
             "#d8576b"
            ],
            [
             0.6666666666666666,
             "#ed7953"
            ],
            [
             0.7777777777777778,
             "#fb9f3a"
            ],
            [
             0.8888888888888888,
             "#fdca26"
            ],
            [
             1,
             "#f0f921"
            ]
           ],
           "sequentialminus": [
            [
             0,
             "#0d0887"
            ],
            [
             0.1111111111111111,
             "#46039f"
            ],
            [
             0.2222222222222222,
             "#7201a8"
            ],
            [
             0.3333333333333333,
             "#9c179e"
            ],
            [
             0.4444444444444444,
             "#bd3786"
            ],
            [
             0.5555555555555556,
             "#d8576b"
            ],
            [
             0.6666666666666666,
             "#ed7953"
            ],
            [
             0.7777777777777778,
             "#fb9f3a"
            ],
            [
             0.8888888888888888,
             "#fdca26"
            ],
            [
             1,
             "#f0f921"
            ]
           ]
          },
          "colorway": [
           "#636efa",
           "#EF553B",
           "#00cc96",
           "#ab63fa",
           "#FFA15A",
           "#19d3f3",
           "#FF6692",
           "#B6E880",
           "#FF97FF",
           "#FECB52"
          ],
          "font": {
           "color": "#2a3f5f"
          },
          "geo": {
           "bgcolor": "white",
           "lakecolor": "white",
           "landcolor": "white",
           "showlakes": true,
           "showland": true,
           "subunitcolor": "#C8D4E3"
          },
          "hoverlabel": {
           "align": "left"
          },
          "hovermode": "closest",
          "mapbox": {
           "style": "light"
          },
          "paper_bgcolor": "white",
          "plot_bgcolor": "white",
          "polar": {
           "angularaxis": {
            "gridcolor": "#EBF0F8",
            "linecolor": "#EBF0F8",
            "ticks": ""
           },
           "bgcolor": "white",
           "radialaxis": {
            "gridcolor": "#EBF0F8",
            "linecolor": "#EBF0F8",
            "ticks": ""
           }
          },
          "scene": {
           "xaxis": {
            "backgroundcolor": "white",
            "gridcolor": "#DFE8F3",
            "gridwidth": 2,
            "linecolor": "#EBF0F8",
            "showbackground": true,
            "ticks": "",
            "zerolinecolor": "#EBF0F8"
           },
           "yaxis": {
            "backgroundcolor": "white",
            "gridcolor": "#DFE8F3",
            "gridwidth": 2,
            "linecolor": "#EBF0F8",
            "showbackground": true,
            "ticks": "",
            "zerolinecolor": "#EBF0F8"
           },
           "zaxis": {
            "backgroundcolor": "white",
            "gridcolor": "#DFE8F3",
            "gridwidth": 2,
            "linecolor": "#EBF0F8",
            "showbackground": true,
            "ticks": "",
            "zerolinecolor": "#EBF0F8"
           }
          },
          "shapedefaults": {
           "line": {
            "color": "#2a3f5f"
           }
          },
          "ternary": {
           "aaxis": {
            "gridcolor": "#DFE8F3",
            "linecolor": "#A2B1C6",
            "ticks": ""
           },
           "baxis": {
            "gridcolor": "#DFE8F3",
            "linecolor": "#A2B1C6",
            "ticks": ""
           },
           "bgcolor": "white",
           "caxis": {
            "gridcolor": "#DFE8F3",
            "linecolor": "#A2B1C6",
            "ticks": ""
           }
          },
          "title": {
           "x": 0.05
          },
          "xaxis": {
           "automargin": true,
           "gridcolor": "#EBF0F8",
           "linecolor": "#EBF0F8",
           "ticks": "",
           "title": {
            "standoff": 15
           },
           "zerolinecolor": "#EBF0F8",
           "zerolinewidth": 2
          },
          "yaxis": {
           "automargin": true,
           "gridcolor": "#EBF0F8",
           "linecolor": "#EBF0F8",
           "ticks": "",
           "title": {
            "standoff": 15
           },
           "zerolinecolor": "#EBF0F8",
           "zerolinewidth": 2
          }
         }
        },
        "title": {
         "text": "Device Plots"
        },
        "width": 1500,
        "xaxis": {
         "anchor": "y",
         "domain": [
          0,
          0.2888888888888889
         ]
        },
        "xaxis2": {
         "anchor": "y2",
         "domain": [
          0.35555555555555557,
          0.6444444444444445
         ]
        },
        "xaxis3": {
         "anchor": "y3",
         "domain": [
          0.7111111111111111,
          1
         ]
        },
        "xaxis4": {
         "anchor": "y4",
         "domain": [
          0,
          0.2888888888888889
         ]
        },
        "xaxis5": {
         "anchor": "y5",
         "domain": [
          0.35555555555555557,
          0.6444444444444445
         ]
        },
        "xaxis6": {
         "anchor": "y6",
         "domain": [
          0.7111111111111111,
          1
         ]
        },
        "xaxis7": {
         "anchor": "y7",
         "domain": [
          0,
          0.2888888888888889
         ]
        },
        "xaxis8": {
         "anchor": "y8",
         "domain": [
          0.35555555555555557,
          0.6444444444444445
         ]
        },
        "xaxis9": {
         "anchor": "y9",
         "domain": [
          0.7111111111111111,
          1
         ]
        },
        "yaxis": {
         "anchor": "x",
         "domain": [
          0.6933333333333334,
          1
         ]
        },
        "yaxis2": {
         "anchor": "x2",
         "domain": [
          0.6933333333333334,
          1
         ]
        },
        "yaxis3": {
         "anchor": "x3",
         "domain": [
          0.6933333333333334,
          1
         ]
        },
        "yaxis4": {
         "anchor": "x4",
         "domain": [
          0.3466666666666667,
          0.6533333333333333
         ]
        },
        "yaxis5": {
         "anchor": "x5",
         "domain": [
          0.3466666666666667,
          0.6533333333333333
         ]
        },
        "yaxis6": {
         "anchor": "x6",
         "domain": [
          0.3466666666666667,
          0.6533333333333333
         ]
        },
        "yaxis7": {
         "anchor": "x7",
         "domain": [
          0,
          0.3066666666666667
         ]
        },
        "yaxis8": {
         "anchor": "x8",
         "domain": [
          0,
          0.3066666666666667
         ]
        },
        "yaxis9": {
         "anchor": "x9",
         "domain": [
          0,
          0.3066666666666667
         ]
        }
       }
      },
      "text/html": [
       "<div>                            <div id=\"307e7864-6b10-4fa9-b493-2ac6cc8ffbf3\" class=\"plotly-graph-div\" style=\"height:1200px; width:1500px;\"></div>            <script type=\"text/javascript\">                require([\"plotly\"], function(Plotly) {                    window.PLOTLYENV=window.PLOTLYENV || {};                                    if (document.getElementById(\"307e7864-6b10-4fa9-b493-2ac6cc8ffbf3\")) {                    Plotly.newPlot(                        \"307e7864-6b10-4fa9-b493-2ac6cc8ffbf3\",                        [{\"marker\":{\"color\":\"#073b4c\"},\"orientation\":\"h\",\"showlegend\":false,\"x\":[1744,4168,4174,4199,4496,7001,14106,26113,136938,426372],\"xaxis\":\"x\",\"y\":[\"YaBrowser\",\"Android Webview\",\"Opera Mini\",\"Safari (in-app)\",\"Opera\",\"Edge\",\"Internet Explorer\",\"Firefox\",\"Safari\",\"Chrome\"],\"yaxis\":\"y\",\"type\":\"bar\"},{\"marker\":{\"color\":\"#073b4c\"},\"orientation\":\"h\",\"showlegend\":false,\"x\":[0.0,64860000.0,0.0,85850000.0,101870000.0,4527069968.0,4314760016.0,34708929936.0,38712090016.0,922651830064.0],\"xaxis\":\"x2\",\"y\":[\"YaBrowser\",\"Android Webview\",\"Opera Mini\",\"Safari (in-app)\",\"Opera\",\"Edge\",\"Internet Explorer\",\"Firefox\",\"Safari\",\"Chrome\"],\"yaxis\":\"y2\",\"type\":\"bar\"},{\"marker\":{\"color\":\"#073b4c\"},\"orientation\":\"h\",\"showlegend\":false,\"x\":[0.0,15561.420345489443,0.0,20445.344129554655,22657.918149466193,646631.9051564062,305881.18644548417,1329182.0141691878,282697.9364091779,2163959.7113881772],\"xaxis\":\"x3\",\"y\":[\"YaBrowser\",\"Android Webview\",\"Opera Mini\",\"Safari (in-app)\",\"Opera\",\"Edge\",\"Internet Explorer\",\"Firefox\",\"Safari\",\"Chrome\"],\"yaxis\":\"y3\",\"type\":\"bar\"},{\"marker\":{\"color\":\"#118ab2\"},\"orientation\":\"h\",\"showlegend\":false,\"x\":[19655,127793,485762],\"xaxis\":\"x4\",\"y\":[\"tablet\",\"mobile\",\"desktop\"],\"yaxis\":\"y4\",\"type\":\"bar\"},{\"marker\":{\"color\":\"#118ab2\"},\"orientation\":\"h\",\"showlegend\":false,\"x\":[6483620000.0,34443650144.0,964269979856.0],\"xaxis\":\"x5\",\"y\":[\"tablet\",\"mobile\",\"desktop\"],\"yaxis\":\"y5\",\"type\":\"bar\"},{\"marker\":{\"color\":\"#118ab2\"},\"orientation\":\"h\",\"showlegend\":false,\"x\":[329871.27957262786,269526.89227109466,1985066.7196198963],\"xaxis\":\"x6\",\"y\":[\"tablet\",\"mobile\",\"desktop\"],\"yaxis\":\"y6\",\"type\":\"bar\"},{\"marker\":{\"color\":\"#ef476f\"},\"orientation\":\"h\",\"showlegend\":false,\"x\":[162,169,947,3215,17073,22900,65263,76696,191061,255463],\"xaxis\":\"x7\",\"y\":[\"BlackBerry\",\"Samsung\",\"Windows Phone\",\"(not set)\",\"Chrome OS\",\"Linux\",\"iOS\",\"Android\",\"Macintosh\",\"Windows\"],\"yaxis\":\"y7\",\"type\":\"bar\"},{\"marker\":{\"color\":\"#ef476f\"},\"orientation\":\"h\",\"showlegend\":false,\"x\":[0.0,0.0,26400000.0,0.0,124369520208.0,28151539952.0,14594990000.0,25643480144.0,559701549872.0,252709769824.0],\"xaxis\":\"x8\",\"y\":[\"BlackBerry\",\"Samsung\",\"Windows Phone\",\"(not set)\",\"Chrome OS\",\"Linux\",\"iOS\",\"Android\",\"Macintosh\",\"Windows\"],\"yaxis\":\"y8\",\"type\":\"bar\"},{\"marker\":{\"color\":\"#ef476f\"},\"orientation\":\"h\",\"showlegend\":false,\"x\":[0.0,0.0,27877.507919746567,0.0,7284573.315058865,1229324.8887336245,223633.4523389976,334352.2497131532,2929439.0266564083,989222.5873179287],\"xaxis\":\"x9\",\"y\":[\"BlackBerry\",\"Samsung\",\"Windows Phone\",\"(not set)\",\"Chrome OS\",\"Linux\",\"iOS\",\"Android\",\"Macintosh\",\"Windows\"],\"yaxis\":\"y9\",\"type\":\"bar\"}],                        {\"annotations\":[{\"font\":{\"size\":16},\"showarrow\":false,\"text\":\"Device Browser - Count\",\"x\":0.14444444444444446,\"xanchor\":\"center\",\"xref\":\"paper\",\"y\":1.0,\"yanchor\":\"bottom\",\"yref\":\"paper\"},{\"font\":{\"size\":16},\"showarrow\":false,\"text\":\"Device Browser - Total Revenue\",\"x\":0.5,\"xanchor\":\"center\",\"xref\":\"paper\",\"y\":1.0,\"yanchor\":\"bottom\",\"yref\":\"paper\"},{\"font\":{\"size\":16},\"showarrow\":false,\"text\":\"Device Browser - Mean Revenue\",\"x\":0.8555555555555556,\"xanchor\":\"center\",\"xref\":\"paper\",\"y\":1.0,\"yanchor\":\"bottom\",\"yref\":\"paper\"},{\"font\":{\"size\":16},\"showarrow\":false,\"text\":\"Device Category - Count\",\"x\":0.14444444444444446,\"xanchor\":\"center\",\"xref\":\"paper\",\"y\":0.6533333333333333,\"yanchor\":\"bottom\",\"yref\":\"paper\"},{\"font\":{\"size\":16},\"showarrow\":false,\"text\":\"Device Category - Total Revenue \",\"x\":0.5,\"xanchor\":\"center\",\"xref\":\"paper\",\"y\":0.6533333333333333,\"yanchor\":\"bottom\",\"yref\":\"paper\"},{\"font\":{\"size\":16},\"showarrow\":false,\"text\":\"Device Category - Mean Revenue\",\"x\":0.8555555555555556,\"xanchor\":\"center\",\"xref\":\"paper\",\"y\":0.6533333333333333,\"yanchor\":\"bottom\",\"yref\":\"paper\"},{\"font\":{\"size\":16},\"showarrow\":false,\"text\":\"Device OS - Count\",\"x\":0.14444444444444446,\"xanchor\":\"center\",\"xref\":\"paper\",\"y\":0.3066666666666667,\"yanchor\":\"bottom\",\"yref\":\"paper\"},{\"font\":{\"size\":16},\"showarrow\":false,\"text\":\"Device OS - Total Revenue\",\"x\":0.5,\"xanchor\":\"center\",\"xref\":\"paper\",\"y\":0.3066666666666667,\"yanchor\":\"bottom\",\"yref\":\"paper\"},{\"font\":{\"size\":16},\"showarrow\":false,\"text\":\"Device OS - Mean Revenue\",\"x\":0.8555555555555556,\"xanchor\":\"center\",\"xref\":\"paper\",\"y\":0.3066666666666667,\"yanchor\":\"bottom\",\"yref\":\"paper\"}],\"height\":1200,\"paper_bgcolor\":\"#ffffff\",\"template\":{\"data\":{\"barpolar\":[{\"marker\":{\"line\":{\"color\":\"white\",\"width\":0.5},\"pattern\":{\"fillmode\":\"overlay\",\"size\":10,\"solidity\":0.2}},\"type\":\"barpolar\"}],\"bar\":[{\"error_x\":{\"color\":\"#2a3f5f\"},\"error_y\":{\"color\":\"#2a3f5f\"},\"marker\":{\"line\":{\"color\":\"white\",\"width\":0.5},\"pattern\":{\"fillmode\":\"overlay\",\"size\":10,\"solidity\":0.2}},\"type\":\"bar\"}],\"carpet\":[{\"aaxis\":{\"endlinecolor\":\"#2a3f5f\",\"gridcolor\":\"#C8D4E3\",\"linecolor\":\"#C8D4E3\",\"minorgridcolor\":\"#C8D4E3\",\"startlinecolor\":\"#2a3f5f\"},\"baxis\":{\"endlinecolor\":\"#2a3f5f\",\"gridcolor\":\"#C8D4E3\",\"linecolor\":\"#C8D4E3\",\"minorgridcolor\":\"#C8D4E3\",\"startlinecolor\":\"#2a3f5f\"},\"type\":\"carpet\"}],\"choropleth\":[{\"colorbar\":{\"outlinewidth\":0,\"ticks\":\"\"},\"type\":\"choropleth\"}],\"contourcarpet\":[{\"colorbar\":{\"outlinewidth\":0,\"ticks\":\"\"},\"type\":\"contourcarpet\"}],\"contour\":[{\"colorbar\":{\"outlinewidth\":0,\"ticks\":\"\"},\"colorscale\":[[0.0,\"#0d0887\"],[0.1111111111111111,\"#46039f\"],[0.2222222222222222,\"#7201a8\"],[0.3333333333333333,\"#9c179e\"],[0.4444444444444444,\"#bd3786\"],[0.5555555555555556,\"#d8576b\"],[0.6666666666666666,\"#ed7953\"],[0.7777777777777778,\"#fb9f3a\"],[0.8888888888888888,\"#fdca26\"],[1.0,\"#f0f921\"]],\"type\":\"contour\"}],\"heatmapgl\":[{\"colorbar\":{\"outlinewidth\":0,\"ticks\":\"\"},\"colorscale\":[[0.0,\"#0d0887\"],[0.1111111111111111,\"#46039f\"],[0.2222222222222222,\"#7201a8\"],[0.3333333333333333,\"#9c179e\"],[0.4444444444444444,\"#bd3786\"],[0.5555555555555556,\"#d8576b\"],[0.6666666666666666,\"#ed7953\"],[0.7777777777777778,\"#fb9f3a\"],[0.8888888888888888,\"#fdca26\"],[1.0,\"#f0f921\"]],\"type\":\"heatmapgl\"}],\"heatmap\":[{\"colorbar\":{\"outlinewidth\":0,\"ticks\":\"\"},\"colorscale\":[[0.0,\"#0d0887\"],[0.1111111111111111,\"#46039f\"],[0.2222222222222222,\"#7201a8\"],[0.3333333333333333,\"#9c179e\"],[0.4444444444444444,\"#bd3786\"],[0.5555555555555556,\"#d8576b\"],[0.6666666666666666,\"#ed7953\"],[0.7777777777777778,\"#fb9f3a\"],[0.8888888888888888,\"#fdca26\"],[1.0,\"#f0f921\"]],\"type\":\"heatmap\"}],\"histogram2dcontour\":[{\"colorbar\":{\"outlinewidth\":0,\"ticks\":\"\"},\"colorscale\":[[0.0,\"#0d0887\"],[0.1111111111111111,\"#46039f\"],[0.2222222222222222,\"#7201a8\"],[0.3333333333333333,\"#9c179e\"],[0.4444444444444444,\"#bd3786\"],[0.5555555555555556,\"#d8576b\"],[0.6666666666666666,\"#ed7953\"],[0.7777777777777778,\"#fb9f3a\"],[0.8888888888888888,\"#fdca26\"],[1.0,\"#f0f921\"]],\"type\":\"histogram2dcontour\"}],\"histogram2d\":[{\"colorbar\":{\"outlinewidth\":0,\"ticks\":\"\"},\"colorscale\":[[0.0,\"#0d0887\"],[0.1111111111111111,\"#46039f\"],[0.2222222222222222,\"#7201a8\"],[0.3333333333333333,\"#9c179e\"],[0.4444444444444444,\"#bd3786\"],[0.5555555555555556,\"#d8576b\"],[0.6666666666666666,\"#ed7953\"],[0.7777777777777778,\"#fb9f3a\"],[0.8888888888888888,\"#fdca26\"],[1.0,\"#f0f921\"]],\"type\":\"histogram2d\"}],\"histogram\":[{\"marker\":{\"pattern\":{\"fillmode\":\"overlay\",\"size\":10,\"solidity\":0.2}},\"type\":\"histogram\"}],\"mesh3d\":[{\"colorbar\":{\"outlinewidth\":0,\"ticks\":\"\"},\"type\":\"mesh3d\"}],\"parcoords\":[{\"line\":{\"colorbar\":{\"outlinewidth\":0,\"ticks\":\"\"}},\"type\":\"parcoords\"}],\"pie\":[{\"automargin\":true,\"type\":\"pie\"}],\"scatter3d\":[{\"line\":{\"colorbar\":{\"outlinewidth\":0,\"ticks\":\"\"}},\"marker\":{\"colorbar\":{\"outlinewidth\":0,\"ticks\":\"\"}},\"type\":\"scatter3d\"}],\"scattercarpet\":[{\"marker\":{\"colorbar\":{\"outlinewidth\":0,\"ticks\":\"\"}},\"type\":\"scattercarpet\"}],\"scattergeo\":[{\"marker\":{\"colorbar\":{\"outlinewidth\":0,\"ticks\":\"\"}},\"type\":\"scattergeo\"}],\"scattergl\":[{\"marker\":{\"colorbar\":{\"outlinewidth\":0,\"ticks\":\"\"}},\"type\":\"scattergl\"}],\"scattermapbox\":[{\"marker\":{\"colorbar\":{\"outlinewidth\":0,\"ticks\":\"\"}},\"type\":\"scattermapbox\"}],\"scatterpolargl\":[{\"marker\":{\"colorbar\":{\"outlinewidth\":0,\"ticks\":\"\"}},\"type\":\"scatterpolargl\"}],\"scatterpolar\":[{\"marker\":{\"colorbar\":{\"outlinewidth\":0,\"ticks\":\"\"}},\"type\":\"scatterpolar\"}],\"scatter\":[{\"fillpattern\":{\"fillmode\":\"overlay\",\"size\":10,\"solidity\":0.2},\"type\":\"scatter\"}],\"scatterternary\":[{\"marker\":{\"colorbar\":{\"outlinewidth\":0,\"ticks\":\"\"}},\"type\":\"scatterternary\"}],\"surface\":[{\"colorbar\":{\"outlinewidth\":0,\"ticks\":\"\"},\"colorscale\":[[0.0,\"#0d0887\"],[0.1111111111111111,\"#46039f\"],[0.2222222222222222,\"#7201a8\"],[0.3333333333333333,\"#9c179e\"],[0.4444444444444444,\"#bd3786\"],[0.5555555555555556,\"#d8576b\"],[0.6666666666666666,\"#ed7953\"],[0.7777777777777778,\"#fb9f3a\"],[0.8888888888888888,\"#fdca26\"],[1.0,\"#f0f921\"]],\"type\":\"surface\"}],\"table\":[{\"cells\":{\"fill\":{\"color\":\"#EBF0F8\"},\"line\":{\"color\":\"white\"}},\"header\":{\"fill\":{\"color\":\"#C8D4E3\"},\"line\":{\"color\":\"white\"}},\"type\":\"table\"}]},\"layout\":{\"annotationdefaults\":{\"arrowcolor\":\"#2a3f5f\",\"arrowhead\":0,\"arrowwidth\":1},\"autotypenumbers\":\"strict\",\"coloraxis\":{\"colorbar\":{\"outlinewidth\":0,\"ticks\":\"\"}},\"colorscale\":{\"diverging\":[[0,\"#8e0152\"],[0.1,\"#c51b7d\"],[0.2,\"#de77ae\"],[0.3,\"#f1b6da\"],[0.4,\"#fde0ef\"],[0.5,\"#f7f7f7\"],[0.6,\"#e6f5d0\"],[0.7,\"#b8e186\"],[0.8,\"#7fbc41\"],[0.9,\"#4d9221\"],[1,\"#276419\"]],\"sequential\":[[0.0,\"#0d0887\"],[0.1111111111111111,\"#46039f\"],[0.2222222222222222,\"#7201a8\"],[0.3333333333333333,\"#9c179e\"],[0.4444444444444444,\"#bd3786\"],[0.5555555555555556,\"#d8576b\"],[0.6666666666666666,\"#ed7953\"],[0.7777777777777778,\"#fb9f3a\"],[0.8888888888888888,\"#fdca26\"],[1.0,\"#f0f921\"]],\"sequentialminus\":[[0.0,\"#0d0887\"],[0.1111111111111111,\"#46039f\"],[0.2222222222222222,\"#7201a8\"],[0.3333333333333333,\"#9c179e\"],[0.4444444444444444,\"#bd3786\"],[0.5555555555555556,\"#d8576b\"],[0.6666666666666666,\"#ed7953\"],[0.7777777777777778,\"#fb9f3a\"],[0.8888888888888888,\"#fdca26\"],[1.0,\"#f0f921\"]]},\"colorway\":[\"#636efa\",\"#EF553B\",\"#00cc96\",\"#ab63fa\",\"#FFA15A\",\"#19d3f3\",\"#FF6692\",\"#B6E880\",\"#FF97FF\",\"#FECB52\"],\"font\":{\"color\":\"#2a3f5f\"},\"geo\":{\"bgcolor\":\"white\",\"lakecolor\":\"white\",\"landcolor\":\"white\",\"showlakes\":true,\"showland\":true,\"subunitcolor\":\"#C8D4E3\"},\"hoverlabel\":{\"align\":\"left\"},\"hovermode\":\"closest\",\"mapbox\":{\"style\":\"light\"},\"paper_bgcolor\":\"white\",\"plot_bgcolor\":\"white\",\"polar\":{\"angularaxis\":{\"gridcolor\":\"#EBF0F8\",\"linecolor\":\"#EBF0F8\",\"ticks\":\"\"},\"bgcolor\":\"white\",\"radialaxis\":{\"gridcolor\":\"#EBF0F8\",\"linecolor\":\"#EBF0F8\",\"ticks\":\"\"}},\"scene\":{\"xaxis\":{\"backgroundcolor\":\"white\",\"gridcolor\":\"#DFE8F3\",\"gridwidth\":2,\"linecolor\":\"#EBF0F8\",\"showbackground\":true,\"ticks\":\"\",\"zerolinecolor\":\"#EBF0F8\"},\"yaxis\":{\"backgroundcolor\":\"white\",\"gridcolor\":\"#DFE8F3\",\"gridwidth\":2,\"linecolor\":\"#EBF0F8\",\"showbackground\":true,\"ticks\":\"\",\"zerolinecolor\":\"#EBF0F8\"},\"zaxis\":{\"backgroundcolor\":\"white\",\"gridcolor\":\"#DFE8F3\",\"gridwidth\":2,\"linecolor\":\"#EBF0F8\",\"showbackground\":true,\"ticks\":\"\",\"zerolinecolor\":\"#EBF0F8\"}},\"shapedefaults\":{\"line\":{\"color\":\"#2a3f5f\"}},\"ternary\":{\"aaxis\":{\"gridcolor\":\"#DFE8F3\",\"linecolor\":\"#A2B1C6\",\"ticks\":\"\"},\"baxis\":{\"gridcolor\":\"#DFE8F3\",\"linecolor\":\"#A2B1C6\",\"ticks\":\"\"},\"bgcolor\":\"white\",\"caxis\":{\"gridcolor\":\"#DFE8F3\",\"linecolor\":\"#A2B1C6\",\"ticks\":\"\"}},\"title\":{\"x\":0.05},\"xaxis\":{\"automargin\":true,\"gridcolor\":\"#EBF0F8\",\"linecolor\":\"#EBF0F8\",\"ticks\":\"\",\"title\":{\"standoff\":15},\"zerolinecolor\":\"#EBF0F8\",\"zerolinewidth\":2},\"yaxis\":{\"automargin\":true,\"gridcolor\":\"#EBF0F8\",\"linecolor\":\"#EBF0F8\",\"ticks\":\"\",\"title\":{\"standoff\":15},\"zerolinecolor\":\"#EBF0F8\",\"zerolinewidth\":2}}},\"title\":{\"text\":\"Device Plots\"},\"width\":1500,\"xaxis\":{\"anchor\":\"y\",\"domain\":[0.0,0.2888888888888889]},\"yaxis\":{\"anchor\":\"x\",\"domain\":[0.6933333333333334,1.0]},\"xaxis2\":{\"anchor\":\"y2\",\"domain\":[0.35555555555555557,0.6444444444444445]},\"yaxis2\":{\"anchor\":\"x2\",\"domain\":[0.6933333333333334,1.0]},\"xaxis3\":{\"anchor\":\"y3\",\"domain\":[0.7111111111111111,1.0]},\"yaxis3\":{\"anchor\":\"x3\",\"domain\":[0.6933333333333334,1.0]},\"xaxis4\":{\"anchor\":\"y4\",\"domain\":[0.0,0.2888888888888889]},\"yaxis4\":{\"anchor\":\"x4\",\"domain\":[0.3466666666666667,0.6533333333333333]},\"xaxis5\":{\"anchor\":\"y5\",\"domain\":[0.35555555555555557,0.6444444444444445]},\"yaxis5\":{\"anchor\":\"x5\",\"domain\":[0.3466666666666667,0.6533333333333333]},\"xaxis6\":{\"anchor\":\"y6\",\"domain\":[0.7111111111111111,1.0]},\"yaxis6\":{\"anchor\":\"x6\",\"domain\":[0.3466666666666667,0.6533333333333333]},\"xaxis7\":{\"anchor\":\"y7\",\"domain\":[0.0,0.2888888888888889]},\"yaxis7\":{\"anchor\":\"x7\",\"domain\":[0.0,0.3066666666666667]},\"xaxis8\":{\"anchor\":\"y8\",\"domain\":[0.35555555555555557,0.6444444444444445]},\"yaxis8\":{\"anchor\":\"x8\",\"domain\":[0.0,0.3066666666666667]},\"xaxis9\":{\"anchor\":\"y9\",\"domain\":[0.7111111111111111,1.0]},\"yaxis9\":{\"anchor\":\"x9\",\"domain\":[0.0,0.3066666666666667]}},                        {\"responsive\": true}                    ).then(function(){\n",
       "                            \n",
       "var gd = document.getElementById('307e7864-6b10-4fa9-b493-2ac6cc8ffbf3');\n",
       "var x = new MutationObserver(function (mutations, observer) {{\n",
       "        var display = window.getComputedStyle(gd).display;\n",
       "        if (!display || display === 'none') {{\n",
       "            console.log([gd, 'removed!']);\n",
       "            Plotly.purge(gd);\n",
       "            observer.disconnect();\n",
       "        }}\n",
       "}});\n",
       "\n",
       "// Listen for the removal of the full notebook cells\n",
       "var notebookContainer = gd.closest('#notebook-container');\n",
       "if (notebookContainer) {{\n",
       "    x.observe(notebookContainer, {childList: true});\n",
       "}}\n",
       "\n",
       "// Listen for the clearing of the current output cell\n",
       "var outputEl = gd.closest('.output');\n",
       "if (outputEl) {{\n",
       "    x.observe(outputEl, {childList: true});\n",
       "}}\n",
       "\n",
       "                        })                };                });            </script>        </div>"
      ]
     },
     "metadata": {},
     "output_type": "display_data"
    }
   ],
   "source": [
    "df_train['device_browser'].value_counts()[:10].reset_index()\n",
    "\n",
    "\n",
    "def horizontal_bar_chart(cnt_srs, color):\n",
    "    trace = go.Bar(\n",
    "        y=cnt_srs.index[::-1],\n",
    "        x=cnt_srs.values[::-1],\n",
    "        showlegend=False,\n",
    "        orientation = 'h',\n",
    "        marker=dict(\n",
    "            color=color,\n",
    "        ),\n",
    "    )\n",
    "    return trace\n",
    "\n",
    "# Браузер\n",
    "cnt_srs = df_train.groupby('device_browser')['totals_transactionRevenue'].agg(['size', 'sum', 'mean'])\n",
    "cnt_srs.columns = [\"count\", \"total revenue\", \"mean\"]\n",
    "cnt_srs = cnt_srs.sort_values(by=\"count\", ascending=False)\n",
    "trace1 = horizontal_bar_chart(cnt_srs[\"count\"].head(10), '#073b4c')\n",
    "trace2 = horizontal_bar_chart(cnt_srs[\"total revenue\"].head(10), '#073b4c')\n",
    "trace3 = horizontal_bar_chart(cnt_srs[\"mean\"].head(10), '#073b4c')\n",
    "\n",
    "# Категория девайса\n",
    "cnt_srs = df_train.groupby('device_deviceCategory')['totals_transactionRevenue'].agg(['size', 'sum', 'mean'])\n",
    "cnt_srs.columns = [\"count\", \"total revenue\", \"mean\"]\n",
    "cnt_srs = cnt_srs.sort_values(by=\"count\", ascending=False)\n",
    "trace4 = horizontal_bar_chart(cnt_srs[\"count\"].head(10), '#118ab2')\n",
    "trace5 = horizontal_bar_chart(cnt_srs[\"total revenue\"].head(10), '#118ab2')\n",
    "trace6 = horizontal_bar_chart(cnt_srs[\"mean\"].head(10), '#118ab2')\n",
    "\n",
    "# ОС\n",
    "cnt_srs = df_train.groupby('device_operatingSystem')['totals_transactionRevenue'].agg(['size', 'sum', 'mean'])\n",
    "cnt_srs.columns = [\"count\", \"total revenue\", \"mean\"]\n",
    "cnt_srs = cnt_srs.sort_values(by=\"count\", ascending=False)\n",
    "trace7 = horizontal_bar_chart(cnt_srs[\"count\"].head(10), '#ef476f')\n",
    "trace8 = horizontal_bar_chart(cnt_srs[\"total revenue\"].head(10),'#ef476f')\n",
    "trace9 = horizontal_bar_chart(cnt_srs[\"mean\"].head(10),'#ef476f')\n",
    "\n",
    "fig = tools.make_subplots(rows=3, cols=3, vertical_spacing=0.04, \n",
    "                          subplot_titles=[\"Device Browser - Count\", \"Device Browser - Total Revenue\", \"Device Browser - Mean Revenue\",\n",
    "                                          \"Device Category - Count\",  \"Device Category - Total Revenue \", \"Device Category - Mean Revenue\", \n",
    "                                          \"Device OS - Count\", \"Device OS - Total Revenue\", \"Device OS - Mean Revenue\"])\n",
    "\n",
    "fig.append_trace(trace1, 1, 1)\n",
    "fig.append_trace(trace2, 1, 2)\n",
    "fig.append_trace(trace3, 1, 3)\n",
    "fig.append_trace(trace4, 2, 1)\n",
    "fig.append_trace(trace5, 2, 2)\n",
    "fig.append_trace(trace6, 2, 3)\n",
    "fig.append_trace(trace7, 3, 1)\n",
    "fig.append_trace(trace8, 3, 2)\n",
    "fig.append_trace(trace9, 3, 3)\n",
    "\n",
    "fig['layout'].update(height=1200, width=1500, template='plotly_white',paper_bgcolor='#ffffff', title=\"Device Plots\")\n",
    "plty.iplot(fig, filename='device-plots')"
   ]
  },
  {
   "cell_type": "markdown",
   "metadata": {},
   "source": [
    "Выводы:\n",
    "1. Основные покупки в гугл стор делаются с компьютера\n",
    "2. В среднем пользователи с хром ОС приносят сильно больше других юзеров\n",
    "3. Кто-то пользуется Firefox"
   ]
  },
  {
   "cell_type": "markdown",
   "metadata": {},
   "source": [
    "### Анализ трафика"
   ]
  },
  {
   "cell_type": "code",
   "execution_count": 65,
   "metadata": {},
   "outputs": [
    {
     "data": {
      "image/png": "[encoded data removed]",
      "text/plain": [
       "<Figure size 1000x1000 with 3 Axes>"
      ]
     },
     "metadata": {},
     "output_type": "display_data"
    }
   ],
   "source": [
    "group = df_train.groupby('channelGrouping')['totals_transactionRevenue'].agg(['count','sum','mean']).reset_index()\n",
    "\n",
    "color = [\"#ffa69e\",\"#faf3dd\",\"#b8f2e6\",\"#aed9e0\",\"#5e6472\",'#f6bd60','#84a59d','#f8edeb']\n",
    "customPalette = sns.set_palette(sns.color_palette(color))\n",
    "\n",
    "fig = plt.figure(figsize=(10,10))\n",
    "\n",
    "ax1 = fig.add_subplot(311)\n",
    "_ = sns.barplot(data=group, x='channelGrouping', y='count', palette= customPalette, ax=ax1)\n",
    "xlabels = group['channelGrouping'].to_list()\n",
    "ylabels = group['count']\n",
    "_ = ax1.set_title('Number of Users', fontsize=20)\n",
    "_ = ax1.set_ylabel('Number of Users', fontsize=14)\n",
    "_ = ax1.set_xlabel('')\n",
    "_ = ax1.set_xticklabels(xlabels, rotation=30, fontsize=10)\n",
    "\n",
    "ax2 = fig.add_subplot(312)\n",
    "_ = sns.barplot(data=group, x='channelGrouping', y='sum', palette= customPalette, ax=ax2)\n",
    "xlabels = group['channelGrouping'].to_list()\n",
    "ylabels = group['sum']\n",
    "_ = ax2.set_title('Total Revenue', fontsize=20)\n",
    "_ = ax2.set_ylabel('Total Revenue', fontsize=14)\n",
    "_ = ax2.set_xlabel('')\n",
    "_ = ax2.set_xticklabels(xlabels, rotation=30, fontsize=10)\n",
    "\n",
    "ax3 = fig.add_subplot(313)\n",
    "_ = sns.barplot(data=group, x='channelGrouping', y='mean', palette= customPalette, ax=ax3)\n",
    "xlabels = group['channelGrouping'].to_list()\n",
    "ylabels = group['mean']\n",
    "_ = ax3.set_title('Average Revenue', fontsize=20)\n",
    "_ = ax3.set_ylabel('Average Revenue', fontsize=14)\n",
    "_ = ax3.set_xlabel('')\n",
    "_ = ax3.set_xticklabels(xlabels, rotation=30, fontsize=10)\n",
    "\n",
    "fig.tight_layout(pad=0.5)"
   ]
  },
  {
   "cell_type": "markdown",
   "metadata": {},
   "source": [
    "Выводы:\n",
    "Рефералки явялются самым эффективным инструментом"
   ]
  },
  {
   "cell_type": "code",
   "execution_count": 66,
   "metadata": {},
   "outputs": [
    {
     "data": {
      "application/vnd.plotly.v1+json": {
       "config": {
        "plotlyServerURL": "https://plot.ly"
       },
       "data": [
        {
         "alignmentgroup": "True",
         "hovertemplate": "device_browser=Chrome<br>channelGrouping=%{x}<br>Count=%{y}<extra></extra>",
         "legendgroup": "Chrome",
         "marker": {
          "color": "#264653",
          "pattern": {
           "shape": ""
          }
         },
         "name": "Chrome",
         "offsetgroup": "Chrome",
         "orientation": "v",
         "showlegend": true,
         "textposition": "auto",
         "type": "bar",
         "x": [
          "(Other)",
          "Affiliates",
          "Direct",
          "Display",
          "Organic Search",
          "Paid Search",
          "Referral",
          "Social"
         ],
         "xaxis": "x",
         "y": [
          14,
          8050,
          66080,
          3791,
          167899,
          11699,
          63437,
          105402
         ],
         "yaxis": "y"
        },
        {
         "alignmentgroup": "True",
         "hovertemplate": "device_browser=Mozilla Compatible Agent<br>channelGrouping=%{x}<br>Count=%{y}<extra></extra>",
         "legendgroup": "Mozilla Compatible Agent",
         "marker": {
          "color": "#2a9d8f",
          "pattern": {
           "shape": ""
          }
         },
         "name": "Mozilla Compatible Agent",
         "offsetgroup": "Mozilla Compatible Agent",
         "orientation": "v",
         "showlegend": true,
         "textposition": "auto",
         "type": "bar",
         "x": [
          "(Other)"
         ],
         "xaxis": "x",
         "y": [
          1
         ],
         "yaxis": "y"
        },
        {
         "alignmentgroup": "True",
         "hovertemplate": "device_browser=Safari<br>channelGrouping=%{x}<br>Count=%{y}<extra></extra>",
         "legendgroup": "Safari",
         "marker": {
          "color": "#e9c46a",
          "pattern": {
           "shape": ""
          }
         },
         "name": "Safari",
         "offsetgroup": "Safari",
         "orientation": "v",
         "showlegend": true,
         "textposition": "auto",
         "type": "bar",
         "x": [
          "(Other)",
          "Affiliates",
          "Direct",
          "Display",
          "Organic Search",
          "Paid Search",
          "Referral",
          "Social"
         ],
         "xaxis": "x",
         "y": [
          1,
          787,
          11979,
          486,
          49435,
          4275,
          2013,
          67962
         ],
         "yaxis": "y"
        },
        {
         "alignmentgroup": "True",
         "hovertemplate": "device_browser=Firefox<br>channelGrouping=%{x}<br>Count=%{y}<extra></extra>",
         "legendgroup": "Firefox",
         "marker": {
          "color": "#f4a261",
          "pattern": {
           "shape": ""
          }
         },
         "name": "Firefox",
         "offsetgroup": "Firefox",
         "orientation": "v",
         "showlegend": true,
         "textposition": "auto",
         "type": "bar",
         "x": [
          "Affiliates",
          "Direct",
          "Display",
          "Organic Search",
          "Paid Search",
          "Referral",
          "Social"
         ],
         "xaxis": "x",
         "y": [
          895,
          3266,
          151,
          12748,
          441,
          1488,
          7124
         ],
         "yaxis": "y"
        },
        {
         "alignmentgroup": "True",
         "hovertemplate": "device_browser=Internet Explorer<br>channelGrouping=%{x}<br>Count=%{y}<extra></extra>",
         "legendgroup": "Internet Explorer",
         "marker": {
          "color": "#e76f51",
          "pattern": {
           "shape": ""
          }
         },
         "name": "Internet Explorer",
         "offsetgroup": "Internet Explorer",
         "orientation": "v",
         "showlegend": true,
         "textposition": "auto",
         "type": "bar",
         "x": [
          "Affiliates",
          "Direct",
          "Display",
          "Organic Search",
          "Referral",
          "Social"
         ],
         "xaxis": "x",
         "y": [
          291,
          3397,
          62,
          4465,
          405,
          5343
         ],
         "yaxis": "y"
        },
        {
         "alignmentgroup": "True",
         "hovertemplate": "device_browser=Edge<br>channelGrouping=%{x}<br>Count=%{y}<extra></extra>",
         "legendgroup": "Edge",
         "marker": {
          "color": "#457b9d",
          "pattern": {
           "shape": ""
          }
         },
         "name": "Edge",
         "offsetgroup": "Edge",
         "orientation": "v",
         "showlegend": true,
         "textposition": "auto",
         "type": "bar",
         "x": [
          "Paid Search"
         ],
         "xaxis": "x",
         "y": [
          145
         ],
         "yaxis": "y"
        }
       ],
       "layout": {
        "barmode": "relative",
        "legend": {
         "title": {
          "text": "device_browser"
         },
         "tracegroupgap": 0
        },
        "margin": {
         "t": 60
        },
        "template": {
         "data": {
          "bar": [
           {
            "error_x": {
             "color": "#2a3f5f"
            },
            "error_y": {
             "color": "#2a3f5f"
            },
            "marker": {
             "line": {
              "color": "white",
              "width": 0.5
             },
             "pattern": {
              "fillmode": "overlay",
              "size": 10,
              "solidity": 0.2
             }
            },
            "type": "bar"
           }
          ],
          "barpolar": [
           {
            "marker": {
             "line": {
              "color": "white",
              "width": 0.5
             },
             "pattern": {
              "fillmode": "overlay",
              "size": 10,
              "solidity": 0.2
             }
            },
            "type": "barpolar"
           }
          ],
          "carpet": [
           {
            "aaxis": {
             "endlinecolor": "#2a3f5f",
             "gridcolor": "#C8D4E3",
             "linecolor": "#C8D4E3",
             "minorgridcolor": "#C8D4E3",
             "startlinecolor": "#2a3f5f"
            },
            "baxis": {
             "endlinecolor": "#2a3f5f",
             "gridcolor": "#C8D4E3",
             "linecolor": "#C8D4E3",
             "minorgridcolor": "#C8D4E3",
             "startlinecolor": "#2a3f5f"
            },
            "type": "carpet"
           }
          ],
          "choropleth": [
           {
            "colorbar": {
             "outlinewidth": 0,
             "ticks": ""
            },
            "type": "choropleth"
           }
          ],
          "contour": [
           {
            "colorbar": {
             "outlinewidth": 0,
             "ticks": ""
            },
            "colorscale": [
             [
              0,
              "#0d0887"
             ],
             [
              0.1111111111111111,
              "#46039f"
             ],
             [
              0.2222222222222222,
              "#7201a8"
             ],
             [
              0.3333333333333333,
              "#9c179e"
             ],
             [
              0.4444444444444444,
              "#bd3786"
             ],
             [
              0.5555555555555556,
              "#d8576b"
             ],
             [
              0.6666666666666666,
              "#ed7953"
             ],
             [
              0.7777777777777778,
              "#fb9f3a"
             ],
             [
              0.8888888888888888,
              "#fdca26"
             ],
             [
              1,
              "#f0f921"
             ]
            ],
            "type": "contour"
           }
          ],
          "contourcarpet": [
           {
            "colorbar": {
             "outlinewidth": 0,
             "ticks": ""
            },
            "type": "contourcarpet"
           }
          ],
          "heatmap": [
           {
            "colorbar": {
             "outlinewidth": 0,
             "ticks": ""
            },
            "colorscale": [
             [
              0,
              "#0d0887"
             ],
             [
              0.1111111111111111,
              "#46039f"
             ],
             [
              0.2222222222222222,
              "#7201a8"
             ],
             [
              0.3333333333333333,
              "#9c179e"
             ],
             [
              0.4444444444444444,
              "#bd3786"
             ],
             [
              0.5555555555555556,
              "#d8576b"
             ],
             [
              0.6666666666666666,
              "#ed7953"
             ],
             [
              0.7777777777777778,
              "#fb9f3a"
             ],
             [
              0.8888888888888888,
              "#fdca26"
             ],
             [
              1,
              "#f0f921"
             ]
            ],
            "type": "heatmap"
           }
          ],
          "heatmapgl": [
           {
            "colorbar": {
             "outlinewidth": 0,
             "ticks": ""
            },
            "colorscale": [
             [
              0,
              "#0d0887"
             ],
             [
              0.1111111111111111,
              "#46039f"
             ],
             [
              0.2222222222222222,
              "#7201a8"
             ],
             [
              0.3333333333333333,
              "#9c179e"
             ],
             [
              0.4444444444444444,
              "#bd3786"
             ],
             [
              0.5555555555555556,
              "#d8576b"
             ],
             [
              0.6666666666666666,
              "#ed7953"
             ],
             [
              0.7777777777777778,
              "#fb9f3a"
             ],
             [
              0.8888888888888888,
              "#fdca26"
             ],
             [
              1,
              "#f0f921"
             ]
            ],
            "type": "heatmapgl"
           }
          ],
          "histogram": [
           {
            "marker": {
             "pattern": {
              "fillmode": "overlay",
              "size": 10,
              "solidity": 0.2
             }
            },
            "type": "histogram"
           }
          ],
          "histogram2d": [
           {
            "colorbar": {
             "outlinewidth": 0,
             "ticks": ""
            },
            "colorscale": [
             [
              0,
              "#0d0887"
             ],
             [
              0.1111111111111111,
              "#46039f"
             ],
             [
              0.2222222222222222,
              "#7201a8"
             ],
             [
              0.3333333333333333,
              "#9c179e"
             ],
             [
              0.4444444444444444,
              "#bd3786"
             ],
             [
              0.5555555555555556,
              "#d8576b"
             ],
             [
              0.6666666666666666,
              "#ed7953"
             ],
             [
              0.7777777777777778,
              "#fb9f3a"
             ],
             [
              0.8888888888888888,
              "#fdca26"
             ],
             [
              1,
              "#f0f921"
             ]
            ],
            "type": "histogram2d"
           }
          ],
          "histogram2dcontour": [
           {
            "colorbar": {
             "outlinewidth": 0,
             "ticks": ""
            },
            "colorscale": [
             [
              0,
              "#0d0887"
             ],
             [
              0.1111111111111111,
              "#46039f"
             ],
             [
              0.2222222222222222,
              "#7201a8"
             ],
             [
              0.3333333333333333,
              "#9c179e"
             ],
             [
              0.4444444444444444,
              "#bd3786"
             ],
             [
              0.5555555555555556,
              "#d8576b"
             ],
             [
              0.6666666666666666,
              "#ed7953"
             ],
             [
              0.7777777777777778,
              "#fb9f3a"
             ],
             [
              0.8888888888888888,
              "#fdca26"
             ],
             [
              1,
              "#f0f921"
             ]
            ],
            "type": "histogram2dcontour"
           }
          ],
          "mesh3d": [
           {
            "colorbar": {
             "outlinewidth": 0,
             "ticks": ""
            },
            "type": "mesh3d"
           }
          ],
          "parcoords": [
           {
            "line": {
             "colorbar": {
              "outlinewidth": 0,
              "ticks": ""
             }
            },
            "type": "parcoords"
           }
          ],
          "pie": [
           {
            "automargin": true,
            "type": "pie"
           }
          ],
          "scatter": [
           {
            "fillpattern": {
             "fillmode": "overlay",
             "size": 10,
             "solidity": 0.2
            },
            "type": "scatter"
           }
          ],
          "scatter3d": [
           {
            "line": {
             "colorbar": {
              "outlinewidth": 0,
              "ticks": ""
             }
            },
            "marker": {
             "colorbar": {
              "outlinewidth": 0,
              "ticks": ""
             }
            },
            "type": "scatter3d"
           }
          ],
          "scattercarpet": [
           {
            "marker": {
             "colorbar": {
              "outlinewidth": 0,
              "ticks": ""
             }
            },
            "type": "scattercarpet"
           }
          ],
          "scattergeo": [
           {
            "marker": {
             "colorbar": {
              "outlinewidth": 0,
              "ticks": ""
             }
            },
            "type": "scattergeo"
           }
          ],
          "scattergl": [
           {
            "marker": {
             "colorbar": {
              "outlinewidth": 0,
              "ticks": ""
             }
            },
            "type": "scattergl"
           }
          ],
          "scattermapbox": [
           {
            "marker": {
             "colorbar": {
              "outlinewidth": 0,
              "ticks": ""
             }
            },
            "type": "scattermapbox"
           }
          ],
          "scatterpolar": [
           {
            "marker": {
             "colorbar": {
              "outlinewidth": 0,
              "ticks": ""
             }
            },
            "type": "scatterpolar"
           }
          ],
          "scatterpolargl": [
           {
            "marker": {
             "colorbar": {
              "outlinewidth": 0,
              "ticks": ""
             }
            },
            "type": "scatterpolargl"
           }
          ],
          "scatterternary": [
           {
            "marker": {
             "colorbar": {
              "outlinewidth": 0,
              "ticks": ""
             }
            },
            "type": "scatterternary"
           }
          ],
          "surface": [
           {
            "colorbar": {
             "outlinewidth": 0,
             "ticks": ""
            },
            "colorscale": [
             [
              0,
              "#0d0887"
             ],
             [
              0.1111111111111111,
              "#46039f"
             ],
             [
              0.2222222222222222,
              "#7201a8"
             ],
             [
              0.3333333333333333,
              "#9c179e"
             ],
             [
              0.4444444444444444,
              "#bd3786"
             ],
             [
              0.5555555555555556,
              "#d8576b"
             ],
             [
              0.6666666666666666,
              "#ed7953"
             ],
             [
              0.7777777777777778,
              "#fb9f3a"
             ],
             [
              0.8888888888888888,
              "#fdca26"
             ],
             [
              1,
              "#f0f921"
             ]
            ],
            "type": "surface"
           }
          ],
          "table": [
           {
            "cells": {
             "fill": {
              "color": "#EBF0F8"
             },
             "line": {
              "color": "white"
             }
            },
            "header": {
             "fill": {
              "color": "#C8D4E3"
             },
             "line": {
              "color": "white"
             }
            },
            "type": "table"
           }
          ]
         },
         "layout": {
          "annotationdefaults": {
           "arrowcolor": "#2a3f5f",
           "arrowhead": 0,
           "arrowwidth": 1
          },
          "autotypenumbers": "strict",
          "coloraxis": {
           "colorbar": {
            "outlinewidth": 0,
            "ticks": ""
           }
          },
          "colorscale": {
           "diverging": [
            [
             0,
             "#8e0152"
            ],
            [
             0.1,
             "#c51b7d"
            ],
            [
             0.2,
             "#de77ae"
            ],
            [
             0.3,
             "#f1b6da"
            ],
            [
             0.4,
             "#fde0ef"
            ],
            [
             0.5,
             "#f7f7f7"
            ],
            [
             0.6,
             "#e6f5d0"
            ],
            [
             0.7,
             "#b8e186"
            ],
            [
             0.8,
             "#7fbc41"
            ],
            [
             0.9,
             "#4d9221"
            ],
            [
             1,
             "#276419"
            ]
           ],
           "sequential": [
            [
             0,
             "#0d0887"
            ],
            [
             0.1111111111111111,
             "#46039f"
            ],
            [
             0.2222222222222222,
             "#7201a8"
            ],
            [
             0.3333333333333333,
             "#9c179e"
            ],
            [
             0.4444444444444444,
             "#bd3786"
            ],
            [
             0.5555555555555556,
             "#d8576b"
            ],
            [
             0.6666666666666666,
             "#ed7953"
            ],
            [
             0.7777777777777778,
             "#fb9f3a"
            ],
            [
             0.8888888888888888,
             "#fdca26"
            ],
            [
             1,
             "#f0f921"
            ]
           ],
           "sequentialminus": [
            [
             0,
             "#0d0887"
            ],
            [
             0.1111111111111111,
             "#46039f"
            ],
            [
             0.2222222222222222,
             "#7201a8"
            ],
            [
             0.3333333333333333,
             "#9c179e"
            ],
            [
             0.4444444444444444,
             "#bd3786"
            ],
            [
             0.5555555555555556,
             "#d8576b"
            ],
            [
             0.6666666666666666,
             "#ed7953"
            ],
            [
             0.7777777777777778,
             "#fb9f3a"
            ],
            [
             0.8888888888888888,
             "#fdca26"
            ],
            [
             1,
             "#f0f921"
            ]
           ]
          },
          "colorway": [
           "#636efa",
           "#EF553B",
           "#00cc96",
           "#ab63fa",
           "#FFA15A",
           "#19d3f3",
           "#FF6692",
           "#B6E880",
           "#FF97FF",
           "#FECB52"
          ],
          "font": {
           "color": "#2a3f5f"
          },
          "geo": {
           "bgcolor": "white",
           "lakecolor": "white",
           "landcolor": "white",
           "showlakes": true,
           "showland": true,
           "subunitcolor": "#C8D4E3"
          },
          "hoverlabel": {
           "align": "left"
          },
          "hovermode": "closest",
          "mapbox": {
           "style": "light"
          },
          "paper_bgcolor": "white",
          "plot_bgcolor": "white",
          "polar": {
           "angularaxis": {
            "gridcolor": "#EBF0F8",
            "linecolor": "#EBF0F8",
            "ticks": ""
           },
           "bgcolor": "white",
           "radialaxis": {
            "gridcolor": "#EBF0F8",
            "linecolor": "#EBF0F8",
            "ticks": ""
           }
          },
          "scene": {
           "xaxis": {
            "backgroundcolor": "white",
            "gridcolor": "#DFE8F3",
            "gridwidth": 2,
            "linecolor": "#EBF0F8",
            "showbackground": true,
            "ticks": "",
            "zerolinecolor": "#EBF0F8"
           },
           "yaxis": {
            "backgroundcolor": "white",
            "gridcolor": "#DFE8F3",
            "gridwidth": 2,
            "linecolor": "#EBF0F8",
            "showbackground": true,
            "ticks": "",
            "zerolinecolor": "#EBF0F8"
           },
           "zaxis": {
            "backgroundcolor": "white",
            "gridcolor": "#DFE8F3",
            "gridwidth": 2,
            "linecolor": "#EBF0F8",
            "showbackground": true,
            "ticks": "",
            "zerolinecolor": "#EBF0F8"
           }
          },
          "shapedefaults": {
           "line": {
            "color": "#2a3f5f"
           }
          },
          "ternary": {
           "aaxis": {
            "gridcolor": "#DFE8F3",
            "linecolor": "#A2B1C6",
            "ticks": ""
           },
           "baxis": {
            "gridcolor": "#DFE8F3",
            "linecolor": "#A2B1C6",
            "ticks": ""
           },
           "bgcolor": "white",
           "caxis": {
            "gridcolor": "#DFE8F3",
            "linecolor": "#A2B1C6",
            "ticks": ""
           }
          },
          "title": {
           "x": 0.05
          },
          "xaxis": {
           "automargin": true,
           "gridcolor": "#EBF0F8",
           "linecolor": "#EBF0F8",
           "ticks": "",
           "title": {
            "standoff": 15
           },
           "zerolinecolor": "#EBF0F8",
           "zerolinewidth": 2
          },
          "yaxis": {
           "automargin": true,
           "gridcolor": "#EBF0F8",
           "linecolor": "#EBF0F8",
           "ticks": "",
           "title": {
            "standoff": 15
           },
           "zerolinecolor": "#EBF0F8",
           "zerolinewidth": 2
          }
         }
        },
        "xaxis": {
         "anchor": "y",
         "domain": [
          0,
          1
         ],
         "title": {
          "text": "channelGrouping"
         }
        },
        "yaxis": {
         "anchor": "x",
         "domain": [
          0,
          1
         ],
         "title": {
          "text": "Count"
         }
        }
       }
      },
      "text/html": [
       "<div>                            <div id=\"7c977945-1baf-44a7-b62d-2c51de8b47d9\" class=\"plotly-graph-div\" style=\"height:525px; width:100%;\"></div>            <script type=\"text/javascript\">                require([\"plotly\"], function(Plotly) {                    window.PLOTLYENV=window.PLOTLYENV || {};                                    if (document.getElementById(\"7c977945-1baf-44a7-b62d-2c51de8b47d9\")) {                    Plotly.newPlot(                        \"7c977945-1baf-44a7-b62d-2c51de8b47d9\",                        [{\"alignmentgroup\":\"True\",\"hovertemplate\":\"device_browser=Chrome\\u003cbr\\u003echannelGrouping=%{x}\\u003cbr\\u003eCount=%{y}\\u003cextra\\u003e\\u003c\\u002fextra\\u003e\",\"legendgroup\":\"Chrome\",\"marker\":{\"color\":\"#264653\",\"pattern\":{\"shape\":\"\"}},\"name\":\"Chrome\",\"offsetgroup\":\"Chrome\",\"orientation\":\"v\",\"showlegend\":true,\"textposition\":\"auto\",\"x\":[\"(Other)\",\"Affiliates\",\"Direct\",\"Display\",\"Organic Search\",\"Paid Search\",\"Referral\",\"Social\"],\"xaxis\":\"x\",\"y\":[14,8050,66080,3791,167899,11699,63437,105402],\"yaxis\":\"y\",\"type\":\"bar\"},{\"alignmentgroup\":\"True\",\"hovertemplate\":\"device_browser=Mozilla Compatible Agent\\u003cbr\\u003echannelGrouping=%{x}\\u003cbr\\u003eCount=%{y}\\u003cextra\\u003e\\u003c\\u002fextra\\u003e\",\"legendgroup\":\"Mozilla Compatible Agent\",\"marker\":{\"color\":\"#2a9d8f\",\"pattern\":{\"shape\":\"\"}},\"name\":\"Mozilla Compatible Agent\",\"offsetgroup\":\"Mozilla Compatible Agent\",\"orientation\":\"v\",\"showlegend\":true,\"textposition\":\"auto\",\"x\":[\"(Other)\"],\"xaxis\":\"x\",\"y\":[1],\"yaxis\":\"y\",\"type\":\"bar\"},{\"alignmentgroup\":\"True\",\"hovertemplate\":\"device_browser=Safari\\u003cbr\\u003echannelGrouping=%{x}\\u003cbr\\u003eCount=%{y}\\u003cextra\\u003e\\u003c\\u002fextra\\u003e\",\"legendgroup\":\"Safari\",\"marker\":{\"color\":\"#e9c46a\",\"pattern\":{\"shape\":\"\"}},\"name\":\"Safari\",\"offsetgroup\":\"Safari\",\"orientation\":\"v\",\"showlegend\":true,\"textposition\":\"auto\",\"x\":[\"(Other)\",\"Affiliates\",\"Direct\",\"Display\",\"Organic Search\",\"Paid Search\",\"Referral\",\"Social\"],\"xaxis\":\"x\",\"y\":[1,787,11979,486,49435,4275,2013,67962],\"yaxis\":\"y\",\"type\":\"bar\"},{\"alignmentgroup\":\"True\",\"hovertemplate\":\"device_browser=Firefox\\u003cbr\\u003echannelGrouping=%{x}\\u003cbr\\u003eCount=%{y}\\u003cextra\\u003e\\u003c\\u002fextra\\u003e\",\"legendgroup\":\"Firefox\",\"marker\":{\"color\":\"#f4a261\",\"pattern\":{\"shape\":\"\"}},\"name\":\"Firefox\",\"offsetgroup\":\"Firefox\",\"orientation\":\"v\",\"showlegend\":true,\"textposition\":\"auto\",\"x\":[\"Affiliates\",\"Direct\",\"Display\",\"Organic Search\",\"Paid Search\",\"Referral\",\"Social\"],\"xaxis\":\"x\",\"y\":[895,3266,151,12748,441,1488,7124],\"yaxis\":\"y\",\"type\":\"bar\"},{\"alignmentgroup\":\"True\",\"hovertemplate\":\"device_browser=Internet Explorer\\u003cbr\\u003echannelGrouping=%{x}\\u003cbr\\u003eCount=%{y}\\u003cextra\\u003e\\u003c\\u002fextra\\u003e\",\"legendgroup\":\"Internet Explorer\",\"marker\":{\"color\":\"#e76f51\",\"pattern\":{\"shape\":\"\"}},\"name\":\"Internet Explorer\",\"offsetgroup\":\"Internet Explorer\",\"orientation\":\"v\",\"showlegend\":true,\"textposition\":\"auto\",\"x\":[\"Affiliates\",\"Direct\",\"Display\",\"Organic Search\",\"Referral\",\"Social\"],\"xaxis\":\"x\",\"y\":[291,3397,62,4465,405,5343],\"yaxis\":\"y\",\"type\":\"bar\"},{\"alignmentgroup\":\"True\",\"hovertemplate\":\"device_browser=Edge\\u003cbr\\u003echannelGrouping=%{x}\\u003cbr\\u003eCount=%{y}\\u003cextra\\u003e\\u003c\\u002fextra\\u003e\",\"legendgroup\":\"Edge\",\"marker\":{\"color\":\"#457b9d\",\"pattern\":{\"shape\":\"\"}},\"name\":\"Edge\",\"offsetgroup\":\"Edge\",\"orientation\":\"v\",\"showlegend\":true,\"textposition\":\"auto\",\"x\":[\"Paid Search\"],\"xaxis\":\"x\",\"y\":[145],\"yaxis\":\"y\",\"type\":\"bar\"}],                        {\"template\":{\"data\":{\"barpolar\":[{\"marker\":{\"line\":{\"color\":\"white\",\"width\":0.5},\"pattern\":{\"fillmode\":\"overlay\",\"size\":10,\"solidity\":0.2}},\"type\":\"barpolar\"}],\"bar\":[{\"error_x\":{\"color\":\"#2a3f5f\"},\"error_y\":{\"color\":\"#2a3f5f\"},\"marker\":{\"line\":{\"color\":\"white\",\"width\":0.5},\"pattern\":{\"fillmode\":\"overlay\",\"size\":10,\"solidity\":0.2}},\"type\":\"bar\"}],\"carpet\":[{\"aaxis\":{\"endlinecolor\":\"#2a3f5f\",\"gridcolor\":\"#C8D4E3\",\"linecolor\":\"#C8D4E3\",\"minorgridcolor\":\"#C8D4E3\",\"startlinecolor\":\"#2a3f5f\"},\"baxis\":{\"endlinecolor\":\"#2a3f5f\",\"gridcolor\":\"#C8D4E3\",\"linecolor\":\"#C8D4E3\",\"minorgridcolor\":\"#C8D4E3\",\"startlinecolor\":\"#2a3f5f\"},\"type\":\"carpet\"}],\"choropleth\":[{\"colorbar\":{\"outlinewidth\":0,\"ticks\":\"\"},\"type\":\"choropleth\"}],\"contourcarpet\":[{\"colorbar\":{\"outlinewidth\":0,\"ticks\":\"\"},\"type\":\"contourcarpet\"}],\"contour\":[{\"colorbar\":{\"outlinewidth\":0,\"ticks\":\"\"},\"colorscale\":[[0.0,\"#0d0887\"],[0.1111111111111111,\"#46039f\"],[0.2222222222222222,\"#7201a8\"],[0.3333333333333333,\"#9c179e\"],[0.4444444444444444,\"#bd3786\"],[0.5555555555555556,\"#d8576b\"],[0.6666666666666666,\"#ed7953\"],[0.7777777777777778,\"#fb9f3a\"],[0.8888888888888888,\"#fdca26\"],[1.0,\"#f0f921\"]],\"type\":\"contour\"}],\"heatmapgl\":[{\"colorbar\":{\"outlinewidth\":0,\"ticks\":\"\"},\"colorscale\":[[0.0,\"#0d0887\"],[0.1111111111111111,\"#46039f\"],[0.2222222222222222,\"#7201a8\"],[0.3333333333333333,\"#9c179e\"],[0.4444444444444444,\"#bd3786\"],[0.5555555555555556,\"#d8576b\"],[0.6666666666666666,\"#ed7953\"],[0.7777777777777778,\"#fb9f3a\"],[0.8888888888888888,\"#fdca26\"],[1.0,\"#f0f921\"]],\"type\":\"heatmapgl\"}],\"heatmap\":[{\"colorbar\":{\"outlinewidth\":0,\"ticks\":\"\"},\"colorscale\":[[0.0,\"#0d0887\"],[0.1111111111111111,\"#46039f\"],[0.2222222222222222,\"#7201a8\"],[0.3333333333333333,\"#9c179e\"],[0.4444444444444444,\"#bd3786\"],[0.5555555555555556,\"#d8576b\"],[0.6666666666666666,\"#ed7953\"],[0.7777777777777778,\"#fb9f3a\"],[0.8888888888888888,\"#fdca26\"],[1.0,\"#f0f921\"]],\"type\":\"heatmap\"}],\"histogram2dcontour\":[{\"colorbar\":{\"outlinewidth\":0,\"ticks\":\"\"},\"colorscale\":[[0.0,\"#0d0887\"],[0.1111111111111111,\"#46039f\"],[0.2222222222222222,\"#7201a8\"],[0.3333333333333333,\"#9c179e\"],[0.4444444444444444,\"#bd3786\"],[0.5555555555555556,\"#d8576b\"],[0.6666666666666666,\"#ed7953\"],[0.7777777777777778,\"#fb9f3a\"],[0.8888888888888888,\"#fdca26\"],[1.0,\"#f0f921\"]],\"type\":\"histogram2dcontour\"}],\"histogram2d\":[{\"colorbar\":{\"outlinewidth\":0,\"ticks\":\"\"},\"colorscale\":[[0.0,\"#0d0887\"],[0.1111111111111111,\"#46039f\"],[0.2222222222222222,\"#7201a8\"],[0.3333333333333333,\"#9c179e\"],[0.4444444444444444,\"#bd3786\"],[0.5555555555555556,\"#d8576b\"],[0.6666666666666666,\"#ed7953\"],[0.7777777777777778,\"#fb9f3a\"],[0.8888888888888888,\"#fdca26\"],[1.0,\"#f0f921\"]],\"type\":\"histogram2d\"}],\"histogram\":[{\"marker\":{\"pattern\":{\"fillmode\":\"overlay\",\"size\":10,\"solidity\":0.2}},\"type\":\"histogram\"}],\"mesh3d\":[{\"colorbar\":{\"outlinewidth\":0,\"ticks\":\"\"},\"type\":\"mesh3d\"}],\"parcoords\":[{\"line\":{\"colorbar\":{\"outlinewidth\":0,\"ticks\":\"\"}},\"type\":\"parcoords\"}],\"pie\":[{\"automargin\":true,\"type\":\"pie\"}],\"scatter3d\":[{\"line\":{\"colorbar\":{\"outlinewidth\":0,\"ticks\":\"\"}},\"marker\":{\"colorbar\":{\"outlinewidth\":0,\"ticks\":\"\"}},\"type\":\"scatter3d\"}],\"scattercarpet\":[{\"marker\":{\"colorbar\":{\"outlinewidth\":0,\"ticks\":\"\"}},\"type\":\"scattercarpet\"}],\"scattergeo\":[{\"marker\":{\"colorbar\":{\"outlinewidth\":0,\"ticks\":\"\"}},\"type\":\"scattergeo\"}],\"scattergl\":[{\"marker\":{\"colorbar\":{\"outlinewidth\":0,\"ticks\":\"\"}},\"type\":\"scattergl\"}],\"scattermapbox\":[{\"marker\":{\"colorbar\":{\"outlinewidth\":0,\"ticks\":\"\"}},\"type\":\"scattermapbox\"}],\"scatterpolargl\":[{\"marker\":{\"colorbar\":{\"outlinewidth\":0,\"ticks\":\"\"}},\"type\":\"scatterpolargl\"}],\"scatterpolar\":[{\"marker\":{\"colorbar\":{\"outlinewidth\":0,\"ticks\":\"\"}},\"type\":\"scatterpolar\"}],\"scatter\":[{\"fillpattern\":{\"fillmode\":\"overlay\",\"size\":10,\"solidity\":0.2},\"type\":\"scatter\"}],\"scatterternary\":[{\"marker\":{\"colorbar\":{\"outlinewidth\":0,\"ticks\":\"\"}},\"type\":\"scatterternary\"}],\"surface\":[{\"colorbar\":{\"outlinewidth\":0,\"ticks\":\"\"},\"colorscale\":[[0.0,\"#0d0887\"],[0.1111111111111111,\"#46039f\"],[0.2222222222222222,\"#7201a8\"],[0.3333333333333333,\"#9c179e\"],[0.4444444444444444,\"#bd3786\"],[0.5555555555555556,\"#d8576b\"],[0.6666666666666666,\"#ed7953\"],[0.7777777777777778,\"#fb9f3a\"],[0.8888888888888888,\"#fdca26\"],[1.0,\"#f0f921\"]],\"type\":\"surface\"}],\"table\":[{\"cells\":{\"fill\":{\"color\":\"#EBF0F8\"},\"line\":{\"color\":\"white\"}},\"header\":{\"fill\":{\"color\":\"#C8D4E3\"},\"line\":{\"color\":\"white\"}},\"type\":\"table\"}]},\"layout\":{\"annotationdefaults\":{\"arrowcolor\":\"#2a3f5f\",\"arrowhead\":0,\"arrowwidth\":1},\"autotypenumbers\":\"strict\",\"coloraxis\":{\"colorbar\":{\"outlinewidth\":0,\"ticks\":\"\"}},\"colorscale\":{\"diverging\":[[0,\"#8e0152\"],[0.1,\"#c51b7d\"],[0.2,\"#de77ae\"],[0.3,\"#f1b6da\"],[0.4,\"#fde0ef\"],[0.5,\"#f7f7f7\"],[0.6,\"#e6f5d0\"],[0.7,\"#b8e186\"],[0.8,\"#7fbc41\"],[0.9,\"#4d9221\"],[1,\"#276419\"]],\"sequential\":[[0.0,\"#0d0887\"],[0.1111111111111111,\"#46039f\"],[0.2222222222222222,\"#7201a8\"],[0.3333333333333333,\"#9c179e\"],[0.4444444444444444,\"#bd3786\"],[0.5555555555555556,\"#d8576b\"],[0.6666666666666666,\"#ed7953\"],[0.7777777777777778,\"#fb9f3a\"],[0.8888888888888888,\"#fdca26\"],[1.0,\"#f0f921\"]],\"sequentialminus\":[[0.0,\"#0d0887\"],[0.1111111111111111,\"#46039f\"],[0.2222222222222222,\"#7201a8\"],[0.3333333333333333,\"#9c179e\"],[0.4444444444444444,\"#bd3786\"],[0.5555555555555556,\"#d8576b\"],[0.6666666666666666,\"#ed7953\"],[0.7777777777777778,\"#fb9f3a\"],[0.8888888888888888,\"#fdca26\"],[1.0,\"#f0f921\"]]},\"colorway\":[\"#636efa\",\"#EF553B\",\"#00cc96\",\"#ab63fa\",\"#FFA15A\",\"#19d3f3\",\"#FF6692\",\"#B6E880\",\"#FF97FF\",\"#FECB52\"],\"font\":{\"color\":\"#2a3f5f\"},\"geo\":{\"bgcolor\":\"white\",\"lakecolor\":\"white\",\"landcolor\":\"white\",\"showlakes\":true,\"showland\":true,\"subunitcolor\":\"#C8D4E3\"},\"hoverlabel\":{\"align\":\"left\"},\"hovermode\":\"closest\",\"mapbox\":{\"style\":\"light\"},\"paper_bgcolor\":\"white\",\"plot_bgcolor\":\"white\",\"polar\":{\"angularaxis\":{\"gridcolor\":\"#EBF0F8\",\"linecolor\":\"#EBF0F8\",\"ticks\":\"\"},\"bgcolor\":\"white\",\"radialaxis\":{\"gridcolor\":\"#EBF0F8\",\"linecolor\":\"#EBF0F8\",\"ticks\":\"\"}},\"scene\":{\"xaxis\":{\"backgroundcolor\":\"white\",\"gridcolor\":\"#DFE8F3\",\"gridwidth\":2,\"linecolor\":\"#EBF0F8\",\"showbackground\":true,\"ticks\":\"\",\"zerolinecolor\":\"#EBF0F8\"},\"yaxis\":{\"backgroundcolor\":\"white\",\"gridcolor\":\"#DFE8F3\",\"gridwidth\":2,\"linecolor\":\"#EBF0F8\",\"showbackground\":true,\"ticks\":\"\",\"zerolinecolor\":\"#EBF0F8\"},\"zaxis\":{\"backgroundcolor\":\"white\",\"gridcolor\":\"#DFE8F3\",\"gridwidth\":2,\"linecolor\":\"#EBF0F8\",\"showbackground\":true,\"ticks\":\"\",\"zerolinecolor\":\"#EBF0F8\"}},\"shapedefaults\":{\"line\":{\"color\":\"#2a3f5f\"}},\"ternary\":{\"aaxis\":{\"gridcolor\":\"#DFE8F3\",\"linecolor\":\"#A2B1C6\",\"ticks\":\"\"},\"baxis\":{\"gridcolor\":\"#DFE8F3\",\"linecolor\":\"#A2B1C6\",\"ticks\":\"\"},\"bgcolor\":\"white\",\"caxis\":{\"gridcolor\":\"#DFE8F3\",\"linecolor\":\"#A2B1C6\",\"ticks\":\"\"}},\"title\":{\"x\":0.05},\"xaxis\":{\"automargin\":true,\"gridcolor\":\"#EBF0F8\",\"linecolor\":\"#EBF0F8\",\"ticks\":\"\",\"title\":{\"standoff\":15},\"zerolinecolor\":\"#EBF0F8\",\"zerolinewidth\":2},\"yaxis\":{\"automargin\":true,\"gridcolor\":\"#EBF0F8\",\"linecolor\":\"#EBF0F8\",\"ticks\":\"\",\"title\":{\"standoff\":15},\"zerolinecolor\":\"#EBF0F8\",\"zerolinewidth\":2}}},\"xaxis\":{\"anchor\":\"y\",\"domain\":[0.0,1.0],\"title\":{\"text\":\"channelGrouping\"}},\"yaxis\":{\"anchor\":\"x\",\"domain\":[0.0,1.0],\"title\":{\"text\":\"Count\"}},\"legend\":{\"title\":{\"text\":\"device_browser\"},\"tracegroupgap\":0},\"margin\":{\"t\":60},\"barmode\":\"relative\"},                        {\"responsive\": true}                    ).then(function(){\n",
       "                            \n",
       "var gd = document.getElementById('7c977945-1baf-44a7-b62d-2c51de8b47d9');\n",
       "var x = new MutationObserver(function (mutations, observer) {{\n",
       "        var display = window.getComputedStyle(gd).display;\n",
       "        if (!display || display === 'none') {{\n",
       "            console.log([gd, 'removed!']);\n",
       "            Plotly.purge(gd);\n",
       "            observer.disconnect();\n",
       "        }}\n",
       "}});\n",
       "\n",
       "// Listen for the removal of the full notebook cells\n",
       "var notebookContainer = gd.closest('#notebook-container');\n",
       "if (notebookContainer) {{\n",
       "    x.observe(notebookContainer, {childList: true});\n",
       "}}\n",
       "\n",
       "// Listen for the clearing of the current output cell\n",
       "var outputEl = gd.closest('.output');\n",
       "if (outputEl) {{\n",
       "    x.observe(outputEl, {childList: true});\n",
       "}}\n",
       "\n",
       "                        })                };                });            </script>        </div>"
      ]
     },
     "metadata": {},
     "output_type": "display_data"
    }
   ],
   "source": [
    "group = df_train.groupby(['channelGrouping','device_browser']).size().rename('Count').reset_index()\n",
    "\n",
    "group_sorted = group.groupby(['channelGrouping']).apply(lambda x: x.sort_values(['Count'], ascending=False)).reset_index(drop=True)\n",
    "\n",
    "group_top_four = group_sorted.groupby(['channelGrouping']).head(4)\n",
    "\n",
    "colors = [\"#264653\",\"#2a9d8f\",\"#e9c46a\",\"#f4a261\",\"#e76f51\",'#457b9d']\n",
    "px.bar(data_frame=group_top_four,x='channelGrouping',y='Count', color='device_browser', template='plotly_white', color_discrete_sequence= colors)"
   ]
  },
  {
   "cell_type": "markdown",
   "metadata": {},
   "source": [
    "### Распределение выручки в зависимости от ОС"
   ]
  },
  {
   "cell_type": "code",
   "execution_count": 67,
   "metadata": {},
   "outputs": [
    {
     "data": {
      "image/png": "[encoded data removed]",
      "text/plain": [
       "<Figure size 1405.9x500 with 1 Axes>"
      ]
     },
     "metadata": {},
     "output_type": "display_data"
    }
   ],
   "source": [
    "# Нормализуем выручку\n",
    "df_train['totals_transactionRevenue_log'] = df_train['totals_transactionRevenue'].apply(lambda x: np.log1p(x))\n",
    "\n",
    "group = df_train[\n",
    "    (df_train['device_operatingSystem'].isin(\n",
    "        df_train[df_train['totals_transactionRevenue_log'] > 0]['device_operatingSystem'].value_counts().head(6).index\n",
    "    ))\n",
    "    & (df_train['totals_transactionRevenue_log'] > 0)\n",
    "]\n",
    "\n",
    "_ = sns.FacetGrid(group,\n",
    "               hue='device_operatingSystem', height=5, aspect=2.5)\\\n",
    "  .map(sns.kdeplot, 'totals_transactionRevenue_log', shade=True)\\\n",
    " .add_legend()"
   ]
  },
  {
   "cell_type": "markdown",
   "metadata": {},
   "source": [
    "### Проанализируем распределение выручеи в зависимости от девайса"
   ]
  },
  {
   "cell_type": "code",
   "execution_count": 68,
   "metadata": {},
   "outputs": [
    {
     "data": {
      "image/png": "[encoded data removed]",
      "text/plain": [
       "<Figure size 1400x500 with 2 Axes>"
      ]
     },
     "metadata": {},
     "output_type": "display_data"
    }
   ],
   "source": [
    "plt.figure(figsize=(14,5))\n",
    "\n",
    "plt.subplot(1,2,1)\n",
    "sns.countplot(df_train[\"device_deviceCategory\"], palette= ['#14213d','#d90429','#fca311']) \n",
    "plt.title(\"Device Category Count\", fontsize=20) \n",
    "plt.xlabel(\"Device Category\", fontsize=18) \n",
    "plt.ylabel(\"Count\", fontsize=16) \n",
    "plt.xticks(fontsize=18) \n",
    "\n",
    "plt.subplot(1,2,2)\n",
    "sns.boxenplot(x=\"device_deviceCategory\", y = 'totals_transactionRevenue_log', \n",
    "              data=df_train[df_train['totals_transactionRevenue_log'] > 0], palette=['#14213d','#fca311','#d90429']) \n",
    "plt.title(\"Device Category Revenue Distribuition\", fontsize=20) \n",
    "plt.xlabel(\"Device Category\", fontsize=18) \n",
    "plt.ylabel(\"Revenue(Log)\", fontsize=16) \n",
    "plt.xticks(fontsize=18)\n",
    "\n",
    "plt.subplots_adjust(hspace = 0.9, wspace = 0.5)\n",
    "\n",
    "plt.show()"
   ]
  },
  {
   "cell_type": "code",
   "execution_count": 69,
   "metadata": {},
   "outputs": [
    {
     "data": {
      "image/png": "[encoded data removed]",
      "text/plain": [
       "<Figure size 1398.28x500 with 1 Axes>"
      ]
     },
     "metadata": {},
     "output_type": "display_data"
    }
   ],
   "source": [
    "color = ['#14213d','#fca311','#d90429']\n",
    "\n",
    "customPalette = sns.set_palette(sns.color_palette(color))\n",
    "\n",
    "_ = sns.FacetGrid(df_train[df_train['totals_transactionRevenue_log'] > 0],\n",
    "               hue='device_deviceCategory', height=5, aspect=2.5, palette=customPalette)\\\n",
    "  .map(sns.kdeplot, 'totals_transactionRevenue_log', shade=True)\\\n",
    " .add_legend()"
   ]
  },
  {
   "cell_type": "markdown",
   "metadata": {},
   "source": [
    "### Проанализируем связь выручки с временем покупки"
   ]
  },
  {
   "cell_type": "code",
   "execution_count": 70,
   "metadata": {},
   "outputs": [
    {
     "data": {
      "text/html": [
       "<style type=\"text/css\">\n",
       "#T_9e3c8_row0_col0, #T_9e3c8_row1_col5 {\n",
       "  background-color: #2cb17e;\n",
       "  color: #f1f1f1;\n",
       "}\n",
       "#T_9e3c8_row0_col1 {\n",
       "  background-color: #b8de29;\n",
       "  color: #000000;\n",
       "}\n",
       "#T_9e3c8_row0_col2, #T_9e3c8_row5_col6 {\n",
       "  background-color: #bddf26;\n",
       "  color: #000000;\n",
       "}\n",
       "#T_9e3c8_row0_col3 {\n",
       "  background-color: #efe51c;\n",
       "  color: #000000;\n",
       "}\n",
       "#T_9e3c8_row0_col4, #T_9e3c8_row20_col0 {\n",
       "  background-color: #6ece58;\n",
       "  color: #000000;\n",
       "}\n",
       "#T_9e3c8_row0_col5, #T_9e3c8_row22_col0 {\n",
       "  background-color: #84d44b;\n",
       "  color: #000000;\n",
       "}\n",
       "#T_9e3c8_row0_col6, #T_9e3c8_row2_col4 {\n",
       "  background-color: #22a785;\n",
       "  color: #f1f1f1;\n",
       "}\n",
       "#T_9e3c8_row1_col0, #T_9e3c8_row21_col6 {\n",
       "  background-color: #3fbc73;\n",
       "  color: #f1f1f1;\n",
       "}\n",
       "#T_9e3c8_row1_col1, #T_9e3c8_row20_col6 {\n",
       "  background-color: #48c16e;\n",
       "  color: #f1f1f1;\n",
       "}\n",
       "#T_9e3c8_row1_col2 {\n",
       "  background-color: #7fd34e;\n",
       "  color: #000000;\n",
       "}\n",
       "#T_9e3c8_row1_col3 {\n",
       "  background-color: #6ccd5a;\n",
       "  color: #000000;\n",
       "}\n",
       "#T_9e3c8_row1_col4, #T_9e3c8_row3_col6, #T_9e3c8_row20_col2, #T_9e3c8_row20_col3, #T_9e3c8_row21_col0, #T_9e3c8_row22_col1, #T_9e3c8_row22_col5 {\n",
       "  background-color: #fde725;\n",
       "  color: #000000;\n",
       "}\n",
       "#T_9e3c8_row1_col6 {\n",
       "  background-color: #4cc26c;\n",
       "  color: #000000;\n",
       "}\n",
       "#T_9e3c8_row2_col0 {\n",
       "  background-color: #1f9f88;\n",
       "  color: #f1f1f1;\n",
       "}\n",
       "#T_9e3c8_row2_col1, #T_9e3c8_row5_col1 {\n",
       "  background-color: #1e9d89;\n",
       "  color: #f1f1f1;\n",
       "}\n",
       "#T_9e3c8_row2_col2 {\n",
       "  background-color: #23a983;\n",
       "  color: #f1f1f1;\n",
       "}\n",
       "#T_9e3c8_row2_col3 {\n",
       "  background-color: #28ae80;\n",
       "  color: #f1f1f1;\n",
       "}\n",
       "#T_9e3c8_row2_col5 {\n",
       "  background-color: #52c569;\n",
       "  color: #000000;\n",
       "}\n",
       "#T_9e3c8_row2_col6, #T_9e3c8_row17_col3 {\n",
       "  background-color: #34b679;\n",
       "  color: #f1f1f1;\n",
       "}\n",
       "#T_9e3c8_row3_col0, #T_9e3c8_row19_col0 {\n",
       "  background-color: #1f978b;\n",
       "  color: #f1f1f1;\n",
       "}\n",
       "#T_9e3c8_row3_col1 {\n",
       "  background-color: #25ac82;\n",
       "  color: #f1f1f1;\n",
       "}\n",
       "#T_9e3c8_row3_col2 {\n",
       "  background-color: #2ab07f;\n",
       "  color: #f1f1f1;\n",
       "}\n",
       "#T_9e3c8_row3_col3, #T_9e3c8_row7_col5 {\n",
       "  background-color: #1e9c89;\n",
       "  color: #f1f1f1;\n",
       "}\n",
       "#T_9e3c8_row3_col4 {\n",
       "  background-color: #277e8e;\n",
       "  color: #f1f1f1;\n",
       "}\n",
       "#T_9e3c8_row3_col5 {\n",
       "  background-color: #46c06f;\n",
       "  color: #f1f1f1;\n",
       "}\n",
       "#T_9e3c8_row4_col0, #T_9e3c8_row6_col6 {\n",
       "  background-color: #297a8e;\n",
       "  color: #f1f1f1;\n",
       "}\n",
       "#T_9e3c8_row4_col1 {\n",
       "  background-color: #27808e;\n",
       "  color: #f1f1f1;\n",
       "}\n",
       "#T_9e3c8_row4_col2 {\n",
       "  background-color: #1fa188;\n",
       "  color: #f1f1f1;\n",
       "}\n",
       "#T_9e3c8_row4_col3 {\n",
       "  background-color: #1fa088;\n",
       "  color: #f1f1f1;\n",
       "}\n",
       "#T_9e3c8_row4_col4, #T_9e3c8_row6_col4 {\n",
       "  background-color: #375a8c;\n",
       "  color: #f1f1f1;\n",
       "}\n",
       "#T_9e3c8_row4_col5, #T_9e3c8_row6_col5 {\n",
       "  background-color: #21a685;\n",
       "  color: #f1f1f1;\n",
       "}\n",
       "#T_9e3c8_row4_col6, #T_9e3c8_row19_col1 {\n",
       "  background-color: #addc30;\n",
       "  color: #000000;\n",
       "}\n",
       "#T_9e3c8_row5_col0 {\n",
       "  background-color: #2b758e;\n",
       "  color: #f1f1f1;\n",
       "}\n",
       "#T_9e3c8_row5_col2 {\n",
       "  background-color: #1e9b8a;\n",
       "  color: #f1f1f1;\n",
       "}\n",
       "#T_9e3c8_row5_col3, #T_9e3c8_row5_col5 {\n",
       "  background-color: #228b8d;\n",
       "  color: #f1f1f1;\n",
       "}\n",
       "#T_9e3c8_row5_col4, #T_9e3c8_row6_col1, #T_9e3c8_row6_col3, #T_9e3c8_row9_col6 {\n",
       "  background-color: #33638d;\n",
       "  color: #f1f1f1;\n",
       "}\n",
       "#T_9e3c8_row6_col0 {\n",
       "  background-color: #25848e;\n",
       "  color: #f1f1f1;\n",
       "}\n",
       "#T_9e3c8_row6_col2, #T_9e3c8_row8_col6, #T_9e3c8_row17_col2 {\n",
       "  background-color: #24878e;\n",
       "  color: #f1f1f1;\n",
       "}\n",
       "#T_9e3c8_row7_col0 {\n",
       "  background-color: #29798e;\n",
       "  color: #f1f1f1;\n",
       "}\n",
       "#T_9e3c8_row7_col1 {\n",
       "  background-color: #2a788e;\n",
       "  color: #f1f1f1;\n",
       "}\n",
       "#T_9e3c8_row7_col2 {\n",
       "  background-color: #297b8e;\n",
       "  color: #f1f1f1;\n",
       "}\n",
       "#T_9e3c8_row7_col3 {\n",
       "  background-color: #3b528b;\n",
       "  color: #f1f1f1;\n",
       "}\n",
       "#T_9e3c8_row7_col4 {\n",
       "  background-color: #414287;\n",
       "  color: #f1f1f1;\n",
       "}\n",
       "#T_9e3c8_row7_col6 {\n",
       "  background-color: #89d548;\n",
       "  color: #000000;\n",
       "}\n",
       "#T_9e3c8_row8_col0 {\n",
       "  background-color: #3c508b;\n",
       "  color: #f1f1f1;\n",
       "}\n",
       "#T_9e3c8_row8_col1 {\n",
       "  background-color: #39558c;\n",
       "  color: #f1f1f1;\n",
       "}\n",
       "#T_9e3c8_row8_col2, #T_9e3c8_row17_col6 {\n",
       "  background-color: #3c4f8a;\n",
       "  color: #f1f1f1;\n",
       "}\n",
       "#T_9e3c8_row8_col3 {\n",
       "  background-color: #3e4c8a;\n",
       "  color: #f1f1f1;\n",
       "}\n",
       "#T_9e3c8_row8_col4, #T_9e3c8_row10_col5 {\n",
       "  background-color: #453781;\n",
       "  color: #f1f1f1;\n",
       "}\n",
       "#T_9e3c8_row8_col5 {\n",
       "  background-color: #26828e;\n",
       "  color: #f1f1f1;\n",
       "}\n",
       "#T_9e3c8_row9_col0 {\n",
       "  background-color: #482576;\n",
       "  color: #f1f1f1;\n",
       "}\n",
       "#T_9e3c8_row9_col1 {\n",
       "  background-color: #453581;\n",
       "  color: #f1f1f1;\n",
       "}\n",
       "#T_9e3c8_row9_col2 {\n",
       "  background-color: #472d7b;\n",
       "  color: #f1f1f1;\n",
       "}\n",
       "#T_9e3c8_row9_col3, #T_9e3c8_row10_col3, #T_9e3c8_row11_col5 {\n",
       "  background-color: #481c6e;\n",
       "  color: #f1f1f1;\n",
       "}\n",
       "#T_9e3c8_row9_col4, #T_9e3c8_row11_col1 {\n",
       "  background-color: #481f70;\n",
       "  color: #f1f1f1;\n",
       "}\n",
       "#T_9e3c8_row9_col5 {\n",
       "  background-color: #31678e;\n",
       "  color: #f1f1f1;\n",
       "}\n",
       "#T_9e3c8_row10_col0, #T_9e3c8_row15_col0 {\n",
       "  background-color: #481668;\n",
       "  color: #f1f1f1;\n",
       "}\n",
       "#T_9e3c8_row10_col1 {\n",
       "  background-color: #48186a;\n",
       "  color: #f1f1f1;\n",
       "}\n",
       "#T_9e3c8_row10_col2 {\n",
       "  background-color: #481d6f;\n",
       "  color: #f1f1f1;\n",
       "}\n",
       "#T_9e3c8_row10_col4 {\n",
       "  background-color: #481a6c;\n",
       "  color: #f1f1f1;\n",
       "}\n",
       "#T_9e3c8_row10_col6, #T_9e3c8_row15_col6 {\n",
       "  background-color: #482071;\n",
       "  color: #f1f1f1;\n",
       "}\n",
       "#T_9e3c8_row11_col0 {\n",
       "  background-color: #471365;\n",
       "  color: #f1f1f1;\n",
       "}\n",
       "#T_9e3c8_row11_col2, #T_9e3c8_row11_col3 {\n",
       "  background-color: #471063;\n",
       "  color: #f1f1f1;\n",
       "}\n",
       "#T_9e3c8_row11_col4 {\n",
       "  background-color: #481769;\n",
       "  color: #f1f1f1;\n",
       "}\n",
       "#T_9e3c8_row11_col6 {\n",
       "  background-color: #482878;\n",
       "  color: #f1f1f1;\n",
       "}\n",
       "#T_9e3c8_row12_col0, #T_9e3c8_row14_col4, #T_9e3c8_row14_col6 {\n",
       "  background-color: #46075a;\n",
       "  color: #f1f1f1;\n",
       "}\n",
       "#T_9e3c8_row12_col1 {\n",
       "  background-color: #481467;\n",
       "  color: #f1f1f1;\n",
       "}\n",
       "#T_9e3c8_row12_col2, #T_9e3c8_row12_col3, #T_9e3c8_row12_col4, #T_9e3c8_row12_col5, #T_9e3c8_row12_col6, #T_9e3c8_row13_col1, #T_9e3c8_row14_col0, #T_9e3c8_row14_col5 {\n",
       "  background-color: #440154;\n",
       "  color: #f1f1f1;\n",
       "}\n",
       "#T_9e3c8_row13_col0 {\n",
       "  background-color: #450457;\n",
       "  color: #f1f1f1;\n",
       "}\n",
       "#T_9e3c8_row13_col2 {\n",
       "  background-color: #471164;\n",
       "  color: #f1f1f1;\n",
       "}\n",
       "#T_9e3c8_row13_col3, #T_9e3c8_row14_col3 {\n",
       "  background-color: #46085c;\n",
       "  color: #f1f1f1;\n",
       "}\n",
       "#T_9e3c8_row13_col4 {\n",
       "  background-color: #470d60;\n",
       "  color: #f1f1f1;\n",
       "}\n",
       "#T_9e3c8_row13_col5 {\n",
       "  background-color: #460a5d;\n",
       "  color: #f1f1f1;\n",
       "}\n",
       "#T_9e3c8_row13_col6 {\n",
       "  background-color: #481b6d;\n",
       "  color: #f1f1f1;\n",
       "}\n",
       "#T_9e3c8_row14_col1 {\n",
       "  background-color: #470e61;\n",
       "  color: #f1f1f1;\n",
       "}\n",
       "#T_9e3c8_row14_col2, #T_9e3c8_row15_col5 {\n",
       "  background-color: #482374;\n",
       "  color: #f1f1f1;\n",
       "}\n",
       "#T_9e3c8_row15_col1 {\n",
       "  background-color: #482677;\n",
       "  color: #f1f1f1;\n",
       "}\n",
       "#T_9e3c8_row15_col2 {\n",
       "  background-color: #472f7d;\n",
       "  color: #f1f1f1;\n",
       "}\n",
       "#T_9e3c8_row15_col3 {\n",
       "  background-color: #482475;\n",
       "  color: #f1f1f1;\n",
       "}\n",
       "#T_9e3c8_row15_col4 {\n",
       "  background-color: #482979;\n",
       "  color: #f1f1f1;\n",
       "}\n",
       "#T_9e3c8_row16_col0, #T_9e3c8_row16_col1, #T_9e3c8_row16_col4 {\n",
       "  background-color: #34608d;\n",
       "  color: #f1f1f1;\n",
       "}\n",
       "#T_9e3c8_row16_col2, #T_9e3c8_row16_col3 {\n",
       "  background-color: #375b8d;\n",
       "  color: #f1f1f1;\n",
       "}\n",
       "#T_9e3c8_row16_col5 {\n",
       "  background-color: #38598c;\n",
       "  color: #f1f1f1;\n",
       "}\n",
       "#T_9e3c8_row16_col6 {\n",
       "  background-color: #414487;\n",
       "  color: #f1f1f1;\n",
       "}\n",
       "#T_9e3c8_row17_col0 {\n",
       "  background-color: #2c718e;\n",
       "  color: #f1f1f1;\n",
       "}\n",
       "#T_9e3c8_row17_col1 {\n",
       "  background-color: #1fa287;\n",
       "  color: #f1f1f1;\n",
       "}\n",
       "#T_9e3c8_row17_col4 {\n",
       "  background-color: #25838e;\n",
       "  color: #f1f1f1;\n",
       "}\n",
       "#T_9e3c8_row17_col5 {\n",
       "  background-color: #355e8d;\n",
       "  color: #f1f1f1;\n",
       "}\n",
       "#T_9e3c8_row18_col0, #T_9e3c8_row23_col6 {\n",
       "  background-color: #60ca60;\n",
       "  color: #000000;\n",
       "}\n",
       "#T_9e3c8_row18_col1 {\n",
       "  background-color: #24aa83;\n",
       "  color: #f1f1f1;\n",
       "}\n",
       "#T_9e3c8_row18_col2, #T_9e3c8_row23_col4 {\n",
       "  background-color: #90d743;\n",
       "  color: #000000;\n",
       "}\n",
       "#T_9e3c8_row18_col3, #T_9e3c8_row19_col2 {\n",
       "  background-color: #aadc32;\n",
       "  color: #000000;\n",
       "}\n",
       "#T_9e3c8_row18_col4, #T_9e3c8_row19_col5 {\n",
       "  background-color: #2fb47c;\n",
       "  color: #f1f1f1;\n",
       "}\n",
       "#T_9e3c8_row18_col5 {\n",
       "  background-color: #1f988b;\n",
       "  color: #f1f1f1;\n",
       "}\n",
       "#T_9e3c8_row18_col6 {\n",
       "  background-color: #228d8d;\n",
       "  color: #f1f1f1;\n",
       "}\n",
       "#T_9e3c8_row19_col3, #T_9e3c8_row23_col3 {\n",
       "  background-color: #cde11d;\n",
       "  color: #000000;\n",
       "}\n",
       "#T_9e3c8_row19_col4 {\n",
       "  background-color: #29af7f;\n",
       "  color: #f1f1f1;\n",
       "}\n",
       "#T_9e3c8_row19_col6 {\n",
       "  background-color: #228c8d;\n",
       "  color: #f1f1f1;\n",
       "}\n",
       "#T_9e3c8_row20_col1 {\n",
       "  background-color: #d8e219;\n",
       "  color: #000000;\n",
       "}\n",
       "#T_9e3c8_row20_col4 {\n",
       "  background-color: #98d83e;\n",
       "  color: #000000;\n",
       "}\n",
       "#T_9e3c8_row20_col5 {\n",
       "  background-color: #3bbb75;\n",
       "  color: #f1f1f1;\n",
       "}\n",
       "#T_9e3c8_row21_col1 {\n",
       "  background-color: #d5e21a;\n",
       "  color: #000000;\n",
       "}\n",
       "#T_9e3c8_row21_col2 {\n",
       "  background-color: #9bd93c;\n",
       "  color: #000000;\n",
       "}\n",
       "#T_9e3c8_row21_col3, #T_9e3c8_row22_col2, #T_9e3c8_row23_col2 {\n",
       "  background-color: #e2e418;\n",
       "  color: #000000;\n",
       "}\n",
       "#T_9e3c8_row21_col4 {\n",
       "  background-color: #5ac864;\n",
       "  color: #000000;\n",
       "}\n",
       "#T_9e3c8_row21_col5 {\n",
       "  background-color: #81d34d;\n",
       "  color: #000000;\n",
       "}\n",
       "#T_9e3c8_row22_col3 {\n",
       "  background-color: #d0e11c;\n",
       "  color: #000000;\n",
       "}\n",
       "#T_9e3c8_row22_col4 {\n",
       "  background-color: #8ed645;\n",
       "  color: #000000;\n",
       "}\n",
       "#T_9e3c8_row22_col6 {\n",
       "  background-color: #38b977;\n",
       "  color: #f1f1f1;\n",
       "}\n",
       "#T_9e3c8_row23_col0 {\n",
       "  background-color: #95d840;\n",
       "  color: #000000;\n",
       "}\n",
       "#T_9e3c8_row23_col1 {\n",
       "  background-color: #c5e021;\n",
       "  color: #000000;\n",
       "}\n",
       "#T_9e3c8_row23_col5 {\n",
       "  background-color: #e5e419;\n",
       "  color: #000000;\n",
       "}\n",
       "</style>\n",
       "<table id=\"T_9e3c8\">\n",
       "  <thead>\n",
       "    <tr>\n",
       "      <th class=\"index_name level0\" >weekday</th>\n",
       "      <th id=\"T_9e3c8_level0_col0\" class=\"col_heading level0 col0\" >0</th>\n",
       "      <th id=\"T_9e3c8_level0_col1\" class=\"col_heading level0 col1\" >1</th>\n",
       "      <th id=\"T_9e3c8_level0_col2\" class=\"col_heading level0 col2\" >2</th>\n",
       "      <th id=\"T_9e3c8_level0_col3\" class=\"col_heading level0 col3\" >3</th>\n",
       "      <th id=\"T_9e3c8_level0_col4\" class=\"col_heading level0 col4\" >4</th>\n",
       "      <th id=\"T_9e3c8_level0_col5\" class=\"col_heading level0 col5\" >5</th>\n",
       "      <th id=\"T_9e3c8_level0_col6\" class=\"col_heading level0 col6\" >6</th>\n",
       "    </tr>\n",
       "    <tr>\n",
       "      <th class=\"index_name level0\" >visitHour</th>\n",
       "      <th class=\"blank col0\" >&nbsp;</th>\n",
       "      <th class=\"blank col1\" >&nbsp;</th>\n",
       "      <th class=\"blank col2\" >&nbsp;</th>\n",
       "      <th class=\"blank col3\" >&nbsp;</th>\n",
       "      <th class=\"blank col4\" >&nbsp;</th>\n",
       "      <th class=\"blank col5\" >&nbsp;</th>\n",
       "      <th class=\"blank col6\" >&nbsp;</th>\n",
       "    </tr>\n",
       "  </thead>\n",
       "  <tbody>\n",
       "    <tr>\n",
       "      <th id=\"T_9e3c8_level0_row0\" class=\"row_heading level0 row0\" >0</th>\n",
       "      <td id=\"T_9e3c8_row0_col0\" class=\"data row0 col0\" >1489.287482</td>\n",
       "      <td id=\"T_9e3c8_row0_col1\" class=\"data row0 col1\" >1790.606975</td>\n",
       "      <td id=\"T_9e3c8_row0_col2\" class=\"data row0 col2\" >1623.796978</td>\n",
       "      <td id=\"T_9e3c8_row0_col3\" class=\"data row0 col3\" >1754.571991</td>\n",
       "      <td id=\"T_9e3c8_row0_col4\" class=\"data row0 col4\" >1683.065187</td>\n",
       "      <td id=\"T_9e3c8_row0_col5\" class=\"data row0 col5\" >618.752441</td>\n",
       "      <td id=\"T_9e3c8_row0_col6\" class=\"data row0 col6\" >585.462596</td>\n",
       "    </tr>\n",
       "    <tr>\n",
       "      <th id=\"T_9e3c8_level0_row1\" class=\"row_heading level0 row1\" >1</th>\n",
       "      <td id=\"T_9e3c8_row1_col0\" class=\"data row1 col0\" >1603.331667</td>\n",
       "      <td id=\"T_9e3c8_row1_col1\" class=\"data row1 col1\" >1433.704574</td>\n",
       "      <td id=\"T_9e3c8_row1_col2\" class=\"data row1 col2\" >1455.506797</td>\n",
       "      <td id=\"T_9e3c8_row1_col3\" class=\"data row1 col3\" >1414.490417</td>\n",
       "      <td id=\"T_9e3c8_row1_col4\" class=\"data row1 col4\" >2145.259763</td>\n",
       "      <td id=\"T_9e3c8_row1_col5\" class=\"data row1 col5\" >489.556570</td>\n",
       "      <td id=\"T_9e3c8_row1_col6\" class=\"data row1 col6\" >703.982779</td>\n",
       "    </tr>\n",
       "    <tr>\n",
       "      <th id=\"T_9e3c8_level0_row2\" class=\"row_heading level0 row2\" >2</th>\n",
       "      <td id=\"T_9e3c8_row2_col0\" class=\"data row2 col0\" >1317.178775</td>\n",
       "      <td id=\"T_9e3c8_row2_col1\" class=\"data row2 col1\" >1131.786199</td>\n",
       "      <td id=\"T_9e3c8_row2_col2\" class=\"data row2 col2\" >1098.425337</td>\n",
       "      <td id=\"T_9e3c8_row2_col3\" class=\"data row2 col3\" >1159.804150</td>\n",
       "      <td id=\"T_9e3c8_row2_col4\" class=\"data row2 col4\" >1295.068944</td>\n",
       "      <td id=\"T_9e3c8_row2_col5\" class=\"data row2 col5\" >555.863780</td>\n",
       "      <td id=\"T_9e3c8_row2_col6\" class=\"data row2 col6\" >650.729329</td>\n",
       "    </tr>\n",
       "    <tr>\n",
       "      <th id=\"T_9e3c8_level0_row3\" class=\"row_heading level0 row3\" >3</th>\n",
       "      <td id=\"T_9e3c8_row3_col0\" class=\"data row3 col0\" >1244.872868</td>\n",
       "      <td id=\"T_9e3c8_row3_col1\" class=\"data row3 col1\" >1252.553308</td>\n",
       "      <td id=\"T_9e3c8_row3_col2\" class=\"data row3 col2\" >1150.261033</td>\n",
       "      <td id=\"T_9e3c8_row3_col3\" class=\"data row3 col3\" >1028.177070</td>\n",
       "      <td id=\"T_9e3c8_row3_col4\" class=\"data row3 col4\" >935.867269</td>\n",
       "      <td id=\"T_9e3c8_row3_col5\" class=\"data row3 col5\" >539.022507</td>\n",
       "      <td id=\"T_9e3c8_row3_col6\" class=\"data row3 col6\" >973.495647</td>\n",
       "    </tr>\n",
       "    <tr>\n",
       "      <th id=\"T_9e3c8_level0_row4\" class=\"row_heading level0 row4\" >4</th>\n",
       "      <td id=\"T_9e3c8_row4_col0\" class=\"data row4 col0\" >983.497536</td>\n",
       "      <td id=\"T_9e3c8_row4_col1\" class=\"data row4 col1\" >895.652692</td>\n",
       "      <td id=\"T_9e3c8_row4_col2\" class=\"data row4 col2\" >1035.028000</td>\n",
       "      <td id=\"T_9e3c8_row4_col3\" class=\"data row4 col3\" >1053.445813</td>\n",
       "      <td id=\"T_9e3c8_row4_col4\" class=\"data row4 col4\" >639.826652</td>\n",
       "      <td id=\"T_9e3c8_row4_col5\" class=\"data row4 col5\" >453.045160</td>\n",
       "      <td id=\"T_9e3c8_row4_col6\" class=\"data row4 col6\" >855.937004</td>\n",
       "    </tr>\n",
       "    <tr>\n",
       "      <th id=\"T_9e3c8_level0_row5\" class=\"row_heading level0 row5\" >5</th>\n",
       "      <td id=\"T_9e3c8_row5_col0\" class=\"data row5 col0\" >941.459226</td>\n",
       "      <td id=\"T_9e3c8_row5_col1\" class=\"data row5 col1\" >1132.188313</td>\n",
       "      <td id=\"T_9e3c8_row5_col2\" class=\"data row5 col2\" >995.955693</td>\n",
       "      <td id=\"T_9e3c8_row5_col3\" class=\"data row5 col3\" >904.218830</td>\n",
       "      <td id=\"T_9e3c8_row5_col4\" class=\"data row5 col4\" >712.863327</td>\n",
       "      <td id=\"T_9e3c8_row5_col5\" class=\"data row5 col5\" >370.210466</td>\n",
       "      <td id=\"T_9e3c8_row5_col6\" class=\"data row5 col6\" >880.073387</td>\n",
       "    </tr>\n",
       "    <tr>\n",
       "      <th id=\"T_9e3c8_level0_row6\" class=\"row_heading level0 row6\" >6</th>\n",
       "      <td id=\"T_9e3c8_row6_col0\" class=\"data row6 col0\" >1075.908944</td>\n",
       "      <td id=\"T_9e3c8_row6_col1\" class=\"data row6 col1\" >669.228644</td>\n",
       "      <td id=\"T_9e3c8_row6_col2\" class=\"data row6 col2\" >853.262227</td>\n",
       "      <td id=\"T_9e3c8_row6_col3\" class=\"data row6 col3\" >623.261325</td>\n",
       "      <td id=\"T_9e3c8_row6_col4\" class=\"data row6 col4\" >635.305005</td>\n",
       "      <td id=\"T_9e3c8_row6_col5\" class=\"data row6 col5\" >455.623502</td>\n",
       "      <td id=\"T_9e3c8_row6_col6\" class=\"data row6 col6\" >407.228412</td>\n",
       "    </tr>\n",
       "    <tr>\n",
       "      <th id=\"T_9e3c8_level0_row7\" class=\"row_heading level0 row7\" >7</th>\n",
       "      <td id=\"T_9e3c8_row7_col0\" class=\"data row7 col0\" >975.835199</td>\n",
       "      <td id=\"T_9e3c8_row7_col1\" class=\"data row7 col1\" >833.451631</td>\n",
       "      <td id=\"T_9e3c8_row7_col2\" class=\"data row7 col2\" >758.181479</td>\n",
       "      <td id=\"T_9e3c8_row7_col3\" class=\"data row7 col3\" >514.895723</td>\n",
       "      <td id=\"T_9e3c8_row7_col4\" class=\"data row7 col4\" >465.801793</td>\n",
       "      <td id=\"T_9e3c8_row7_col5\" class=\"data row7 col5\" >422.450215</td>\n",
       "      <td id=\"T_9e3c8_row7_col6\" class=\"data row7 col6\" >801.850694</td>\n",
       "    </tr>\n",
       "    <tr>\n",
       "      <th id=\"T_9e3c8_level0_row8\" class=\"row_heading level0 row8\" >8</th>\n",
       "      <td id=\"T_9e3c8_row8_col0\" class=\"data row8 col0\" >621.259379</td>\n",
       "      <td id=\"T_9e3c8_row8_col1\" class=\"data row8 col1\" >566.104005</td>\n",
       "      <td id=\"T_9e3c8_row8_col2\" class=\"data row8 col2\" >457.734194</td>\n",
       "      <td id=\"T_9e3c8_row8_col3\" class=\"data row8 col3\" >480.397338</td>\n",
       "      <td id=\"T_9e3c8_row8_col4\" class=\"data row8 col4\" >385.702453</td>\n",
       "      <td id=\"T_9e3c8_row8_col5\" class=\"data row8 col5\" >345.749393</td>\n",
       "      <td id=\"T_9e3c8_row8_col6\" class=\"data row8 col6\" >458.619532</td>\n",
       "    </tr>\n",
       "    <tr>\n",
       "      <th id=\"T_9e3c8_level0_row9\" class=\"row_heading level0 row9\" >9</th>\n",
       "      <td id=\"T_9e3c8_row9_col0\" class=\"data row9 col0\" >315.982422</td>\n",
       "      <td id=\"T_9e3c8_row9_col1\" class=\"data row9 col1\" >354.180797</td>\n",
       "      <td id=\"T_9e3c8_row9_col2\" class=\"data row9 col2\" >254.739903</td>\n",
       "      <td id=\"T_9e3c8_row9_col3\" class=\"data row9 col3\" >216.855257</td>\n",
       "      <td id=\"T_9e3c8_row9_col4\" class=\"data row9 col4\" >225.173679</td>\n",
       "      <td id=\"T_9e3c8_row9_col5\" class=\"data row9 col5\" >261.658305</td>\n",
       "      <td id=\"T_9e3c8_row9_col6\" class=\"data row9 col6\" >318.568966</td>\n",
       "    </tr>\n",
       "    <tr>\n",
       "      <th id=\"T_9e3c8_level0_row10\" class=\"row_heading level0 row10\" >10</th>\n",
       "      <td id=\"T_9e3c8_row10_col0\" class=\"data row10 col0\" >213.749311</td>\n",
       "      <td id=\"T_9e3c8_row10_col1\" class=\"data row10 col1\" >182.823135</td>\n",
       "      <td id=\"T_9e3c8_row10_col2\" class=\"data row10 col2\" >172.480614</td>\n",
       "      <td id=\"T_9e3c8_row10_col3\" class=\"data row10 col3\" >216.228462</td>\n",
       "      <td id=\"T_9e3c8_row10_col4\" class=\"data row10 col4\" >196.763311</td>\n",
       "      <td id=\"T_9e3c8_row10_col5\" class=\"data row10 col5\" >132.521001</td>\n",
       "      <td id=\"T_9e3c8_row10_col6\" class=\"data row10 col6\" >103.252371</td>\n",
       "    </tr>\n",
       "    <tr>\n",
       "      <th id=\"T_9e3c8_level0_row11\" class=\"row_heading level0 row11\" >11</th>\n",
       "      <td id=\"T_9e3c8_row11_col0\" class=\"data row11 col0\" >196.992485</td>\n",
       "      <td id=\"T_9e3c8_row11_col1\" class=\"data row11 col1\" >220.033063</td>\n",
       "      <td id=\"T_9e3c8_row11_col2\" class=\"data row11 col2\" >105.842522</td>\n",
       "      <td id=\"T_9e3c8_row11_col3\" class=\"data row11 col3\" >153.813594</td>\n",
       "      <td id=\"T_9e3c8_row11_col4\" class=\"data row11 col4\" >180.659826</td>\n",
       "      <td id=\"T_9e3c8_row11_col5\" class=\"data row11 col5\" >72.702884</td>\n",
       "      <td id=\"T_9e3c8_row11_col6\" class=\"data row11 col6\" >123.861020</td>\n",
       "    </tr>\n",
       "    <tr>\n",
       "      <th id=\"T_9e3c8_level0_row12\" class=\"row_heading level0 row12\" >12</th>\n",
       "      <td id=\"T_9e3c8_row12_col0\" class=\"data row12 col0\" >128.806164</td>\n",
       "      <td id=\"T_9e3c8_row12_col1\" class=\"data row12 col1\" >157.503686</td>\n",
       "      <td id=\"T_9e3c8_row12_col2\" class=\"data row12 col2\" >33.658937</td>\n",
       "      <td id=\"T_9e3c8_row12_col3\" class=\"data row12 col3\" >86.592071</td>\n",
       "      <td id=\"T_9e3c8_row12_col4\" class=\"data row12 col4\" >52.052908</td>\n",
       "      <td id=\"T_9e3c8_row12_col5\" class=\"data row12 col5\" >17.909188</td>\n",
       "      <td id=\"T_9e3c8_row12_col6\" class=\"data row12 col6\" >18.019755</td>\n",
       "    </tr>\n",
       "    <tr>\n",
       "      <th id=\"T_9e3c8_level0_row13\" class=\"row_heading level0 row13\" >13</th>\n",
       "      <td id=\"T_9e3c8_row13_col0\" class=\"data row13 col0\" >110.599216</td>\n",
       "      <td id=\"T_9e3c8_row13_col1\" class=\"data row13 col1\" >54.154617</td>\n",
       "      <td id=\"T_9e3c8_row13_col2\" class=\"data row13 col2\" >109.625965</td>\n",
       "      <td id=\"T_9e3c8_row13_col3\" class=\"data row13 col3\" >120.783000</td>\n",
       "      <td id=\"T_9e3c8_row13_col4\" class=\"data row13 col4\" >125.140072</td>\n",
       "      <td id=\"T_9e3c8_row13_col5\" class=\"data row13 col5\" >35.571938</td>\n",
       "      <td id=\"T_9e3c8_row13_col6\" class=\"data row13 col6\" >88.469840</td>\n",
       "    </tr>\n",
       "    <tr>\n",
       "      <th id=\"T_9e3c8_level0_row14\" class=\"row_heading level0 row14\" >14</th>\n",
       "      <td id=\"T_9e3c8_row14_col0\" class=\"data row14 col0\" >87.183655</td>\n",
       "      <td id=\"T_9e3c8_row14_col1\" class=\"data row14 col1\" >128.473053</td>\n",
       "      <td id=\"T_9e3c8_row14_col2\" class=\"data row14 col2\" >200.021739</td>\n",
       "      <td id=\"T_9e3c8_row14_col3\" class=\"data row14 col3\" >126.205593</td>\n",
       "      <td id=\"T_9e3c8_row14_col4\" class=\"data row14 col4\" >87.855971</td>\n",
       "      <td id=\"T_9e3c8_row14_col5\" class=\"data row14 col5\" >15.422947</td>\n",
       "      <td id=\"T_9e3c8_row14_col6\" class=\"data row14 col6\" >35.949031</td>\n",
       "    </tr>\n",
       "    <tr>\n",
       "      <th id=\"T_9e3c8_level0_row15\" class=\"row_heading level0 row15\" >15</th>\n",
       "      <td id=\"T_9e3c8_row15_col0\" class=\"data row15 col0\" >211.500335</td>\n",
       "      <td id=\"T_9e3c8_row15_col1\" class=\"data row15 col1\" >265.772460</td>\n",
       "      <td id=\"T_9e3c8_row15_col2\" class=\"data row15 col2\" >270.492153</td>\n",
       "      <td id=\"T_9e3c8_row15_col3\" class=\"data row15 col3\" >258.265925</td>\n",
       "      <td id=\"T_9e3c8_row15_col4\" class=\"data row15 col4\" >296.851892</td>\n",
       "      <td id=\"T_9e3c8_row15_col5\" class=\"data row15 col5\" >87.636283</td>\n",
       "      <td id=\"T_9e3c8_row15_col6\" class=\"data row15 col6\" >102.647842</td>\n",
       "    </tr>\n",
       "    <tr>\n",
       "      <th id=\"T_9e3c8_level0_row16\" class=\"row_heading level0 row16\" >16</th>\n",
       "      <td id=\"T_9e3c8_row16_col0\" class=\"data row16 col0\" >755.254121</td>\n",
       "      <td id=\"T_9e3c8_row16_col1\" class=\"data row16 col1\" >646.327959</td>\n",
       "      <td id=\"T_9e3c8_row16_col2\" class=\"data row16 col2\" >535.066926</td>\n",
       "      <td id=\"T_9e3c8_row16_col3\" class=\"data row16 col3\" >569.899741</td>\n",
       "      <td id=\"T_9e3c8_row16_col4\" class=\"data row16 col4\" >686.022183</td>\n",
       "      <td id=\"T_9e3c8_row16_col5\" class=\"data row16 col5\" >218.360525</td>\n",
       "      <td id=\"T_9e3c8_row16_col6\" class=\"data row16 col6\" >210.838390</td>\n",
       "    </tr>\n",
       "    <tr>\n",
       "      <th id=\"T_9e3c8_level0_row17\" class=\"row_heading level0 row17\" >17</th>\n",
       "      <td id=\"T_9e3c8_row17_col0\" class=\"data row17 col0\" >905.679815</td>\n",
       "      <td id=\"T_9e3c8_row17_col1\" class=\"data row17 col1\" >1177.462556</td>\n",
       "      <td id=\"T_9e3c8_row17_col2\" class=\"data row17 col2\" >848.566585</td>\n",
       "      <td id=\"T_9e3c8_row17_col3\" class=\"data row17 col3\" >1221.230107</td>\n",
       "      <td id=\"T_9e3c8_row17_col4\" class=\"data row17 col4\" >990.422831</td>\n",
       "      <td id=\"T_9e3c8_row17_col5\" class=\"data row17 col5\" >234.462378</td>\n",
       "      <td id=\"T_9e3c8_row17_col6\" class=\"data row17 col6\" >246.401347</td>\n",
       "    </tr>\n",
       "    <tr>\n",
       "      <th id=\"T_9e3c8_level0_row18\" class=\"row_heading level0 row18\" >18</th>\n",
       "      <td id=\"T_9e3c8_row18_col0\" class=\"data row18 col0\" >1741.596217</td>\n",
       "      <td id=\"T_9e3c8_row18_col1\" class=\"data row18 col1\" >1234.445842</td>\n",
       "      <td id=\"T_9e3c8_row18_col2\" class=\"data row18 col2\" >1505.233863</td>\n",
       "      <td id=\"T_9e3c8_row18_col3\" class=\"data row18 col3\" >1578.157061</td>\n",
       "      <td id=\"T_9e3c8_row18_col4\" class=\"data row18 col4\" >1413.581037</td>\n",
       "      <td id=\"T_9e3c8_row18_col5\" class=\"data row18 col5\" >409.533128</td>\n",
       "      <td id=\"T_9e3c8_row18_col6\" class=\"data row18 col6\" >483.198122</td>\n",
       "    </tr>\n",
       "    <tr>\n",
       "      <th id=\"T_9e3c8_level0_row19\" class=\"row_heading level0 row19\" >19</th>\n",
       "      <td id=\"T_9e3c8_row19_col0\" class=\"data row19 col0\" >1248.646943</td>\n",
       "      <td id=\"T_9e3c8_row19_col1\" class=\"data row19 col1\" >1765.065167</td>\n",
       "      <td id=\"T_9e3c8_row19_col2\" class=\"data row19 col2\" >1576.318905</td>\n",
       "      <td id=\"T_9e3c8_row19_col3\" class=\"data row19 col3\" >1667.548671</td>\n",
       "      <td id=\"T_9e3c8_row19_col4\" class=\"data row19 col4\" >1369.816857</td>\n",
       "      <td id=\"T_9e3c8_row19_col5\" class=\"data row19 col5\" >498.763108</td>\n",
       "      <td id=\"T_9e3c8_row19_col6\" class=\"data row19 col6\" >479.379347</td>\n",
       "    </tr>\n",
       "    <tr>\n",
       "      <th id=\"T_9e3c8_level0_row20\" class=\"row_heading level0 row20\" >20</th>\n",
       "      <td id=\"T_9e3c8_row20_col0\" class=\"data row20 col0\" >1794.898152</td>\n",
       "      <td id=\"T_9e3c8_row20_col1\" class=\"data row20 col1\" >1882.867994</td>\n",
       "      <td id=\"T_9e3c8_row20_col2\" class=\"data row20 col2\" >1796.983351</td>\n",
       "      <td id=\"T_9e3c8_row20_col3\" class=\"data row20 col3\" >1798.526473</td>\n",
       "      <td id=\"T_9e3c8_row20_col4\" class=\"data row20 col4\" >1820.170784</td>\n",
       "      <td id=\"T_9e3c8_row20_col5\" class=\"data row20 col5\" >521.288879</td>\n",
       "      <td id=\"T_9e3c8_row20_col6\" class=\"data row20 col6\" >696.810914</td>\n",
       "    </tr>\n",
       "    <tr>\n",
       "      <th id=\"T_9e3c8_level0_row21\" class=\"row_heading level0 row21\" >21</th>\n",
       "      <td id=\"T_9e3c8_row21_col0\" class=\"data row21 col0\" >2280.878061</td>\n",
       "      <td id=\"T_9e3c8_row21_col1\" class=\"data row21 col1\" >1874.464963</td>\n",
       "      <td id=\"T_9e3c8_row21_col2\" class=\"data row21 col2\" >1528.443556</td>\n",
       "      <td id=\"T_9e3c8_row21_col3\" class=\"data row21 col3\" >1724.937974</td>\n",
       "      <td id=\"T_9e3c8_row21_col4\" class=\"data row21 col4\" >1610.211106</td>\n",
       "      <td id=\"T_9e3c8_row21_col5\" class=\"data row21 col5\" >617.110057</td>\n",
       "      <td id=\"T_9e3c8_row21_col6\" class=\"data row21 col6\" >677.626891</td>\n",
       "    </tr>\n",
       "    <tr>\n",
       "      <th id=\"T_9e3c8_level0_row22\" class=\"row_heading level0 row22\" >22</th>\n",
       "      <td id=\"T_9e3c8_row22_col0\" class=\"data row22 col0\" >1874.495013</td>\n",
       "      <td id=\"T_9e3c8_row22_col1\" class=\"data row22 col1\" >2003.116631</td>\n",
       "      <td id=\"T_9e3c8_row22_col2\" class=\"data row22 col2\" >1715.371815</td>\n",
       "      <td id=\"T_9e3c8_row22_col3\" class=\"data row22 col3\" >1676.401050</td>\n",
       "      <td id=\"T_9e3c8_row22_col4\" class=\"data row22 col4\" >1792.302239</td>\n",
       "      <td id=\"T_9e3c8_row22_col5\" class=\"data row22 col5\" >757.224022</td>\n",
       "      <td id=\"T_9e3c8_row22_col6\" class=\"data row22 col6\" >661.924391</td>\n",
       "    </tr>\n",
       "    <tr>\n",
       "      <th id=\"T_9e3c8_level0_row23\" class=\"row_heading level0 row23\" >23</th>\n",
       "      <td id=\"T_9e3c8_row23_col0\" class=\"data row23 col0\" >1938.044926</td>\n",
       "      <td id=\"T_9e3c8_row23_col1\" class=\"data row23 col1\" >1834.992097</td>\n",
       "      <td id=\"T_9e3c8_row23_col2\" class=\"data row23 col2\" >1716.811728</td>\n",
       "      <td id=\"T_9e3c8_row23_col3\" class=\"data row23 col3\" >1668.380856</td>\n",
       "      <td id=\"T_9e3c8_row23_col4\" class=\"data row23 col4\" >1801.300810</td>\n",
       "      <td id=\"T_9e3c8_row23_col5\" class=\"data row23 col5\" >727.814941</td>\n",
       "      <td id=\"T_9e3c8_row23_col6\" class=\"data row23 col6\" >739.026349</td>\n",
       "    </tr>\n",
       "  </tbody>\n",
       "</table>\n"
      ],
      "text/plain": [
       "<pandas.io.formats.style.Styler at 0x173c723bb20>"
      ]
     },
     "execution_count": 70,
     "metadata": {},
     "output_type": "execute_result"
    }
   ],
   "source": [
    "pd.crosstab(df_train['visitHour'],\n",
    "            df_train['weekday'], \n",
    "            values=df_train['totals_transactionRevenue_log'], \n",
    "            aggfunc='sum').style.background_gradient(cmap='viridis')"
   ]
  },
  {
   "cell_type": "markdown",
   "metadata": {},
   "source": [
    "Как видно из этого кростаба наиболее активное время - вечер/ночь. Скорее удивляет, что наиболее активным днем является понедельник, но это может быть связано с временем работы банков или обслуживания платежей в США (???)"
   ]
  },
  {
   "cell_type": "markdown",
   "metadata": {},
   "source": [
    "### Проанализируем связь выручки с локацией"
   ]
  },
  {
   "cell_type": "code",
   "execution_count": 71,
   "metadata": {},
   "outputs": [],
   "source": [
    "from utils_EDA import PieChart"
   ]
  },
  {
   "cell_type": "code",
   "execution_count": 72,
   "metadata": {},
   "outputs": [
    {
     "data": {
      "application/vnd.plotly.v1+json": {
       "config": {
        "linkText": "Export to plot.ly",
        "plotlyServerURL": "https://plot.ly",
        "showLink": false
       },
       "data": [
        {
         "domain": {
          "x": [
           0,
           0.48
          ]
         },
         "hole": 0.5,
         "hoverinfo": "label+percent+name",
         "labels": [
          "not available in demo dataset",
          "Mountain View",
          "(not set)",
          "New York",
          "San Francisco",
          "London",
          "Sunnyvale",
          "Ho Chi Minh City",
          "Bangkok",
          "San Jose"
         ],
         "marker": {
          "colors": [
           "#800080",
           "#00FFFF",
           "#008B8B",
           "#0000FF",
           "#008000",
           "#FFFF00",
           "#FF0000",
           "#800080",
           "#00FFFF",
           "#008B8B"
          ]
         },
         "name": "% Accesses",
         "showlegend": true,
         "type": "pie",
         "values": [
          357422,
          27296,
          24354,
          17430,
          13465,
          8090,
          7868,
          6984,
          6811,
          6570
         ]
        },
        {
         "domain": {
          "x": [
           0.52,
           1
          ]
         },
         "hole": 0.5,
         "hoverinfo": "label+percent+name",
         "labels": [
          "not available in demo dataset",
          "New York",
          "Mountain View",
          "San Francisco",
          "Chicago",
          "Los Angeles",
          "Salem",
          "Sunnyvale",
          "Seattle",
          "Austin"
         ],
         "marker": {
          "colors": [
           "#0000FF",
           "#008000",
           "#FFFF00",
           "#FF0000",
           "#800080",
           "#00FFFF",
           "#008B8B",
           "#0000FF",
           "#008000",
           "#FFFF00"
          ]
         },
         "name": "% Revenue",
         "showlegend": false,
         "type": "pie",
         "values": [
          405473870208,
          159854239920,
          78939940096,
          66707970000,
          51127689952,
          32843320016,
          19359909648,
          18568099968,
          17229630064,
          14329350064
         ]
        }
       ],
       "layout": {
        "annotations": [
         {
          "font": {
           "size": 20
          },
          "showarrow": false,
          "text": "Visits",
          "x": 0.25,
          "y": 0.5
         },
         {
          "font": {
           "size": 20
          },
          "showarrow": false,
          "text": "Revenue",
          "x": 0.8,
          "y": 0.5
         }
        ],
        "font": {
         "size": 15
        },
        "height": 450,
        "template": {
         "data": {
          "bar": [
           {
            "error_x": {
             "color": "#2a3f5f"
            },
            "error_y": {
             "color": "#2a3f5f"
            },
            "marker": {
             "line": {
              "color": "#E5ECF6",
              "width": 0.5
             },
             "pattern": {
              "fillmode": "overlay",
              "size": 10,
              "solidity": 0.2
             }
            },
            "type": "bar"
           }
          ],
          "barpolar": [
           {
            "marker": {
             "line": {
              "color": "#E5ECF6",
              "width": 0.5
             },
             "pattern": {
              "fillmode": "overlay",
              "size": 10,
              "solidity": 0.2
             }
            },
            "type": "barpolar"
           }
          ],
          "carpet": [
           {
            "aaxis": {
             "endlinecolor": "#2a3f5f",
             "gridcolor": "white",
             "linecolor": "white",
             "minorgridcolor": "white",
             "startlinecolor": "#2a3f5f"
            },
            "baxis": {
             "endlinecolor": "#2a3f5f",
             "gridcolor": "white",
             "linecolor": "white",
             "minorgridcolor": "white",
             "startlinecolor": "#2a3f5f"
            },
            "type": "carpet"
           }
          ],
          "choropleth": [
           {
            "colorbar": {
             "outlinewidth": 0,
             "ticks": ""
            },
            "type": "choropleth"
           }
          ],
          "contour": [
           {
            "colorbar": {
             "outlinewidth": 0,
             "ticks": ""
            },
            "colorscale": [
             [
              0,
              "#0d0887"
             ],
             [
              0.1111111111111111,
              "#46039f"
             ],
             [
              0.2222222222222222,
              "#7201a8"
             ],
             [
              0.3333333333333333,
              "#9c179e"
             ],
             [
              0.4444444444444444,
              "#bd3786"
             ],
             [
              0.5555555555555556,
              "#d8576b"
             ],
             [
              0.6666666666666666,
              "#ed7953"
             ],
             [
              0.7777777777777778,
              "#fb9f3a"
             ],
             [
              0.8888888888888888,
              "#fdca26"
             ],
             [
              1,
              "#f0f921"
             ]
            ],
            "type": "contour"
           }
          ],
          "contourcarpet": [
           {
            "colorbar": {
             "outlinewidth": 0,
             "ticks": ""
            },
            "type": "contourcarpet"
           }
          ],
          "heatmap": [
           {
            "colorbar": {
             "outlinewidth": 0,
             "ticks": ""
            },
            "colorscale": [
             [
              0,
              "#0d0887"
             ],
             [
              0.1111111111111111,
              "#46039f"
             ],
             [
              0.2222222222222222,
              "#7201a8"
             ],
             [
              0.3333333333333333,
              "#9c179e"
             ],
             [
              0.4444444444444444,
              "#bd3786"
             ],
             [
              0.5555555555555556,
              "#d8576b"
             ],
             [
              0.6666666666666666,
              "#ed7953"
             ],
             [
              0.7777777777777778,
              "#fb9f3a"
             ],
             [
              0.8888888888888888,
              "#fdca26"
             ],
             [
              1,
              "#f0f921"
             ]
            ],
            "type": "heatmap"
           }
          ],
          "heatmapgl": [
           {
            "colorbar": {
             "outlinewidth": 0,
             "ticks": ""
            },
            "colorscale": [
             [
              0,
              "#0d0887"
             ],
             [
              0.1111111111111111,
              "#46039f"
             ],
             [
              0.2222222222222222,
              "#7201a8"
             ],
             [
              0.3333333333333333,
              "#9c179e"
             ],
             [
              0.4444444444444444,
              "#bd3786"
             ],
             [
              0.5555555555555556,
              "#d8576b"
             ],
             [
              0.6666666666666666,
              "#ed7953"
             ],
             [
              0.7777777777777778,
              "#fb9f3a"
             ],
             [
              0.8888888888888888,
              "#fdca26"
             ],
             [
              1,
              "#f0f921"
             ]
            ],
            "type": "heatmapgl"
           }
          ],
          "histogram": [
           {
            "marker": {
             "pattern": {
              "fillmode": "overlay",
              "size": 10,
              "solidity": 0.2
             }
            },
            "type": "histogram"
           }
          ],
          "histogram2d": [
           {
            "colorbar": {
             "outlinewidth": 0,
             "ticks": ""
            },
            "colorscale": [
             [
              0,
              "#0d0887"
             ],
             [
              0.1111111111111111,
              "#46039f"
             ],
             [
              0.2222222222222222,
              "#7201a8"
             ],
             [
              0.3333333333333333,
              "#9c179e"
             ],
             [
              0.4444444444444444,
              "#bd3786"
             ],
             [
              0.5555555555555556,
              "#d8576b"
             ],
             [
              0.6666666666666666,
              "#ed7953"
             ],
             [
              0.7777777777777778,
              "#fb9f3a"
             ],
             [
              0.8888888888888888,
              "#fdca26"
             ],
             [
              1,
              "#f0f921"
             ]
            ],
            "type": "histogram2d"
           }
          ],
          "histogram2dcontour": [
           {
            "colorbar": {
             "outlinewidth": 0,
             "ticks": ""
            },
            "colorscale": [
             [
              0,
              "#0d0887"
             ],
             [
              0.1111111111111111,
              "#46039f"
             ],
             [
              0.2222222222222222,
              "#7201a8"
             ],
             [
              0.3333333333333333,
              "#9c179e"
             ],
             [
              0.4444444444444444,
              "#bd3786"
             ],
             [
              0.5555555555555556,
              "#d8576b"
             ],
             [
              0.6666666666666666,
              "#ed7953"
             ],
             [
              0.7777777777777778,
              "#fb9f3a"
             ],
             [
              0.8888888888888888,
              "#fdca26"
             ],
             [
              1,
              "#f0f921"
             ]
            ],
            "type": "histogram2dcontour"
           }
          ],
          "mesh3d": [
           {
            "colorbar": {
             "outlinewidth": 0,
             "ticks": ""
            },
            "type": "mesh3d"
           }
          ],
          "parcoords": [
           {
            "line": {
             "colorbar": {
              "outlinewidth": 0,
              "ticks": ""
             }
            },
            "type": "parcoords"
           }
          ],
          "pie": [
           {
            "automargin": true,
            "type": "pie"
           }
          ],
          "scatter": [
           {
            "fillpattern": {
             "fillmode": "overlay",
             "size": 10,
             "solidity": 0.2
            },
            "type": "scatter"
           }
          ],
          "scatter3d": [
           {
            "line": {
             "colorbar": {
              "outlinewidth": 0,
              "ticks": ""
             }
            },
            "marker": {
             "colorbar": {
              "outlinewidth": 0,
              "ticks": ""
             }
            },
            "type": "scatter3d"
           }
          ],
          "scattercarpet": [
           {
            "marker": {
             "colorbar": {
              "outlinewidth": 0,
              "ticks": ""
             }
            },
            "type": "scattercarpet"
           }
          ],
          "scattergeo": [
           {
            "marker": {
             "colorbar": {
              "outlinewidth": 0,
              "ticks": ""
             }
            },
            "type": "scattergeo"
           }
          ],
          "scattergl": [
           {
            "marker": {
             "colorbar": {
              "outlinewidth": 0,
              "ticks": ""
             }
            },
            "type": "scattergl"
           }
          ],
          "scattermapbox": [
           {
            "marker": {
             "colorbar": {
              "outlinewidth": 0,
              "ticks": ""
             }
            },
            "type": "scattermapbox"
           }
          ],
          "scatterpolar": [
           {
            "marker": {
             "colorbar": {
              "outlinewidth": 0,
              "ticks": ""
             }
            },
            "type": "scatterpolar"
           }
          ],
          "scatterpolargl": [
           {
            "marker": {
             "colorbar": {
              "outlinewidth": 0,
              "ticks": ""
             }
            },
            "type": "scatterpolargl"
           }
          ],
          "scatterternary": [
           {
            "marker": {
             "colorbar": {
              "outlinewidth": 0,
              "ticks": ""
             }
            },
            "type": "scatterternary"
           }
          ],
          "surface": [
           {
            "colorbar": {
             "outlinewidth": 0,
             "ticks": ""
            },
            "colorscale": [
             [
              0,
              "#0d0887"
             ],
             [
              0.1111111111111111,
              "#46039f"
             ],
             [
              0.2222222222222222,
              "#7201a8"
             ],
             [
              0.3333333333333333,
              "#9c179e"
             ],
             [
              0.4444444444444444,
              "#bd3786"
             ],
             [
              0.5555555555555556,
              "#d8576b"
             ],
             [
              0.6666666666666666,
              "#ed7953"
             ],
             [
              0.7777777777777778,
              "#fb9f3a"
             ],
             [
              0.8888888888888888,
              "#fdca26"
             ],
             [
              1,
              "#f0f921"
             ]
            ],
            "type": "surface"
           }
          ],
          "table": [
           {
            "cells": {
             "fill": {
              "color": "#EBF0F8"
             },
             "line": {
              "color": "white"
             }
            },
            "header": {
             "fill": {
              "color": "#C8D4E3"
             },
             "line": {
              "color": "white"
             }
            },
            "type": "table"
           }
          ]
         },
         "layout": {
          "annotationdefaults": {
           "arrowcolor": "#2a3f5f",
           "arrowhead": 0,
           "arrowwidth": 1
          },
          "autotypenumbers": "strict",
          "coloraxis": {
           "colorbar": {
            "outlinewidth": 0,
            "ticks": ""
           }
          },
          "colorscale": {
           "diverging": [
            [
             0,
             "#8e0152"
            ],
            [
             0.1,
             "#c51b7d"
            ],
            [
             0.2,
             "#de77ae"
            ],
            [
             0.3,
             "#f1b6da"
            ],
            [
             0.4,
             "#fde0ef"
            ],
            [
             0.5,
             "#f7f7f7"
            ],
            [
             0.6,
             "#e6f5d0"
            ],
            [
             0.7,
             "#b8e186"
            ],
            [
             0.8,
             "#7fbc41"
            ],
            [
             0.9,
             "#4d9221"
            ],
            [
             1,
             "#276419"
            ]
           ],
           "sequential": [
            [
             0,
             "#0d0887"
            ],
            [
             0.1111111111111111,
             "#46039f"
            ],
            [
             0.2222222222222222,
             "#7201a8"
            ],
            [
             0.3333333333333333,
             "#9c179e"
            ],
            [
             0.4444444444444444,
             "#bd3786"
            ],
            [
             0.5555555555555556,
             "#d8576b"
            ],
            [
             0.6666666666666666,
             "#ed7953"
            ],
            [
             0.7777777777777778,
             "#fb9f3a"
            ],
            [
             0.8888888888888888,
             "#fdca26"
            ],
            [
             1,
             "#f0f921"
            ]
           ],
           "sequentialminus": [
            [
             0,
             "#0d0887"
            ],
            [
             0.1111111111111111,
             "#46039f"
            ],
            [
             0.2222222222222222,
             "#7201a8"
            ],
            [
             0.3333333333333333,
             "#9c179e"
            ],
            [
             0.4444444444444444,
             "#bd3786"
            ],
            [
             0.5555555555555556,
             "#d8576b"
            ],
            [
             0.6666666666666666,
             "#ed7953"
            ],
            [
             0.7777777777777778,
             "#fb9f3a"
            ],
            [
             0.8888888888888888,
             "#fdca26"
            ],
            [
             1,
             "#f0f921"
            ]
           ]
          },
          "colorway": [
           "#636efa",
           "#EF553B",
           "#00cc96",
           "#ab63fa",
           "#FFA15A",
           "#19d3f3",
           "#FF6692",
           "#B6E880",
           "#FF97FF",
           "#FECB52"
          ],
          "font": {
           "color": "#2a3f5f"
          },
          "geo": {
           "bgcolor": "white",
           "lakecolor": "white",
           "landcolor": "#E5ECF6",
           "showlakes": true,
           "showland": true,
           "subunitcolor": "white"
          },
          "hoverlabel": {
           "align": "left"
          },
          "hovermode": "closest",
          "mapbox": {
           "style": "light"
          },
          "paper_bgcolor": "white",
          "plot_bgcolor": "#E5ECF6",
          "polar": {
           "angularaxis": {
            "gridcolor": "white",
            "linecolor": "white",
            "ticks": ""
           },
           "bgcolor": "#E5ECF6",
           "radialaxis": {
            "gridcolor": "white",
            "linecolor": "white",
            "ticks": ""
           }
          },
          "scene": {
           "xaxis": {
            "backgroundcolor": "#E5ECF6",
            "gridcolor": "white",
            "gridwidth": 2,
            "linecolor": "white",
            "showbackground": true,
            "ticks": "",
            "zerolinecolor": "white"
           },
           "yaxis": {
            "backgroundcolor": "#E5ECF6",
            "gridcolor": "white",
            "gridwidth": 2,
            "linecolor": "white",
            "showbackground": true,
            "ticks": "",
            "zerolinecolor": "white"
           },
           "zaxis": {
            "backgroundcolor": "#E5ECF6",
            "gridcolor": "white",
            "gridwidth": 2,
            "linecolor": "white",
            "showbackground": true,
            "ticks": "",
            "zerolinecolor": "white"
           }
          },
          "shapedefaults": {
           "line": {
            "color": "#2a3f5f"
           }
          },
          "ternary": {
           "aaxis": {
            "gridcolor": "white",
            "linecolor": "white",
            "ticks": ""
           },
           "baxis": {
            "gridcolor": "white",
            "linecolor": "white",
            "ticks": ""
           },
           "bgcolor": "#E5ECF6",
           "caxis": {
            "gridcolor": "white",
            "linecolor": "white",
            "ticks": ""
           }
          },
          "title": {
           "x": 0.05
          },
          "xaxis": {
           "automargin": true,
           "gridcolor": "white",
           "linecolor": "white",
           "ticks": "",
           "title": {
            "standoff": 15
           },
           "zerolinecolor": "white",
           "zerolinewidth": 2
          },
          "yaxis": {
           "automargin": true,
           "gridcolor": "white",
           "linecolor": "white",
           "ticks": "",
           "title": {
            "standoff": 15
           },
           "zerolinecolor": "white",
           "zerolinewidth": 2
          }
         }
        },
        "title": {
         "text": "Top Cities by Accesses and Revenue"
        }
       }
      },
      "text/html": [
       "<div>                            <div id=\"e4c44274-b8a2-47fa-85fa-02f3e5ff3079\" class=\"plotly-graph-div\" style=\"height:450px; width:100%;\"></div>            <script type=\"text/javascript\">                require([\"plotly\"], function(Plotly) {                    window.PLOTLYENV=window.PLOTLYENV || {};                                    if (document.getElementById(\"e4c44274-b8a2-47fa-85fa-02f3e5ff3079\")) {                    Plotly.newPlot(                        \"e4c44274-b8a2-47fa-85fa-02f3e5ff3079\",                        [{\"domain\":{\"x\":[0,0.48]},\"hole\":0.5,\"hoverinfo\":\"label+percent+name\",\"labels\":[\"not available in demo dataset\",\"Mountain View\",\"(not set)\",\"New York\",\"San Francisco\",\"London\",\"Sunnyvale\",\"Ho Chi Minh City\",\"Bangkok\",\"San Jose\"],\"marker\":{\"colors\":[\"#800080\",\"#00FFFF\",\"#008B8B\",\"#0000FF\",\"#008000\",\"#FFFF00\",\"#FF0000\",\"#800080\",\"#00FFFF\",\"#008B8B\"]},\"name\":\"% Accesses\",\"showlegend\":true,\"values\":[357422,27296,24354,17430,13465,8090,7868,6984,6811,6570],\"type\":\"pie\"},{\"domain\":{\"x\":[0.52,1]},\"hole\":0.5,\"hoverinfo\":\"label+percent+name\",\"labels\":[\"not available in demo dataset\",\"New York\",\"Mountain View\",\"San Francisco\",\"Chicago\",\"Los Angeles\",\"Salem\",\"Sunnyvale\",\"Seattle\",\"Austin\"],\"marker\":{\"colors\":[\"#0000FF\",\"#008000\",\"#FFFF00\",\"#FF0000\",\"#800080\",\"#00FFFF\",\"#008B8B\",\"#0000FF\",\"#008000\",\"#FFFF00\"]},\"name\":\"% Revenue\",\"showlegend\":false,\"values\":[405473870208.0,159854239920.0,78939940096.0,66707970000.0,51127689952.0,32843320016.0,19359909648.0,18568099968.0,17229630064.0,14329350064.0],\"type\":\"pie\"}],                        {\"annotations\":[{\"font\":{\"size\":20},\"showarrow\":false,\"text\":\"Visits\",\"x\":0.25,\"y\":0.5},{\"font\":{\"size\":20},\"showarrow\":false,\"text\":\"Revenue\",\"x\":0.8,\"y\":0.5}],\"font\":{\"size\":15},\"height\":450,\"template\":{\"data\":{\"barpolar\":[{\"marker\":{\"line\":{\"color\":\"#E5ECF6\",\"width\":0.5},\"pattern\":{\"fillmode\":\"overlay\",\"size\":10,\"solidity\":0.2}},\"type\":\"barpolar\"}],\"bar\":[{\"error_x\":{\"color\":\"#2a3f5f\"},\"error_y\":{\"color\":\"#2a3f5f\"},\"marker\":{\"line\":{\"color\":\"#E5ECF6\",\"width\":0.5},\"pattern\":{\"fillmode\":\"overlay\",\"size\":10,\"solidity\":0.2}},\"type\":\"bar\"}],\"carpet\":[{\"aaxis\":{\"endlinecolor\":\"#2a3f5f\",\"gridcolor\":\"white\",\"linecolor\":\"white\",\"minorgridcolor\":\"white\",\"startlinecolor\":\"#2a3f5f\"},\"baxis\":{\"endlinecolor\":\"#2a3f5f\",\"gridcolor\":\"white\",\"linecolor\":\"white\",\"minorgridcolor\":\"white\",\"startlinecolor\":\"#2a3f5f\"},\"type\":\"carpet\"}],\"choropleth\":[{\"colorbar\":{\"outlinewidth\":0,\"ticks\":\"\"},\"type\":\"choropleth\"}],\"contourcarpet\":[{\"colorbar\":{\"outlinewidth\":0,\"ticks\":\"\"},\"type\":\"contourcarpet\"}],\"contour\":[{\"colorbar\":{\"outlinewidth\":0,\"ticks\":\"\"},\"colorscale\":[[0.0,\"#0d0887\"],[0.1111111111111111,\"#46039f\"],[0.2222222222222222,\"#7201a8\"],[0.3333333333333333,\"#9c179e\"],[0.4444444444444444,\"#bd3786\"],[0.5555555555555556,\"#d8576b\"],[0.6666666666666666,\"#ed7953\"],[0.7777777777777778,\"#fb9f3a\"],[0.8888888888888888,\"#fdca26\"],[1.0,\"#f0f921\"]],\"type\":\"contour\"}],\"heatmapgl\":[{\"colorbar\":{\"outlinewidth\":0,\"ticks\":\"\"},\"colorscale\":[[0.0,\"#0d0887\"],[0.1111111111111111,\"#46039f\"],[0.2222222222222222,\"#7201a8\"],[0.3333333333333333,\"#9c179e\"],[0.4444444444444444,\"#bd3786\"],[0.5555555555555556,\"#d8576b\"],[0.6666666666666666,\"#ed7953\"],[0.7777777777777778,\"#fb9f3a\"],[0.8888888888888888,\"#fdca26\"],[1.0,\"#f0f921\"]],\"type\":\"heatmapgl\"}],\"heatmap\":[{\"colorbar\":{\"outlinewidth\":0,\"ticks\":\"\"},\"colorscale\":[[0.0,\"#0d0887\"],[0.1111111111111111,\"#46039f\"],[0.2222222222222222,\"#7201a8\"],[0.3333333333333333,\"#9c179e\"],[0.4444444444444444,\"#bd3786\"],[0.5555555555555556,\"#d8576b\"],[0.6666666666666666,\"#ed7953\"],[0.7777777777777778,\"#fb9f3a\"],[0.8888888888888888,\"#fdca26\"],[1.0,\"#f0f921\"]],\"type\":\"heatmap\"}],\"histogram2dcontour\":[{\"colorbar\":{\"outlinewidth\":0,\"ticks\":\"\"},\"colorscale\":[[0.0,\"#0d0887\"],[0.1111111111111111,\"#46039f\"],[0.2222222222222222,\"#7201a8\"],[0.3333333333333333,\"#9c179e\"],[0.4444444444444444,\"#bd3786\"],[0.5555555555555556,\"#d8576b\"],[0.6666666666666666,\"#ed7953\"],[0.7777777777777778,\"#fb9f3a\"],[0.8888888888888888,\"#fdca26\"],[1.0,\"#f0f921\"]],\"type\":\"histogram2dcontour\"}],\"histogram2d\":[{\"colorbar\":{\"outlinewidth\":0,\"ticks\":\"\"},\"colorscale\":[[0.0,\"#0d0887\"],[0.1111111111111111,\"#46039f\"],[0.2222222222222222,\"#7201a8\"],[0.3333333333333333,\"#9c179e\"],[0.4444444444444444,\"#bd3786\"],[0.5555555555555556,\"#d8576b\"],[0.6666666666666666,\"#ed7953\"],[0.7777777777777778,\"#fb9f3a\"],[0.8888888888888888,\"#fdca26\"],[1.0,\"#f0f921\"]],\"type\":\"histogram2d\"}],\"histogram\":[{\"marker\":{\"pattern\":{\"fillmode\":\"overlay\",\"size\":10,\"solidity\":0.2}},\"type\":\"histogram\"}],\"mesh3d\":[{\"colorbar\":{\"outlinewidth\":0,\"ticks\":\"\"},\"type\":\"mesh3d\"}],\"parcoords\":[{\"line\":{\"colorbar\":{\"outlinewidth\":0,\"ticks\":\"\"}},\"type\":\"parcoords\"}],\"pie\":[{\"automargin\":true,\"type\":\"pie\"}],\"scatter3d\":[{\"line\":{\"colorbar\":{\"outlinewidth\":0,\"ticks\":\"\"}},\"marker\":{\"colorbar\":{\"outlinewidth\":0,\"ticks\":\"\"}},\"type\":\"scatter3d\"}],\"scattercarpet\":[{\"marker\":{\"colorbar\":{\"outlinewidth\":0,\"ticks\":\"\"}},\"type\":\"scattercarpet\"}],\"scattergeo\":[{\"marker\":{\"colorbar\":{\"outlinewidth\":0,\"ticks\":\"\"}},\"type\":\"scattergeo\"}],\"scattergl\":[{\"marker\":{\"colorbar\":{\"outlinewidth\":0,\"ticks\":\"\"}},\"type\":\"scattergl\"}],\"scattermapbox\":[{\"marker\":{\"colorbar\":{\"outlinewidth\":0,\"ticks\":\"\"}},\"type\":\"scattermapbox\"}],\"scatterpolargl\":[{\"marker\":{\"colorbar\":{\"outlinewidth\":0,\"ticks\":\"\"}},\"type\":\"scatterpolargl\"}],\"scatterpolar\":[{\"marker\":{\"colorbar\":{\"outlinewidth\":0,\"ticks\":\"\"}},\"type\":\"scatterpolar\"}],\"scatter\":[{\"fillpattern\":{\"fillmode\":\"overlay\",\"size\":10,\"solidity\":0.2},\"type\":\"scatter\"}],\"scatterternary\":[{\"marker\":{\"colorbar\":{\"outlinewidth\":0,\"ticks\":\"\"}},\"type\":\"scatterternary\"}],\"surface\":[{\"colorbar\":{\"outlinewidth\":0,\"ticks\":\"\"},\"colorscale\":[[0.0,\"#0d0887\"],[0.1111111111111111,\"#46039f\"],[0.2222222222222222,\"#7201a8\"],[0.3333333333333333,\"#9c179e\"],[0.4444444444444444,\"#bd3786\"],[0.5555555555555556,\"#d8576b\"],[0.6666666666666666,\"#ed7953\"],[0.7777777777777778,\"#fb9f3a\"],[0.8888888888888888,\"#fdca26\"],[1.0,\"#f0f921\"]],\"type\":\"surface\"}],\"table\":[{\"cells\":{\"fill\":{\"color\":\"#EBF0F8\"},\"line\":{\"color\":\"white\"}},\"header\":{\"fill\":{\"color\":\"#C8D4E3\"},\"line\":{\"color\":\"white\"}},\"type\":\"table\"}]},\"layout\":{\"annotationdefaults\":{\"arrowcolor\":\"#2a3f5f\",\"arrowhead\":0,\"arrowwidth\":1},\"autotypenumbers\":\"strict\",\"coloraxis\":{\"colorbar\":{\"outlinewidth\":0,\"ticks\":\"\"}},\"colorscale\":{\"diverging\":[[0,\"#8e0152\"],[0.1,\"#c51b7d\"],[0.2,\"#de77ae\"],[0.3,\"#f1b6da\"],[0.4,\"#fde0ef\"],[0.5,\"#f7f7f7\"],[0.6,\"#e6f5d0\"],[0.7,\"#b8e186\"],[0.8,\"#7fbc41\"],[0.9,\"#4d9221\"],[1,\"#276419\"]],\"sequential\":[[0.0,\"#0d0887\"],[0.1111111111111111,\"#46039f\"],[0.2222222222222222,\"#7201a8\"],[0.3333333333333333,\"#9c179e\"],[0.4444444444444444,\"#bd3786\"],[0.5555555555555556,\"#d8576b\"],[0.6666666666666666,\"#ed7953\"],[0.7777777777777778,\"#fb9f3a\"],[0.8888888888888888,\"#fdca26\"],[1.0,\"#f0f921\"]],\"sequentialminus\":[[0.0,\"#0d0887\"],[0.1111111111111111,\"#46039f\"],[0.2222222222222222,\"#7201a8\"],[0.3333333333333333,\"#9c179e\"],[0.4444444444444444,\"#bd3786\"],[0.5555555555555556,\"#d8576b\"],[0.6666666666666666,\"#ed7953\"],[0.7777777777777778,\"#fb9f3a\"],[0.8888888888888888,\"#fdca26\"],[1.0,\"#f0f921\"]]},\"colorway\":[\"#636efa\",\"#EF553B\",\"#00cc96\",\"#ab63fa\",\"#FFA15A\",\"#19d3f3\",\"#FF6692\",\"#B6E880\",\"#FF97FF\",\"#FECB52\"],\"font\":{\"color\":\"#2a3f5f\"},\"geo\":{\"bgcolor\":\"white\",\"lakecolor\":\"white\",\"landcolor\":\"#E5ECF6\",\"showlakes\":true,\"showland\":true,\"subunitcolor\":\"white\"},\"hoverlabel\":{\"align\":\"left\"},\"hovermode\":\"closest\",\"mapbox\":{\"style\":\"light\"},\"paper_bgcolor\":\"white\",\"plot_bgcolor\":\"#E5ECF6\",\"polar\":{\"angularaxis\":{\"gridcolor\":\"white\",\"linecolor\":\"white\",\"ticks\":\"\"},\"bgcolor\":\"#E5ECF6\",\"radialaxis\":{\"gridcolor\":\"white\",\"linecolor\":\"white\",\"ticks\":\"\"}},\"scene\":{\"xaxis\":{\"backgroundcolor\":\"#E5ECF6\",\"gridcolor\":\"white\",\"gridwidth\":2,\"linecolor\":\"white\",\"showbackground\":true,\"ticks\":\"\",\"zerolinecolor\":\"white\"},\"yaxis\":{\"backgroundcolor\":\"#E5ECF6\",\"gridcolor\":\"white\",\"gridwidth\":2,\"linecolor\":\"white\",\"showbackground\":true,\"ticks\":\"\",\"zerolinecolor\":\"white\"},\"zaxis\":{\"backgroundcolor\":\"#E5ECF6\",\"gridcolor\":\"white\",\"gridwidth\":2,\"linecolor\":\"white\",\"showbackground\":true,\"ticks\":\"\",\"zerolinecolor\":\"white\"}},\"shapedefaults\":{\"line\":{\"color\":\"#2a3f5f\"}},\"ternary\":{\"aaxis\":{\"gridcolor\":\"white\",\"linecolor\":\"white\",\"ticks\":\"\"},\"baxis\":{\"gridcolor\":\"white\",\"linecolor\":\"white\",\"ticks\":\"\"},\"bgcolor\":\"#E5ECF6\",\"caxis\":{\"gridcolor\":\"white\",\"linecolor\":\"white\",\"ticks\":\"\"}},\"title\":{\"x\":0.05},\"xaxis\":{\"automargin\":true,\"gridcolor\":\"white\",\"linecolor\":\"white\",\"ticks\":\"\",\"title\":{\"standoff\":15},\"zerolinecolor\":\"white\",\"zerolinewidth\":2},\"yaxis\":{\"automargin\":true,\"gridcolor\":\"white\",\"linecolor\":\"white\",\"ticks\":\"\",\"title\":{\"standoff\":15},\"zerolinecolor\":\"white\",\"zerolinewidth\":2}}},\"title\":{\"text\":\"Top Cities by Accesses and Revenue\"}},                        {\"responsive\": true}                    ).then(function(){\n",
       "                            \n",
       "var gd = document.getElementById('e4c44274-b8a2-47fa-85fa-02f3e5ff3079');\n",
       "var x = new MutationObserver(function (mutations, observer) {{\n",
       "        var display = window.getComputedStyle(gd).display;\n",
       "        if (!display || display === 'none') {{\n",
       "            console.log([gd, 'removed!']);\n",
       "            Plotly.purge(gd);\n",
       "            observer.disconnect();\n",
       "        }}\n",
       "}});\n",
       "\n",
       "// Listen for the removal of the full notebook cells\n",
       "var notebookContainer = gd.closest('#notebook-container');\n",
       "if (notebookContainer) {{\n",
       "    x.observe(notebookContainer, {childList: true});\n",
       "}}\n",
       "\n",
       "// Listen for the clearing of the current output cell\n",
       "var outputEl = gd.closest('.output');\n",
       "if (outputEl) {{\n",
       "    x.observe(outputEl, {childList: true});\n",
       "}}\n",
       "\n",
       "                        })                };                });            </script>        </div>"
      ]
     },
     "metadata": {},
     "output_type": "display_data"
    }
   ],
   "source": [
    "PieChart(df_train, \"geoNetwork_city\", \"Top Cities by Accesses and Revenue\", limit=10)"
   ]
  },
  {
   "cell_type": "markdown",
   "metadata": {},
   "source": [
    "На Нью-Йорк приходится почти половина выручки. Если еще включит санфран и сан-хосе, то получим, что США с отрывом опережают другие страны, поэтому чтобы нормально изобразить countmaps затмим США."
   ]
  },
  {
   "cell_type": "code",
   "execution_count": 73,
   "metadata": {},
   "outputs": [
    {
     "data": {
      "application/vnd.plotly.v1+json": {
       "config": {
        "linkText": "Export to plot.ly",
        "plotlyServerURL": "https://plot.ly",
        "showLink": false
       },
       "data": [
        {
         "autocolorscale": false,
         "colorbar": {
          "autotick": false,
          "tickprefix": "",
          "title": "Revenue"
         },
         "colorscale": "Jet",
         "locationmode": "country names",
         "locations": [
          "(not set)",
          "Afghanistan",
          "Albania",
          "Algeria",
          "American Samoa",
          "Andorra",
          "Angola",
          "Anguilla",
          "Antigua & Barbuda",
          "Argentina",
          "Armenia",
          "Aruba",
          "Australia",
          "Austria",
          "Azerbaijan",
          "Bahamas",
          "Bahrain",
          "Bangladesh",
          "Barbados",
          "Belarus",
          "Belgium",
          "Belize",
          "Benin",
          "Bermuda",
          "Bhutan",
          "Bolivia",
          "Bosnia & Herzegovina",
          "Botswana",
          "Brazil",
          "British Virgin Islands",
          "Brunei",
          "Bulgaria",
          "Burkina Faso",
          "Burundi",
          "Cambodia",
          "Cameroon",
          "Canada",
          "Cape Verde",
          "Caribbean Netherlands",
          "Cayman Islands",
          "Central African Republic",
          "Chad",
          "Chile",
          "China",
          "Colombia",
          "Comoros",
          "Congo - Brazzaville",
          "Congo - Kinshasa",
          "Cook Islands",
          "Costa Rica",
          "Croatia",
          "Curaçao",
          "Cyprus",
          "Czechia",
          "Côte d’Ivoire",
          "Denmark",
          "Djibouti",
          "Dominica",
          "Dominican Republic",
          "Ecuador",
          "Egypt",
          "El Salvador",
          "Equatorial Guinea",
          "Estonia",
          "Ethiopia",
          "Faroe Islands",
          "Fiji",
          "Finland",
          "France",
          "French Guiana",
          "French Polynesia",
          "Gabon",
          "Gambia",
          "Georgia",
          "Germany",
          "Ghana",
          "Gibraltar",
          "Greece",
          "Greenland",
          "Grenada",
          "Guadeloupe",
          "Guam",
          "Guatemala",
          "Guernsey",
          "Guinea",
          "Guinea-Bissau",
          "Guyana",
          "Haiti",
          "Honduras",
          "Hong Kong",
          "Hungary",
          "Iceland",
          "India",
          "Indonesia",
          "Iran",
          "Iraq",
          "Ireland",
          "Isle of Man",
          "Israel",
          "Italy",
          "Jamaica",
          "Japan",
          "Jersey",
          "Jordan",
          "Kazakhstan",
          "Kenya",
          "Kosovo",
          "Kuwait",
          "Kyrgyzstan",
          "Laos",
          "Latvia",
          "Lebanon",
          "Lesotho",
          "Liberia",
          "Libya",
          "Liechtenstein",
          "Lithuania",
          "Luxembourg",
          "Macau",
          "Macedonia (FYROM)",
          "Madagascar",
          "Malawi",
          "Malaysia",
          "Maldives",
          "Mali",
          "Malta",
          "Marshall Islands",
          "Martinique",
          "Mauritania",
          "Mauritius",
          "Mayotte",
          "Mexico",
          "Moldova",
          "Monaco",
          "Mongolia",
          "Montenegro",
          "Morocco",
          "Mozambique",
          "Myanmar (Burma)",
          "Namibia",
          "Nepal",
          "Netherlands",
          "New Caledonia",
          "New Zealand",
          "Nicaragua",
          "Niger",
          "Nigeria",
          "Norfolk Island",
          "Northern Mariana Islands",
          "Norway",
          "Oman",
          "Pakistan",
          "Palestine",
          "Panama",
          "Papua New Guinea",
          "Paraguay",
          "Peru",
          "Philippines",
          "Poland",
          "Portugal",
          "Puerto Rico",
          "Qatar",
          "Romania",
          "Russia",
          "Rwanda",
          "Réunion",
          "San Marino",
          "Saudi Arabia",
          "Senegal",
          "Serbia",
          "Seychelles",
          "Sierra Leone",
          "Singapore",
          "Sint Maarten",
          "Slovakia",
          "Slovenia",
          "Somalia",
          "South Africa",
          "South Korea",
          "Spain",
          "Sri Lanka",
          "St. Kitts & Nevis",
          "St. Lucia",
          "St. Martin",
          "St. Pierre & Miquelon",
          "St. Vincent & Grenadines",
          "Sudan",
          "Suriname",
          "Swaziland",
          "Sweden",
          "Switzerland",
          "Syria",
          "São Tomé & Príncipe",
          "Taiwan",
          "Tajikistan",
          "Tanzania",
          "Thailand",
          "Timor-Leste",
          "Togo",
          "Trinidad & Tobago",
          "Tunisia",
          "Turkey",
          "Turkmenistan",
          "Turks & Caicos Islands",
          "U.S. Virgin Islands",
          "Uganda",
          "Ukraine",
          "United Arab Emirates",
          "United Kingdom",
          "United States",
          "Uruguay",
          "Uzbekistan",
          "Venezuela",
          "Vietnam",
          "Yemen",
          "Zambia",
          "Zimbabwe"
         ],
         "marker": {
          "line": {
           "color": "rgb(180,180,180)",
           "width": 0.5
          }
         },
         "text": [
          "(not set)",
          "Afghanistan",
          "Albania",
          "Algeria",
          "American Samoa",
          "Andorra",
          "Angola",
          "Anguilla",
          "Antigua & Barbuda",
          "Argentina",
          "Armenia",
          "Aruba",
          "Australia",
          "Austria",
          "Azerbaijan",
          "Bahamas",
          "Bahrain",
          "Bangladesh",
          "Barbados",
          "Belarus",
          "Belgium",
          "Belize",
          "Benin",
          "Bermuda",
          "Bhutan",
          "Bolivia",
          "Bosnia & Herzegovina",
          "Botswana",
          "Brazil",
          "British Virgin Islands",
          "Brunei",
          "Bulgaria",
          "Burkina Faso",
          "Burundi",
          "Cambodia",
          "Cameroon",
          "Canada",
          "Cape Verde",
          "Caribbean Netherlands",
          "Cayman Islands",
          "Central African Republic",
          "Chad",
          "Chile",
          "China",
          "Colombia",
          "Comoros",
          "Congo - Brazzaville",
          "Congo - Kinshasa",
          "Cook Islands",
          "Costa Rica",
          "Croatia",
          "Curaçao",
          "Cyprus",
          "Czechia",
          "Côte d’Ivoire",
          "Denmark",
          "Djibouti",
          "Dominica",
          "Dominican Republic",
          "Ecuador",
          "Egypt",
          "El Salvador",
          "Equatorial Guinea",
          "Estonia",
          "Ethiopia",
          "Faroe Islands",
          "Fiji",
          "Finland",
          "France",
          "French Guiana",
          "French Polynesia",
          "Gabon",
          "Gambia",
          "Georgia",
          "Germany",
          "Ghana",
          "Gibraltar",
          "Greece",
          "Greenland",
          "Grenada",
          "Guadeloupe",
          "Guam",
          "Guatemala",
          "Guernsey",
          "Guinea",
          "Guinea-Bissau",
          "Guyana",
          "Haiti",
          "Honduras",
          "Hong Kong",
          "Hungary",
          "Iceland",
          "India",
          "Indonesia",
          "Iran",
          "Iraq",
          "Ireland",
          "Isle of Man",
          "Israel",
          "Italy",
          "Jamaica",
          "Japan",
          "Jersey",
          "Jordan",
          "Kazakhstan",
          "Kenya",
          "Kosovo",
          "Kuwait",
          "Kyrgyzstan",
          "Laos",
          "Latvia",
          "Lebanon",
          "Lesotho",
          "Liberia",
          "Libya",
          "Liechtenstein",
          "Lithuania",
          "Luxembourg",
          "Macau",
          "Macedonia (FYROM)",
          "Madagascar",
          "Malawi",
          "Malaysia",
          "Maldives",
          "Mali",
          "Malta",
          "Marshall Islands",
          "Martinique",
          "Mauritania",
          "Mauritius",
          "Mayotte",
          "Mexico",
          "Moldova",
          "Monaco",
          "Mongolia",
          "Montenegro",
          "Morocco",
          "Mozambique",
          "Myanmar (Burma)",
          "Namibia",
          "Nepal",
          "Netherlands",
          "New Caledonia",
          "New Zealand",
          "Nicaragua",
          "Niger",
          "Nigeria",
          "Norfolk Island",
          "Northern Mariana Islands",
          "Norway",
          "Oman",
          "Pakistan",
          "Palestine",
          "Panama",
          "Papua New Guinea",
          "Paraguay",
          "Peru",
          "Philippines",
          "Poland",
          "Portugal",
          "Puerto Rico",
          "Qatar",
          "Romania",
          "Russia",
          "Rwanda",
          "Réunion",
          "San Marino",
          "Saudi Arabia",
          "Senegal",
          "Serbia",
          "Seychelles",
          "Sierra Leone",
          "Singapore",
          "Sint Maarten",
          "Slovakia",
          "Slovenia",
          "Somalia",
          "South Africa",
          "South Korea",
          "Spain",
          "Sri Lanka",
          "St. Kitts & Nevis",
          "St. Lucia",
          "St. Martin",
          "St. Pierre & Miquelon",
          "St. Vincent & Grenadines",
          "Sudan",
          "Suriname",
          "Swaziland",
          "Sweden",
          "Switzerland",
          "Syria",
          "São Tomé & Príncipe",
          "Taiwan",
          "Tajikistan",
          "Tanzania",
          "Thailand",
          "Timor-Leste",
          "Togo",
          "Trinidad & Tobago",
          "Tunisia",
          "Turkey",
          "Turkmenistan",
          "Turks & Caicos Islands",
          "U.S. Virgin Islands",
          "Uganda",
          "Ukraine",
          "United Arab Emirates",
          "United Kingdom",
          "United States",
          "Uruguay",
          "Uzbekistan",
          "Venezuela",
          "Vietnam",
          "Yemen",
          "Zambia",
          "Zimbabwe"
         ],
         "type": "choropleth",
         "z": [
          92.84978290671305,
          0,
          0,
          0,
          0,
          0,
          0,
          16.21249641737161,
          0,
          35.55785525359525,
          17.23258132159112,
          0,
          177.3887448329172,
          0,
          0,
          0,
          0,
          0,
          0,
          0,
          0,
          0,
          0,
          0,
          0,
          0,
          0,
          0,
          139.88247751487864,
          0,
          0,
          0,
          0,
          0,
          0,
          0,
          2280.2775165855496,
          0,
          0,
          0,
          0,
          0,
          86.25078286121585,
          86.98350213667419,
          108.04523671236709,
          0,
          0,
          0,
          0,
          0,
          0,
          19.14498739160802,
          18.138848209545042,
          17.617495480509895,
          0,
          17.034386422832473,
          0,
          0,
          0,
          74.89094780107948,
          17.746551588851414,
          18.157886400013957,
          0,
          0,
          0,
          0,
          0,
          17.840683679185407,
          34.26387714643566,
          0,
          0,
          0,
          0,
          16.648135552506265,
          69.5169974442927,
          0,
          0,
          0,
          0,
          0,
          17.11799200347903,
          0,
          17.370001137635498,
          0,
          0,
          0,
          0,
          0,
          0,
          167.0971954680621,
          17.32973899135924,
          0,
          123.45848121831851,
          151.58606547109818,
          0,
          0,
          66.75278045243348,
          0,
          54.97713097887223,
          18.420580748953032,
          0,
          200.9923978173121,
          0,
          0,
          33.20564409387153,
          63.84471648690163,
          0,
          37.191019511414055,
          0,
          0,
          0,
          17.523457099323274,
          0,
          0,
          0,
          0,
          0,
          0,
          0,
          0,
          0,
          0,
          19.629432067945796,
          0,
          0,
          0,
          0,
          0,
          0,
          0,
          0,
          249.4883118130919,
          0,
          0,
          0,
          0,
          0,
          0,
          0,
          0,
          0,
          52.98730537204254,
          0,
          17.686086394324608,
          17.974237394743085,
          0,
          0,
          0,
          0,
          0,
          0,
          17.87509114500629,
          0,
          16.166885910365842,
          0,
          0,
          35.763739393913085,
          34.19845452035062,
          0,
          19.18986261542223,
          123.2442471958071,
          0,
          18.145717457073182,
          51.1484623285005,
          0,
          0,
          0,
          36.52019038280787,
          0,
          0,
          0,
          0,
          125.69544259307162,
          0,
          0,
          0,
          0,
          17.76886744607557,
          106.82356242131289,
          19.723049872853363,
          0,
          0,
          16.450990137916232,
          0,
          0,
          0,
          0,
          0,
          0,
          0,
          89.2213175333692,
          0,
          0,
          269.9918270537998,
          0,
          0,
          73.07788869582018,
          0,
          0,
          0,
          0,
          34.93299658350334,
          0,
          0,
          0,
          0,
          16.905643552435652,
          18.4204807339517,
          193.3914068764904,
          125830.59608555326,
          15.068273812173887,
          0,
          1180.8557090480995,
          0,
          0,
          0,
          0
         ]
        }
       ],
       "layout": {
        "geo": {
         "projection": {
          "type": "natural earth"
         },
         "showcoastlines": true,
         "showframe": false
        },
        "title": "Total Revenue Per Country"
       }
      },
      "text/html": [
       "<div>                            <div id=\"6c1bf858-9ff9-4daf-9ffb-22b7ab3d04b8\" class=\"plotly-graph-div\" style=\"height:525px; width:100%;\"></div>            <script type=\"text/javascript\">                require([\"plotly\"], function(Plotly) {                    window.PLOTLYENV=window.PLOTLYENV || {};                                    if (document.getElementById(\"6c1bf858-9ff9-4daf-9ffb-22b7ab3d04b8\")) {                    Plotly.newPlot(                        \"6c1bf858-9ff9-4daf-9ffb-22b7ab3d04b8\",                        [{\"type\":\"choropleth\",\"locations\":[\"(not set)\",\"Afghanistan\",\"Albania\",\"Algeria\",\"American Samoa\",\"Andorra\",\"Angola\",\"Anguilla\",\"Antigua & Barbuda\",\"Argentina\",\"Armenia\",\"Aruba\",\"Australia\",\"Austria\",\"Azerbaijan\",\"Bahamas\",\"Bahrain\",\"Bangladesh\",\"Barbados\",\"Belarus\",\"Belgium\",\"Belize\",\"Benin\",\"Bermuda\",\"Bhutan\",\"Bolivia\",\"Bosnia & Herzegovina\",\"Botswana\",\"Brazil\",\"British Virgin Islands\",\"Brunei\",\"Bulgaria\",\"Burkina Faso\",\"Burundi\",\"Cambodia\",\"Cameroon\",\"Canada\",\"Cape Verde\",\"Caribbean Netherlands\",\"Cayman Islands\",\"Central African Republic\",\"Chad\",\"Chile\",\"China\",\"Colombia\",\"Comoros\",\"Congo - Brazzaville\",\"Congo - Kinshasa\",\"Cook Islands\",\"Costa Rica\",\"Croatia\",\"Cura\\u00e7ao\",\"Cyprus\",\"Czechia\",\"C\\u00f4te d\\u2019Ivoire\",\"Denmark\",\"Djibouti\",\"Dominica\",\"Dominican Republic\",\"Ecuador\",\"Egypt\",\"El Salvador\",\"Equatorial Guinea\",\"Estonia\",\"Ethiopia\",\"Faroe Islands\",\"Fiji\",\"Finland\",\"France\",\"French Guiana\",\"French Polynesia\",\"Gabon\",\"Gambia\",\"Georgia\",\"Germany\",\"Ghana\",\"Gibraltar\",\"Greece\",\"Greenland\",\"Grenada\",\"Guadeloupe\",\"Guam\",\"Guatemala\",\"Guernsey\",\"Guinea\",\"Guinea-Bissau\",\"Guyana\",\"Haiti\",\"Honduras\",\"Hong Kong\",\"Hungary\",\"Iceland\",\"India\",\"Indonesia\",\"Iran\",\"Iraq\",\"Ireland\",\"Isle of Man\",\"Israel\",\"Italy\",\"Jamaica\",\"Japan\",\"Jersey\",\"Jordan\",\"Kazakhstan\",\"Kenya\",\"Kosovo\",\"Kuwait\",\"Kyrgyzstan\",\"Laos\",\"Latvia\",\"Lebanon\",\"Lesotho\",\"Liberia\",\"Libya\",\"Liechtenstein\",\"Lithuania\",\"Luxembourg\",\"Macau\",\"Macedonia (FYROM)\",\"Madagascar\",\"Malawi\",\"Malaysia\",\"Maldives\",\"Mali\",\"Malta\",\"Marshall Islands\",\"Martinique\",\"Mauritania\",\"Mauritius\",\"Mayotte\",\"Mexico\",\"Moldova\",\"Monaco\",\"Mongolia\",\"Montenegro\",\"Morocco\",\"Mozambique\",\"Myanmar (Burma)\",\"Namibia\",\"Nepal\",\"Netherlands\",\"New Caledonia\",\"New Zealand\",\"Nicaragua\",\"Niger\",\"Nigeria\",\"Norfolk Island\",\"Northern Mariana Islands\",\"Norway\",\"Oman\",\"Pakistan\",\"Palestine\",\"Panama\",\"Papua New Guinea\",\"Paraguay\",\"Peru\",\"Philippines\",\"Poland\",\"Portugal\",\"Puerto Rico\",\"Qatar\",\"Romania\",\"Russia\",\"Rwanda\",\"R\\u00e9union\",\"San Marino\",\"Saudi Arabia\",\"Senegal\",\"Serbia\",\"Seychelles\",\"Sierra Leone\",\"Singapore\",\"Sint Maarten\",\"Slovakia\",\"Slovenia\",\"Somalia\",\"South Africa\",\"South Korea\",\"Spain\",\"Sri Lanka\",\"St. Kitts & Nevis\",\"St. Lucia\",\"St. Martin\",\"St. Pierre & Miquelon\",\"St. Vincent & Grenadines\",\"Sudan\",\"Suriname\",\"Swaziland\",\"Sweden\",\"Switzerland\",\"Syria\",\"S\\u00e3o Tom\\u00e9 & Pr\\u00edncipe\",\"Taiwan\",\"Tajikistan\",\"Tanzania\",\"Thailand\",\"Timor-Leste\",\"Togo\",\"Trinidad & Tobago\",\"Tunisia\",\"Turkey\",\"Turkmenistan\",\"Turks & Caicos Islands\",\"U.S. Virgin Islands\",\"Uganda\",\"Ukraine\",\"United Arab Emirates\",\"United Kingdom\",\"United States\",\"Uruguay\",\"Uzbekistan\",\"Venezuela\",\"Vietnam\",\"Yemen\",\"Zambia\",\"Zimbabwe\"],\"locationmode\":\"country names\",\"z\":[92.84978290671305,0.0,0.0,0.0,0.0,0.0,0.0,16.21249641737161,0.0,35.55785525359525,17.23258132159112,0.0,177.3887448329172,0.0,0.0,0.0,0.0,0.0,0.0,0.0,0.0,0.0,0.0,0.0,0.0,0.0,0.0,0.0,139.88247751487864,0.0,0.0,0.0,0.0,0.0,0.0,0.0,2280.2775165855496,0.0,0.0,0.0,0.0,0.0,86.25078286121585,86.98350213667419,108.04523671236709,0.0,0.0,0.0,0.0,0.0,0.0,19.14498739160802,18.138848209545042,17.617495480509895,0.0,17.034386422832473,0.0,0.0,0.0,74.89094780107948,17.746551588851414,18.157886400013957,0.0,0.0,0.0,0.0,0.0,17.840683679185407,34.26387714643566,0.0,0.0,0.0,0.0,16.648135552506265,69.5169974442927,0.0,0.0,0.0,0.0,0.0,17.11799200347903,0.0,17.370001137635498,0.0,0.0,0.0,0.0,0.0,0.0,167.0971954680621,17.32973899135924,0.0,123.45848121831851,151.58606547109818,0.0,0.0,66.75278045243348,0.0,54.97713097887223,18.420580748953032,0.0,200.9923978173121,0.0,0.0,33.20564409387153,63.84471648690163,0.0,37.191019511414055,0.0,0.0,0.0,17.523457099323274,0.0,0.0,0.0,0.0,0.0,0.0,0.0,0.0,0.0,0.0,19.629432067945796,0.0,0.0,0.0,0.0,0.0,0.0,0.0,0.0,249.4883118130919,0.0,0.0,0.0,0.0,0.0,0.0,0.0,0.0,0.0,52.98730537204254,0.0,17.686086394324608,17.974237394743085,0.0,0.0,0.0,0.0,0.0,0.0,17.87509114500629,0.0,16.166885910365842,0.0,0.0,35.763739393913085,34.19845452035062,0.0,19.18986261542223,123.2442471958071,0.0,18.145717457073182,51.1484623285005,0.0,0.0,0.0,36.52019038280787,0.0,0.0,0.0,0.0,125.69544259307162,0.0,0.0,0.0,0.0,17.76886744607557,106.82356242131289,19.723049872853363,0.0,0.0,16.450990137916232,0.0,0.0,0.0,0.0,0.0,0.0,0.0,89.2213175333692,0.0,0.0,269.9918270537998,0.0,0.0,73.07788869582018,0.0,0.0,0.0,0.0,34.93299658350334,0.0,0.0,0.0,0.0,16.905643552435652,18.4204807339517,193.3914068764904,125830.59608555326,15.068273812173887,0.0,1180.8557090480995,0.0,0.0,0.0,0.0],\"text\":[\"(not set)\",\"Afghanistan\",\"Albania\",\"Algeria\",\"American Samoa\",\"Andorra\",\"Angola\",\"Anguilla\",\"Antigua & Barbuda\",\"Argentina\",\"Armenia\",\"Aruba\",\"Australia\",\"Austria\",\"Azerbaijan\",\"Bahamas\",\"Bahrain\",\"Bangladesh\",\"Barbados\",\"Belarus\",\"Belgium\",\"Belize\",\"Benin\",\"Bermuda\",\"Bhutan\",\"Bolivia\",\"Bosnia & Herzegovina\",\"Botswana\",\"Brazil\",\"British Virgin Islands\",\"Brunei\",\"Bulgaria\",\"Burkina Faso\",\"Burundi\",\"Cambodia\",\"Cameroon\",\"Canada\",\"Cape Verde\",\"Caribbean Netherlands\",\"Cayman Islands\",\"Central African Republic\",\"Chad\",\"Chile\",\"China\",\"Colombia\",\"Comoros\",\"Congo - Brazzaville\",\"Congo - Kinshasa\",\"Cook Islands\",\"Costa Rica\",\"Croatia\",\"Cura\\u00e7ao\",\"Cyprus\",\"Czechia\",\"C\\u00f4te d\\u2019Ivoire\",\"Denmark\",\"Djibouti\",\"Dominica\",\"Dominican Republic\",\"Ecuador\",\"Egypt\",\"El Salvador\",\"Equatorial Guinea\",\"Estonia\",\"Ethiopia\",\"Faroe Islands\",\"Fiji\",\"Finland\",\"France\",\"French Guiana\",\"French Polynesia\",\"Gabon\",\"Gambia\",\"Georgia\",\"Germany\",\"Ghana\",\"Gibraltar\",\"Greece\",\"Greenland\",\"Grenada\",\"Guadeloupe\",\"Guam\",\"Guatemala\",\"Guernsey\",\"Guinea\",\"Guinea-Bissau\",\"Guyana\",\"Haiti\",\"Honduras\",\"Hong Kong\",\"Hungary\",\"Iceland\",\"India\",\"Indonesia\",\"Iran\",\"Iraq\",\"Ireland\",\"Isle of Man\",\"Israel\",\"Italy\",\"Jamaica\",\"Japan\",\"Jersey\",\"Jordan\",\"Kazakhstan\",\"Kenya\",\"Kosovo\",\"Kuwait\",\"Kyrgyzstan\",\"Laos\",\"Latvia\",\"Lebanon\",\"Lesotho\",\"Liberia\",\"Libya\",\"Liechtenstein\",\"Lithuania\",\"Luxembourg\",\"Macau\",\"Macedonia (FYROM)\",\"Madagascar\",\"Malawi\",\"Malaysia\",\"Maldives\",\"Mali\",\"Malta\",\"Marshall Islands\",\"Martinique\",\"Mauritania\",\"Mauritius\",\"Mayotte\",\"Mexico\",\"Moldova\",\"Monaco\",\"Mongolia\",\"Montenegro\",\"Morocco\",\"Mozambique\",\"Myanmar (Burma)\",\"Namibia\",\"Nepal\",\"Netherlands\",\"New Caledonia\",\"New Zealand\",\"Nicaragua\",\"Niger\",\"Nigeria\",\"Norfolk Island\",\"Northern Mariana Islands\",\"Norway\",\"Oman\",\"Pakistan\",\"Palestine\",\"Panama\",\"Papua New Guinea\",\"Paraguay\",\"Peru\",\"Philippines\",\"Poland\",\"Portugal\",\"Puerto Rico\",\"Qatar\",\"Romania\",\"Russia\",\"Rwanda\",\"R\\u00e9union\",\"San Marino\",\"Saudi Arabia\",\"Senegal\",\"Serbia\",\"Seychelles\",\"Sierra Leone\",\"Singapore\",\"Sint Maarten\",\"Slovakia\",\"Slovenia\",\"Somalia\",\"South Africa\",\"South Korea\",\"Spain\",\"Sri Lanka\",\"St. Kitts & Nevis\",\"St. Lucia\",\"St. Martin\",\"St. Pierre & Miquelon\",\"St. Vincent & Grenadines\",\"Sudan\",\"Suriname\",\"Swaziland\",\"Sweden\",\"Switzerland\",\"Syria\",\"S\\u00e3o Tom\\u00e9 & Pr\\u00edncipe\",\"Taiwan\",\"Tajikistan\",\"Tanzania\",\"Thailand\",\"Timor-Leste\",\"Togo\",\"Trinidad & Tobago\",\"Tunisia\",\"Turkey\",\"Turkmenistan\",\"Turks & Caicos Islands\",\"U.S. Virgin Islands\",\"Uganda\",\"Ukraine\",\"United Arab Emirates\",\"United Kingdom\",\"United States\",\"Uruguay\",\"Uzbekistan\",\"Venezuela\",\"Vietnam\",\"Yemen\",\"Zambia\",\"Zimbabwe\"],\"colorscale\":\"Jet\",\"autocolorscale\":false,\"marker\":{\"line\":{\"color\":\"rgb(180,180,180)\",\"width\":0.5}},\"colorbar\":{\"autotick\":false,\"tickprefix\":\"\",\"title\":\"Revenue\"}}],                        {\"title\":\"Total Revenue Per Country\",\"geo\":{\"showframe\":false,\"showcoastlines\":true,\"projection\":{\"type\":\"natural earth\"}}},                        {\"responsive\": true}                    ).then(function(){\n",
       "                            \n",
       "var gd = document.getElementById('6c1bf858-9ff9-4daf-9ffb-22b7ab3d04b8');\n",
       "var x = new MutationObserver(function (mutations, observer) {{\n",
       "        var display = window.getComputedStyle(gd).display;\n",
       "        if (!display || display === 'none') {{\n",
       "            console.log([gd, 'removed!']);\n",
       "            Plotly.purge(gd);\n",
       "            observer.disconnect();\n",
       "        }}\n",
       "}});\n",
       "\n",
       "// Listen for the removal of the full notebook cells\n",
       "var notebookContainer = gd.closest('#notebook-container');\n",
       "if (notebookContainer) {{\n",
       "    x.observe(notebookContainer, {childList: true});\n",
       "}}\n",
       "\n",
       "// Listen for the clearing of the current output cell\n",
       "var outputEl = gd.closest('.output');\n",
       "if (outputEl) {{\n",
       "    x.observe(outputEl, {childList: true});\n",
       "}}\n",
       "\n",
       "                        })                };                });            </script>        </div>"
      ]
     },
     "metadata": {},
     "output_type": "display_data"
    }
   ],
   "source": [
    "countMaps = df_train.groupby('geoNetwork_country')['totals_transactionRevenue_log'].sum().reset_index()\n",
    "countMaps.columns=['country', 'revenue']\n",
    "countMaps = countMaps.reset_index().drop('index', axis=1) \n",
    "\n",
    "data = [ dict(\n",
    "        type = 'choropleth',\n",
    "        locations = countMaps['country'],\n",
    "        locationmode = 'country names',\n",
    "        z = countMaps['revenue'],\n",
    "        text = countMaps['country'],\n",
    "        colorscale = 'Jet',\n",
    "        autocolorscale = False,\n",
    "        marker = dict(\n",
    "            line = dict (\n",
    "                color = 'rgb(180,180,180)',\n",
    "                width = 0.5\n",
    "            ) ),\n",
    "        colorbar = dict(\n",
    "            autotick = False,\n",
    "            tickprefix = '',\n",
    "            title = 'Revenue'),\n",
    "      ) ]\n",
    "\n",
    "layout = dict(\n",
    "    title = 'Total Revenue Per Country',\n",
    "    geo = dict(\n",
    "        showframe = False,\n",
    "        showcoastlines = True,\n",
    "        projection = dict(\n",
    "            type = 'natural earth'\n",
    "        )\n",
    "    )\n",
    ")\n",
    "\n",
    "figure = dict( data=data, layout=layout )\n",
    "iplot(figure, validate=False, filename='map-countrys-count')"
   ]
  },
  {
   "cell_type": "code",
   "execution_count": 74,
   "metadata": {},
   "outputs": [],
   "source": [
    "df_train.drop(columns='totals_transactionRevenue_log', inplace=True)"
   ]
  },
  {
   "cell_type": "markdown",
   "metadata": {},
   "source": [
    "### Создадим новые фичи"
   ]
  },
  {
   "cell_type": "code",
   "execution_count": 75,
   "metadata": {},
   "outputs": [],
   "source": [
    "df_train['totals_hits'] = df_train['totals_hits'].astype(int)\n",
    "df_test['totals_hits'] = df_test['totals_hits'].astype(int)"
   ]
  },
  {
   "cell_type": "code",
   "execution_count": 76,
   "metadata": {},
   "outputs": [],
   "source": [
    "# Нормализация посещенных страниц\n",
    "def Normalizing(df):\n",
    "    df[\"totals_hits\"] =  (df['totals_hits'] - min(df['totals_hits'])) / (max(df['totals_hits'])  - min(df['totals_hits']))\n",
    "    return df"
   ]
  },
  {
   "cell_type": "code",
   "execution_count": 77,
   "metadata": {},
   "outputs": [],
   "source": [
    "df_train = Normalizing(df_train)\n",
    "df_test = Normalizing(df_test)"
   ]
  },
  {
   "cell_type": "markdown",
   "metadata": {},
   "source": [
    "Добавим некоторые агрегированные данные"
   ]
  },
  {
   "cell_type": "code",
   "execution_count": 78,
   "metadata": {},
   "outputs": [],
   "source": [
    "from utils_EDA import add_aggregated_features"
   ]
  },
  {
   "cell_type": "code",
   "execution_count": 79,
   "metadata": {},
   "outputs": [
    {
     "name": "stdout",
     "output_type": "stream",
     "text": [
      "Original DataFrame shape: (633210, 33)\n",
      "Aggregated DataFrame sample:                       date_min   date_max  totals_hits_sum  totals_hits_min  \\\n",
      "fullVisitorId                                                                 \n",
      "0000010278554503158 2016-10-20 2016-10-20         0.020040         0.020040   \n",
      "0000020424342248747 2016-11-30 2016-11-30         0.032064         0.032064   \n",
      "0000027376579751715 2017-02-11 2017-02-11         0.010020         0.010020   \n",
      "0000039460501403861 2017-03-27 2017-03-27         0.002004         0.002004   \n",
      "0000040862739425590 2017-02-11 2017-02-11         0.006012         0.002004   \n",
      "\n",
      "                     totals_hits_max  totals_hits_mean  totals_hits_median  \\\n",
      "fullVisitorId                                                                \n",
      "0000010278554503158         0.020040          0.020040            0.020040   \n",
      "0000020424342248747         0.032064          0.032064            0.032064   \n",
      "0000027376579751715         0.010020          0.010020            0.010020   \n",
      "0000039460501403861         0.002004          0.002004            0.002004   \n",
      "0000040862739425590         0.004008          0.003006            0.003006   \n",
      "\n",
      "                     totals_pageviews_sum  totals_pageviews_min  \\\n",
      "fullVisitorId                                                     \n",
      "0000010278554503158                     8                     8   \n",
      "0000020424342248747                    13                    13   \n",
      "0000027376579751715                     5                     5   \n",
      "0000039460501403861                     2                     2   \n",
      "0000040862739425590                     5                     2   \n",
      "\n",
      "                     totals_pageviews_max  totals_pageviews_mean  \\\n",
      "fullVisitorId                                                      \n",
      "0000010278554503158                     8                    8.0   \n",
      "0000020424342248747                    13                   13.0   \n",
      "0000027376579751715                     5                    5.0   \n",
      "0000039460501403861                     2                    2.0   \n",
      "0000040862739425590                     3                    2.5   \n",
      "\n",
      "                     totals_pageviews_median  totals_bounces_sum  \\\n",
      "fullVisitorId                                                      \n",
      "0000010278554503158                      8.0                   0   \n",
      "0000020424342248747                     13.0                   0   \n",
      "0000027376579751715                      5.0                   0   \n",
      "0000039460501403861                      2.0                   0   \n",
      "0000040862739425590                      2.5                   0   \n",
      "\n",
      "                     totals_bounces_mean  totals_bounces_median  \\\n",
      "fullVisitorId                                                     \n",
      "0000010278554503158                  0.0                    0.0   \n",
      "0000020424342248747                  0.0                    0.0   \n",
      "0000027376579751715                  0.0                    0.0   \n",
      "0000039460501403861                  0.0                    0.0   \n",
      "0000040862739425590                  0.0                    0.0   \n",
      "\n",
      "                     totals_newVisits_sum  totals_newVisits_mean  \\\n",
      "fullVisitorId                                                      \n",
      "0000010278554503158                     1                    1.0   \n",
      "0000020424342248747                     1                    1.0   \n",
      "0000027376579751715                     1                    1.0   \n",
      "0000039460501403861                     1                    1.0   \n",
      "0000040862739425590                     1                    0.5   \n",
      "\n",
      "                     totals_newVisits_median  \n",
      "fullVisitorId                                 \n",
      "0000010278554503158                      1.0  \n",
      "0000020424342248747                      1.0  \n",
      "0000027376579751715                      1.0  \n",
      "0000039460501403861                      1.0  \n",
      "0000040862739425590                      0.5  \n",
      "Modified DataFrame shape after merge: (633210, 51)\n",
      "Original DataFrame shape: (164212, 33)\n",
      "Aggregated DataFrame sample:                       date_min   date_max  totals_hits_sum  totals_hits_min  \\\n",
      "fullVisitorId                                                                 \n",
      "0000068403966359845 2017-04-03 2017-04-03         0.002841         0.002841   \n",
      "0000197671390269035 2017-05-02 2017-05-02         0.000000         0.000000   \n",
      "0000213131142648941 2017-04-28 2017-04-28         0.036932         0.036932   \n",
      "000026722803385797  2017-06-05 2017-06-05         0.005682         0.005682   \n",
      "0000291342601222013 2017-04-01 2017-04-01         0.005682         0.005682   \n",
      "\n",
      "                     totals_hits_max  totals_hits_mean  totals_hits_median  \\\n",
      "fullVisitorId                                                                \n",
      "0000068403966359845         0.002841          0.002841            0.002841   \n",
      "0000197671390269035         0.000000          0.000000            0.000000   \n",
      "0000213131142648941         0.036932          0.036932            0.036932   \n",
      "000026722803385797          0.005682          0.005682            0.005682   \n",
      "0000291342601222013         0.005682          0.005682            0.005682   \n",
      "\n",
      "                     totals_pageviews_sum  totals_pageviews_min  \\\n",
      "fullVisitorId                                                     \n",
      "0000068403966359845                     2                     2   \n",
      "0000197671390269035                     1                     1   \n",
      "0000213131142648941                    13                    13   \n",
      "000026722803385797                      2                     2   \n",
      "0000291342601222013                     3                     3   \n",
      "\n",
      "                     totals_pageviews_max  totals_pageviews_mean  \\\n",
      "fullVisitorId                                                      \n",
      "0000068403966359845                     2                    2.0   \n",
      "0000197671390269035                     1                    1.0   \n",
      "0000213131142648941                    13                   13.0   \n",
      "000026722803385797                      2                    2.0   \n",
      "0000291342601222013                     3                    3.0   \n",
      "\n",
      "                     totals_pageviews_median  totals_bounces_sum  \\\n",
      "fullVisitorId                                                      \n",
      "0000068403966359845                      2.0                   0   \n",
      "0000197671390269035                      1.0                   1   \n",
      "0000213131142648941                     13.0                   0   \n",
      "000026722803385797                       2.0                   0   \n",
      "0000291342601222013                      3.0                   0   \n",
      "\n",
      "                     totals_bounces_mean  totals_bounces_median  \\\n",
      "fullVisitorId                                                     \n",
      "0000068403966359845                  0.0                    0.0   \n",
      "0000197671390269035                  1.0                    1.0   \n",
      "0000213131142648941                  0.0                    0.0   \n",
      "000026722803385797                   0.0                    0.0   \n",
      "0000291342601222013                  0.0                    0.0   \n",
      "\n",
      "                     totals_newVisits_sum  totals_newVisits_mean  \\\n",
      "fullVisitorId                                                      \n",
      "0000068403966359845                     1                    1.0   \n",
      "0000197671390269035                     1                    1.0   \n",
      "0000213131142648941                     1                    1.0   \n",
      "000026722803385797                      1                    1.0   \n",
      "0000291342601222013                     1                    1.0   \n",
      "\n",
      "                     totals_newVisits_median  \n",
      "fullVisitorId                                 \n",
      "0000068403966359845                      1.0  \n",
      "0000197671390269035                      1.0  \n",
      "0000213131142648941                      1.0  \n",
      "000026722803385797                       1.0  \n",
      "0000291342601222013                      1.0  \n",
      "Modified DataFrame shape after merge: (164212, 51)\n"
     ]
    }
   ],
   "source": [
    "aggs = {\n",
    "    'date': ['min', 'max'],\n",
    "    'totals_hits': ['sum', 'min', 'max', 'mean', 'median'],\n",
    "    'totals_pageviews': ['sum', 'min', 'max', 'mean', 'median'],\n",
    "    'totals_bounces': ['sum', 'mean', 'median'],\n",
    "    'totals_newVisits': ['sum', 'mean', 'median']\n",
    "}\n",
    "\n",
    "df_train = add_aggregated_features(df_train, aggs)\n",
    "df_test = add_aggregated_features(df_test, aggs)"
   ]
  },
  {
   "cell_type": "markdown",
   "metadata": {},
   "source": [
    "Произведем энкодинг категориальных фич"
   ]
  },
  {
   "cell_type": "code",
   "execution_count": 80,
   "metadata": {},
   "outputs": [],
   "source": [
    "cat_features = []\n",
    "\n",
    "for df in [df_train, df_test]:\n",
    "    for col in df.columns:\n",
    "        if col in ['fullVisitorId', 'sessionId']:\n",
    "            continue\n",
    "        if df[col].dtypes == object or df[col].dtypes == bool:\n",
    "            df[col], indexer = pd.factorize(df[col])\n",
    "            cat_features.append(col)"
   ]
  },
  {
   "cell_type": "markdown",
   "metadata": {},
   "source": [
    "Случайно в цикле с датафреймами это сделал, очистим от дубликатов и запишем категориальные фичи в json файл"
   ]
  },
  {
   "cell_type": "code",
   "execution_count": 86,
   "metadata": {},
   "outputs": [],
   "source": [
    "with open('cat_features.json', 'w') as file:\n",
    "    json.dump(cat_features[:int(len(cat_features)/2)], file)"
   ]
  },
  {
   "cell_type": "markdown",
   "metadata": {},
   "source": [
    "### Сохраняем данные"
   ]
  },
  {
   "cell_type": "code",
   "execution_count": 40,
   "metadata": {},
   "outputs": [],
   "source": [
    "df_train.to_parquet(\"train_pr.parquet\", index=False)\n",
    "df_test.to_parquet(\"test_pr.parquet\", index=False)"
   ]
  }
 ],
 "metadata": {
  "kernelspec": {
   "display_name": "base",
   "language": "python",
   "name": "python3"
  },
  "language_info": {
   "codemirror_mode": {
    "name": "ipython",
    "version": 3
   },
   "file_extension": ".py",
   "mimetype": "text/x-python",
   "name": "python",
   "nbconvert_exporter": "python",
   "pygments_lexer": "ipython3",
   "version": "3.9.18"
  }
 },
 "nbformat": 4,
 "nbformat_minor": 2
}
